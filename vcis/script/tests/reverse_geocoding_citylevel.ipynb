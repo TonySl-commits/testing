{
 "cells": [
  {
   "cell_type": "code",
   "execution_count": 3,
   "metadata": {},
   "outputs": [],
   "source": [
    "\n",
    "from vcis.reverse_geocoder.reverse_geocoder_polygon import ReverseGeocoder\n",
    "from vcis.databases.oracle.oracle_tools import OracleTools\n",
    "oracle_tool = OracleTools()\n",
    "gdf = oracle_tool.get_all_cities_geopandas()"
   ]
  },
  {
   "cell_type": "code",
   "execution_count": 35,
   "metadata": {},
   "outputs": [
    {
     "name": "stdout",
     "output_type": "stream",
     "text": [
      "['AFG' 'AGO' 'ALB' 'ARM' 'ASM' 'ATA' 'AZE' 'BDI' 'BEN' 'BFA' 'BGD' 'BGR'\n",
      " 'BIH' 'BLR' 'BLZ' 'BOL' 'BRA' 'BTN' 'BWA' 'CAF' 'CHN' 'CIV' 'CMR' 'COD'\n",
      " 'COG' 'COL' 'COM' 'CPV' 'CRI' 'CUB' 'DJI' 'DMA' 'DOM' 'DZA' 'ECU' 'EGY'\n",
      " 'ERI' 'ETH' 'FJI' 'GAB' 'GEO' 'GGY' 'GHA' 'GIN' 'GMB' 'GNB' 'GNQ' 'GRD'\n",
      " 'GTM' 'GUY' 'HND' 'HTI' 'IDN' 'IND' 'IRN' 'IRQ' 'JAM' 'JOR' 'KAZ' 'KEN'\n",
      " 'KGZ' 'KHM' 'KIR' 'LAO' 'LBN' 'LBY' 'LCA' 'LKA' 'LSO' 'MAR' 'MDA' 'MDG'\n",
      " 'MDV' 'MEX' 'MHL' 'MMR' 'MNE' 'MNG' 'MOZ' 'MRT' 'MUS' 'MWI' 'MYS' 'NAM'\n",
      " 'NER' 'NGA' 'NIC' 'NPL' 'NRU' 'PAK' 'PCN' 'PER' 'PNG' 'PRY' 'PSE' 'ROU'\n",
      " 'RUS' 'RWA' 'SLB' 'SLE' 'SLV' 'SOM' 'SRB' 'STP' 'SUR' 'SWZ' 'SYR' 'TCD'\n",
      " 'TGO' 'THA' 'TJK' 'TKM' 'TLS' 'TON' 'TUN' 'TUR' 'TUV' 'TZA' 'UGA' 'UKR'\n",
      " 'UZB' 'VCT' 'VEN' 'VNM' 'VUT' 'WSM' 'YEM' 'ZMB']\n"
     ]
    },
    {
     "data": {
      "text/plain": [
       "shapename     774371\n",
       "shapeiso         324\n",
       "shapeid       774432\n",
       "shapegroup    774432\n",
       "shapetype     774432\n",
       "geometry      774432\n",
       "dtype: int64"
      ]
     },
     "execution_count": 35,
     "metadata": {},
     "output_type": "execute_result"
    }
   ],
   "source": [
    "import numpy as np\n",
    "\n",
    "# gdf.to_file('sample_points.geojson', driver='GeoJSON')\n",
    "\n",
    "print(np.sort(gdf[\"shapegroup\"].unique()))\n",
    "gdf.count()\n"
   ]
  },
  {
   "cell_type": "code",
   "execution_count": 31,
   "metadata": {},
   "outputs": [],
   "source": [
    "import numpy as np\n",
    "import pandas as pd\n",
    "import geopandas as gpd\n",
    "from shapely.geometry import Point, Polygon\n",
    "import os\n",
    "import math\n",
    "import folium\n",
    "import warnings\n",
    "from vcis.databases.cassandra import cassandra_tools\n",
    "cached_results= {}\n",
    "\n",
    "\n",
    "world = gdf\n",
    "def reverse_geocode_point(point):\n",
    "        if point in cached_results:\n",
    "            return cached_results[point]\n",
    "        \n",
    "        possible_matches_idx = list(world.sindex.intersection(point.bounds))\n",
    "        possible_matches = world.iloc[possible_matches_idx]\n",
    "        country_info = possible_matches[possible_matches.geometry.contains(point)][['shapename', 'shapegroup']].to_dict(orient='records')\n",
    "        \n",
    "        if not country_info:\n",
    "            closest_idx = world['geometry'].distance(point).idxmin()\n",
    "            country_info = [{'shapename': world.loc[closest_idx, 'shapename'], 'shapegroup': world.loc[closest_idx, 'shapegroup']}]\n",
    "        \n",
    "        cached_results[point] = country_info\n",
    "        return country_info\n",
    "\n",
    "def reverse_geocode_multipoints(df, with_Binning=False):\n",
    "    if with_Binning:\n",
    "        points = [Point(xy) for xy in zip(df['longitude_grid'], df['latitude_grid'])]\n",
    "    else:\n",
    "        points = [Point(xy) for xy in zip(df['LOCATION_LONGITUDE'], df['LOCATION_LATITUDE'])]\n",
    "\n",
    "    country_info = []\n",
    "    for point in points:\n",
    "        result = reverse_geocode_point(point)\n",
    "        # Make sure the result dictionary has both 'NAME' and 'country_code' keys\n",
    "        \n",
    "        country_info.extend(result)\n",
    "    return country_info\n",
    "\n",
    "\n",
    "# def reverse_geocode_with_Binning( df, step_distance=200):\n",
    "#     df = binning(df, step_distance)\n",
    "#     country_names = self.reverse_geocode_multipoints(df, with_Binning=True)\n",
    "#     return country_names\n",
    "# def get_step_size(self, distance=1):\n",
    "#     latitude = 33.8\n",
    "#     one_degree_lat = 110.574\n",
    "#     one_degree_lat_radians = math.radians(latitude)\n",
    "#     one_degree_long = 111.320 * math.cos(one_degree_lat_radians)\n",
    "#     step_lon = (distance / (one_degree_long * 1000))\n",
    "#     step_lat = (distance / (one_degree_lat * 1000))\n",
    "#     return step_lat, step_lon\n",
    "\n",
    "# def binning_lat(self, data, step):\n",
    "#     to_bin = lambda x: np.floor(x / step) * step\n",
    "#     data.loc[:, \"latitude_grid\"] = data['LOCATION_LATITUDE'].apply(to_bin)\n",
    "#     data.loc[:, \"latitude_grid\"] = data['latitude_grid'] + step / 2\n",
    "#     return data\n",
    "\n",
    "# def binning_lon(self, data, step):\n",
    "#     to_bin = lambda x: np.floor(x / step) * step\n",
    "#     data.loc[:, \"longitude_grid\"] = data['LOCATION_LONGITUDE'].apply(to_bin)\n",
    "#     data.loc[:, \"longitude_grid\"] = data['longitude_grid'] + step / 2\n",
    "#     return data\n",
    "\n",
    "# def binning(self, data, distance=200):\n",
    "#     step_lat, step_lon = self.get_step_size(distance=distance)\n",
    "#     data = self.binning_lat(data, step_lat)\n",
    "#     data = self.binning_lon(data, step_lon)\n",
    "#     return data"
   ]
  },
  {
   "cell_type": "code",
   "execution_count": 33,
   "metadata": {},
   "outputs": [
    {
     "name": "stdout",
     "output_type": "stream",
     "text": [
      "Reverse geocoding for a single point:\n",
      "[{'shapename': '?????? ???????', 'shapegroup': 'IRN'}]\n",
      "\n",
      "Reverse geocoding for multiple points:\n",
      "[{'shapename': 'Ascensión', 'shapegroup': 'MEX'}, {'shapename': 'Jiménez', 'shapegroup': 'MEX'}, {'shapename': 'Hecelchakán', 'shapegroup': 'MEX'}, {'shapename': '?????? ??????', 'shapegroup': 'IRN'}, {'shapename': 'Kayakentsky District', 'shapegroup': 'RUS'}, {'shapename': 'Paris Paris', 'shapegroup': 'EGY'}, {'shapename': 'Cherdaklinsky District', 'shapegroup': 'RUS'}, {'shapename': 'Pinezhsky District', 'shapegroup': 'RUS'}, {'shapename': 'Kursumlija Municipality', 'shapegroup': 'SRB'}, {'shapename': 'Silifke', 'shapegroup': 'TUR'}]\n"
     ]
    }
   ],
   "source": [
    "point = Point(48.5, 35)\n",
    "print(\"Reverse geocoding for a single point:\")\n",
    "print(reverse_geocode_point(point))\n",
    "\n",
    "\n",
    "# Test reverse geocoding for multiple points\n",
    "df = pd.DataFrame({'LOCATION_LONGITUDE': [-110, -100, -90,48,49,30,49,44,21,34], 'LOCATION_LATITUDE': [40, 30, 20,33,43,23,54,65,43,36]})\n",
    "print(\"\\nReverse geocoding for multiple points:\")\n",
    "print(reverse_geocode_multipoints(df))"
   ]
  }
 ],
 "metadata": {
  "kernelspec": {
   "display_name": "rcdr",
   "language": "python",
   "name": "python3"
  },
  "language_info": {
   "codemirror_mode": {
    "name": "ipython",
    "version": 3
   },
   "file_extension": ".py",
   "mimetype": "text/x-python",
   "name": "python",
   "nbconvert_exporter": "python",
   "pygments_lexer": "ipython3",
   "version": "3.10.0"
  }
 },
 "nbformat": 4,
 "nbformat_minor": 2
}
