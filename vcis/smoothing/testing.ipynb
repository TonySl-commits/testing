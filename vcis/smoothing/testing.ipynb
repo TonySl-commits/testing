{
 "cells": [
  {
   "cell_type": "code",
   "execution_count": 1,
   "metadata": {},
   "outputs": [
    {
     "name": "stdout",
     "output_type": "stream",
     "text": [
      "Index(['service_provider_id', 'imsi_id', 'usage_timeframe', 'cgi_id',\n",
      "       'data_source_id', 'data_type', 'imei_id', 'location_azimuth',\n",
      "       'location_latitude', 'location_longitude', 'phone_number', 'type_id'],\n",
      "      dtype='object')\n"
     ]
    },
    {
     "data": {
      "text/html": [
       "<div>\n",
       "<style scoped>\n",
       "    .dataframe tbody tr th:only-of-type {\n",
       "        vertical-align: middle;\n",
       "    }\n",
       "\n",
       "    .dataframe tbody tr th {\n",
       "        vertical-align: top;\n",
       "    }\n",
       "\n",
       "    .dataframe thead th {\n",
       "        text-align: right;\n",
       "    }\n",
       "</style>\n",
       "<table border=\"1\" class=\"dataframe\">\n",
       "  <thead>\n",
       "    <tr style=\"text-align: right;\">\n",
       "      <th></th>\n",
       "      <th>service_provider_id</th>\n",
       "      <th>imsi_id</th>\n",
       "      <th>usage_timeframe</th>\n",
       "      <th>cgi_id</th>\n",
       "      <th>data_source_id</th>\n",
       "      <th>data_type</th>\n",
       "      <th>imei_id</th>\n",
       "      <th>location_azimuth</th>\n",
       "      <th>location_latitude</th>\n",
       "      <th>location_longitude</th>\n",
       "      <th>phone_number</th>\n",
       "      <th>type_id</th>\n",
       "    </tr>\n",
       "  </thead>\n",
       "  <tbody>\n",
       "    <tr>\n",
       "      <th>0</th>\n",
       "      <td>10</td>\n",
       "      <td>151967466595180</td>\n",
       "      <td>1704797013785</td>\n",
       "      <td>10521857</td>\n",
       "      <td>NaN</td>\n",
       "      <td>NaN</td>\n",
       "      <td>509593926863172</td>\n",
       "      <td>60</td>\n",
       "      <td>33.8901</td>\n",
       "      <td>35.5566</td>\n",
       "      <td>96103311097</td>\n",
       "      <td>NaN</td>\n",
       "    </tr>\n",
       "    <tr>\n",
       "      <th>1</th>\n",
       "      <td>10</td>\n",
       "      <td>151967466595180</td>\n",
       "      <td>1704797058783</td>\n",
       "      <td>10521857</td>\n",
       "      <td>NaN</td>\n",
       "      <td>NaN</td>\n",
       "      <td>509593926863172</td>\n",
       "      <td>60</td>\n",
       "      <td>33.8901</td>\n",
       "      <td>35.5566</td>\n",
       "      <td>96103311097</td>\n",
       "      <td>NaN</td>\n",
       "    </tr>\n",
       "    <tr>\n",
       "      <th>2</th>\n",
       "      <td>10</td>\n",
       "      <td>151967466595180</td>\n",
       "      <td>1704797130988</td>\n",
       "      <td>10521857</td>\n",
       "      <td>NaN</td>\n",
       "      <td>NaN</td>\n",
       "      <td>509593926863172</td>\n",
       "      <td>60</td>\n",
       "      <td>33.8901</td>\n",
       "      <td>35.5566</td>\n",
       "      <td>96103311097</td>\n",
       "      <td>NaN</td>\n",
       "    </tr>\n",
       "    <tr>\n",
       "      <th>3</th>\n",
       "      <td>10</td>\n",
       "      <td>151967466595180</td>\n",
       "      <td>1704797204502</td>\n",
       "      <td>10521857</td>\n",
       "      <td>NaN</td>\n",
       "      <td>NaN</td>\n",
       "      <td>509593926863172</td>\n",
       "      <td>60</td>\n",
       "      <td>33.8901</td>\n",
       "      <td>35.5566</td>\n",
       "      <td>96103311097</td>\n",
       "      <td>NaN</td>\n",
       "    </tr>\n",
       "    <tr>\n",
       "      <th>4</th>\n",
       "      <td>10</td>\n",
       "      <td>151967466595180</td>\n",
       "      <td>1704797204520</td>\n",
       "      <td>10521857</td>\n",
       "      <td>NaN</td>\n",
       "      <td>NaN</td>\n",
       "      <td>509593926863172</td>\n",
       "      <td>60</td>\n",
       "      <td>33.8901</td>\n",
       "      <td>35.5566</td>\n",
       "      <td>96103311097</td>\n",
       "      <td>NaN</td>\n",
       "    </tr>\n",
       "    <tr>\n",
       "      <th>...</th>\n",
       "      <td>...</td>\n",
       "      <td>...</td>\n",
       "      <td>...</td>\n",
       "      <td>...</td>\n",
       "      <td>...</td>\n",
       "      <td>...</td>\n",
       "      <td>...</td>\n",
       "      <td>...</td>\n",
       "      <td>...</td>\n",
       "      <td>...</td>\n",
       "      <td>...</td>\n",
       "      <td>...</td>\n",
       "    </tr>\n",
       "    <tr>\n",
       "      <th>29995</th>\n",
       "      <td>10</td>\n",
       "      <td>151967466595180</td>\n",
       "      <td>1705563474833</td>\n",
       "      <td>10556674</td>\n",
       "      <td>NaN</td>\n",
       "      <td>NaN</td>\n",
       "      <td>509593926863172</td>\n",
       "      <td>170</td>\n",
       "      <td>33.8737</td>\n",
       "      <td>35.5149</td>\n",
       "      <td>96103311097</td>\n",
       "      <td>NaN</td>\n",
       "    </tr>\n",
       "    <tr>\n",
       "      <th>29996</th>\n",
       "      <td>10</td>\n",
       "      <td>151967466595180</td>\n",
       "      <td>1705563478949</td>\n",
       "      <td>10570753</td>\n",
       "      <td>NaN</td>\n",
       "      <td>NaN</td>\n",
       "      <td>509593926863172</td>\n",
       "      <td>110</td>\n",
       "      <td>33.8693</td>\n",
       "      <td>35.5124</td>\n",
       "      <td>96103311097</td>\n",
       "      <td>NaN</td>\n",
       "    </tr>\n",
       "    <tr>\n",
       "      <th>29997</th>\n",
       "      <td>10</td>\n",
       "      <td>151967466595180</td>\n",
       "      <td>1705563517836</td>\n",
       "      <td>10570753</td>\n",
       "      <td>NaN</td>\n",
       "      <td>NaN</td>\n",
       "      <td>509593926863172</td>\n",
       "      <td>110</td>\n",
       "      <td>33.8693</td>\n",
       "      <td>35.5124</td>\n",
       "      <td>96103311097</td>\n",
       "      <td>NaN</td>\n",
       "    </tr>\n",
       "    <tr>\n",
       "      <th>29998</th>\n",
       "      <td>10</td>\n",
       "      <td>151967466595180</td>\n",
       "      <td>1705563517854</td>\n",
       "      <td>10570753</td>\n",
       "      <td>NaN</td>\n",
       "      <td>NaN</td>\n",
       "      <td>509593926863172</td>\n",
       "      <td>110</td>\n",
       "      <td>33.8693</td>\n",
       "      <td>35.5124</td>\n",
       "      <td>96103311097</td>\n",
       "      <td>NaN</td>\n",
       "    </tr>\n",
       "    <tr>\n",
       "      <th>29999</th>\n",
       "      <td>10</td>\n",
       "      <td>151967466595180</td>\n",
       "      <td>1705563517882</td>\n",
       "      <td>10532614</td>\n",
       "      <td>NaN</td>\n",
       "      <td>NaN</td>\n",
       "      <td>509593926863172</td>\n",
       "      <td>50</td>\n",
       "      <td>33.8838</td>\n",
       "      <td>35.4920</td>\n",
       "      <td>96103311097</td>\n",
       "      <td>NaN</td>\n",
       "    </tr>\n",
       "  </tbody>\n",
       "</table>\n",
       "<p>30000 rows × 12 columns</p>\n",
       "</div>"
      ],
      "text/plain": [
       "       service_provider_id          imsi_id  usage_timeframe    cgi_id  \\\n",
       "0                       10  151967466595180    1704797013785  10521857   \n",
       "1                       10  151967466595180    1704797058783  10521857   \n",
       "2                       10  151967466595180    1704797130988  10521857   \n",
       "3                       10  151967466595180    1704797204502  10521857   \n",
       "4                       10  151967466595180    1704797204520  10521857   \n",
       "...                    ...              ...              ...       ...   \n",
       "29995                   10  151967466595180    1705563474833  10556674   \n",
       "29996                   10  151967466595180    1705563478949  10570753   \n",
       "29997                   10  151967466595180    1705563517836  10570753   \n",
       "29998                   10  151967466595180    1705563517854  10570753   \n",
       "29999                   10  151967466595180    1705563517882  10532614   \n",
       "\n",
       "       data_source_id  data_type          imei_id location_azimuth  \\\n",
       "0                 NaN        NaN  509593926863172               60   \n",
       "1                 NaN        NaN  509593926863172               60   \n",
       "2                 NaN        NaN  509593926863172               60   \n",
       "3                 NaN        NaN  509593926863172               60   \n",
       "4                 NaN        NaN  509593926863172               60   \n",
       "...               ...        ...              ...              ...   \n",
       "29995             NaN        NaN  509593926863172              170   \n",
       "29996             NaN        NaN  509593926863172              110   \n",
       "29997             NaN        NaN  509593926863172              110   \n",
       "29998             NaN        NaN  509593926863172              110   \n",
       "29999             NaN        NaN  509593926863172               50   \n",
       "\n",
       "       location_latitude  location_longitude  phone_number  type_id  \n",
       "0                33.8901             35.5566   96103311097      NaN  \n",
       "1                33.8901             35.5566   96103311097      NaN  \n",
       "2                33.8901             35.5566   96103311097      NaN  \n",
       "3                33.8901             35.5566   96103311097      NaN  \n",
       "4                33.8901             35.5566   96103311097      NaN  \n",
       "...                  ...                 ...           ...      ...  \n",
       "29995            33.8737             35.5149   96103311097      NaN  \n",
       "29996            33.8693             35.5124   96103311097      NaN  \n",
       "29997            33.8693             35.5124   96103311097      NaN  \n",
       "29998            33.8693             35.5124   96103311097      NaN  \n",
       "29999            33.8838             35.4920   96103311097      NaN  \n",
       "\n",
       "[30000 rows x 12 columns]"
      ]
     },
     "execution_count": 1,
     "metadata": {},
     "output_type": "execute_result"
    }
   ],
   "source": [
    "import pandas as pd\n",
    "from geopy.distance import geodesic\n",
    "\n",
    "# Load the dataset\n",
    "df = pd.read_csv(r'/u01/jupyter-scripts/TonyS/VCIS/device_history_imsi_30000rows.csv', index_col=0)\n",
    "\n",
    "print(df.columns)\n",
    "df"
   ]
  },
  {
   "cell_type": "code",
   "execution_count": null,
   "metadata": {},
   "outputs": [],
   "source": [
    "# Method 1: Complex \n",
    "# import pandas as pd\n",
    "import numpy as np\n",
    "from geopy.distance import geodesic\n",
    "from sklearn.cluster import DBSCAN\n",
    "from sklearn.ensemble import IsolationForest\n",
    "from sklearn.preprocessing import StandardScaler, LabelEncoder\n",
    "# from statsmodels.tsa.arima.model import ARIMA\n",
    "import folium\n",
    "\n",
    "\n",
    "# Function to calculate haversine distance between two points\n",
    "def haversine_distance(lat1, lon1, lat2, lon2):\n",
    "    point1 = (lat1, lon1)\n",
    "    point2 = (lat2, lon2)\n",
    "    return geodesic(point1, point2).kilometers\n",
    "\n",
    "\n",
    "# Calculate distance between successive points (prior and subsequent)\n",
    "df['Distance_Prior'] = df.apply(\n",
    "    lambda row: haversine_distance(\n",
    "        row['location_latitude'], row['location_longitude'],\n",
    "        df.loc[row.name - 1, 'location_latitude'], df.loc[row.name - 1, 'location_longitude']\n",
    "    ) if row.name > 0 else None,  # Handle first row (no prior row)\n",
    "    axis=1\n",
    ")\n",
    "\n",
    "df['Distance_Subsequent'] = df.apply(\n",
    "    lambda row: haversine_distance(\n",
    "        row['location_latitude'], row['location_longitude'],\n",
    "        df.loc[row.name + 1, 'location_latitude'], df.loc[row.name + 1, 'location_longitude']\n",
    "    ) if row.name < len(df) - 1 else None,  # Handle last row (no next row)\n",
    "    axis=1\n",
    ")\n",
    "\n",
    "\n",
    "df['START_DATE'] = pd.to_datetime(df['START_DATE'])\n",
    "\n",
    "# Calculate time difference in hours (prior and subsequent)\n",
    "df['TimeDiff_Prior'] = df['START_DATE'].apply(lambda x: int(x.timestamp())).diff() / 3600  # convert to hours\n",
    "df['TimeDiff_Subsequent'] = df['START_DATE'].apply(lambda x: int(x.timestamp())).diff().shift(-1) / 3600  # convert to hours\n",
    "\n",
    "# Calculate speed based on prior and subsequent distances and time differences\n",
    "df['Speed_Prior'] = df['Distance_Prior'] / df['TimeDiff_Prior']\n",
    "df['Speed_Subsequent'] = df['Distance_Subsequent'] / df['TimeDiff_Subsequent']\n",
    "\n",
    "df.replace([np.inf, -np.inf], np.nan, inplace=True)\n",
    "# Feature selection\n",
    "features = df[['CELL_ID_START','location_latitude', 'location_longitude', 'Distance_Prior', 'Speed_Prior', 'Distance_Subsequent', 'Speed_Subsequent']].fillna(0)\n",
    "\n",
    "# Encode categorical string features\n",
    "label_encoder = LabelEncoder()\n",
    "features[\"CELL_ID_START\"] = label_encoder.fit_transform(features['CELL_ID_START'])\n",
    "\n",
    "\n",
    "# Step 1: Distance-based anomaly detection\n",
    "distance_threshold = 10  # in kilometers\n",
    "df['DistanceAnomaly'] = (df['Distance_Prior'] > distance_threshold) | (df['Distance_Subsequent'] > distance_threshold)\n",
    "\n",
    "# Step 2: Speed-based anomaly detection\n",
    "speed_threshold = 120  # in km/h\n",
    "df['SpeedAnomaly'] = (df['Speed_Prior'] > speed_threshold) | (df['Speed_Subsequent'] > speed_threshold)\n",
    "\n",
    "\n",
    "# Step 3: Clustering-based anomaly detection (DBSCAN)\n",
    "clustering_data = StandardScaler().fit_transform(features)\n",
    "db = DBSCAN(eps=0.1, min_samples=5).fit(clustering_data)\n",
    "df['ClusterAnomaly'] = db.labels_ == -1\n",
    "\n",
    "# Step 4: Statistical anomaly detection (z-score)\n",
    "# Separate zero and non-zero values for Distance and Speed\n",
    "non_zero_distance_prior = df[df['Distance_Prior'] != 0]['Distance_Prior']\n",
    "non_zero_distance_subsequent = df[df['Distance_Subsequent'] != 0]['Distance_Subsequent']\n",
    "non_zero_speed_prior = df[df['Speed_Prior'] != 0]['Speed_Prior']\n",
    "non_zero_speed_subsequent = df[df['Speed_Subsequent'] != 0]['Speed_Subsequent']\n",
    "\n",
    "df['Distance_zscore_Prior'] = (df['Distance_Prior'] - non_zero_distance_prior.mean()) / non_zero_distance_prior.std()\n",
    "df['Distance_zscore_Subsequent'] = (df['Distance_Subsequent'] - non_zero_distance_subsequent.mean()) / non_zero_distance_subsequent.std()\n",
    "df['Speed_zscore_Prior'] = (df['Speed_Prior'] - non_zero_speed_prior.mean()) / non_zero_speed_prior.std()\n",
    "df['Speed_zscore_Subsequent'] = (df['Speed_Subsequent'] - non_zero_speed_subsequent.mean()) / non_zero_speed_subsequent.std()\n",
    "\n",
    "zscore_threshold = 3\n",
    "df['DistanceStatAnomaly'] = ((df['Distance_zscore_Prior'].abs() > zscore_threshold) | (df['Distance_zscore_Subsequent'].abs() > zscore_threshold))\n",
    "df['SpeedStatAnomaly'] = ((df['Speed_zscore_Prior'].abs() > zscore_threshold) | (df['Speed_zscore_Subsequent'].abs() > zscore_threshold))\n",
    "\n",
    "\n",
    "# Step 5: Machine learning-based anomaly detection (Isolation Forest)\n",
    "isolation_forest = IsolationForest(contamination='auto', random_state=42)\n",
    "isolation_forest.fit(features)\n",
    "df['IsolationForestAnomaly'] = isolation_forest.predict(features) == -1\n",
    "\n",
    "# 6: Adding Cell ID changes to the anomaly score\n",
    "df['Previous_CellID'] = df['CELL_ID_START'].shift(1)\n",
    "df['Next_CellID'] = df['CELL_ID_START'].shift(-1)\n",
    "\n",
    "df['CellChangePrior'] = (df['CELL_ID_START'] != df['Previous_CellID']).astype(int)\n",
    "df['CellChangeSubsequent'] = (df['CELL_ID_START'] != df['Next_CellID']).astype(int)\n",
    "\n",
    "\n",
    "# # Step 7: Time Series Analysis\n",
    "# # Prepare time series data (assuming 'Timestamp' is the index)\n",
    "# time_analysis = df.set_index('usage_timeframe', inplace=True)\n",
    "# # Fit the ARIMA model\n",
    "# model = ARIMA(time_analysis['Speed'], order=(5, 1, 0))\n",
    "# model_fit = model.fit(disp=0)\n",
    "# # Calculate residuals\n",
    "# residuals = model_fit.resid\n",
    "# # Define an anomaly as a point where the residual is outside 3 standard deviations\n",
    "# df['TimeSeriesAnomaly'] = np.abs(residuals) > 3 * np.std(residuals)\n",
    "\n",
    "# Step 8: Combine all anomaly flags\n",
    "df['AnomalyScore'] = (\n",
    "    df['DistanceAnomaly'].astype(int) +\n",
    "    df['SpeedAnomaly'].astype(int) +\n",
    "    df['ClusterAnomaly'].astype(int) +\n",
    "    df['DistanceStatAnomaly'].astype(int) +\n",
    "    df['SpeedStatAnomaly'].astype(int) +\n",
    "    df['IsolationForestAnomaly'].astype(int) + (df['CellChangePrior'] * 0.5) +(df['CellChangeSubsequent'] * 0.5)\n",
    "    # + df['TimeSeriesAnomaly'].astype(int)\n",
    ")\n",
    "\n",
    "# Define an anomaly as a point where the anomaly score exceeds a threshold\n",
    "anomaly_threshold = 2  # Adjust based on desired sensitivity\n",
    "df['Overshoot'] = df['AnomalyScore'] >= anomaly_threshold\n",
    "\n",
    "\n",
    "# Set display options to show all rows and columns\n",
    "pd.set_option('display.max_rows', None)  # Adjust the number of rows as needed\n",
    "pd.set_option('display.max_columns', None)  # Adjust the number of rows as needed\n",
    "# Display the DataFrame with the final anomaly column\n",
    "print(df[\"Overshoot\"].value_counts())\n",
    "# Display the DataFrame with overshoot flags\n",
    "# df.tail(100)\n"
   ]
  },
  {
   "cell_type": "code",
   "execution_count": 9,
   "metadata": {},
   "outputs": [],
   "source": [
    "# # # # # import pandas as pd\n",
    "# # # # # import plotly.express as px\n",
    "# # # # # import plotly.graph_objs as go\n",
    "\n",
    "\n",
    "\n",
    "\n",
    "# # # # # def plot_trace(df, hover_cols):\n",
    "# # # # #     # #df['START_DATE'] = pd.to_datetime(df['usage_timeframe '], unit='ms').astype(\"str\")\n",
    "# # # # #     #  Sort by START_DATE (ensure data is sorted for proper animation)\n",
    "# # # # #     df[\"START_DATE\"] = df[\"START_DATE\"].astype(\"str\")\n",
    "# # # # #     df.sort_values('START_DATE', inplace=True)\n",
    "\n",
    "\n",
    "# # # # #     # # Create Plotly Express animated scatter mapbox\n",
    "# # # # #     # fig_px = px.scatter_mapbox(df[:100], lat=\"location_latitude \", lon=\"location_longitude \", color=\"Overshoot\", animation_frame=\"START_DATE\",\n",
    "# # # # #     #                            color_discrete_map={False: 'green', True: 'red'},\n",
    "# # # # #     #                            zoom=12, center={\"lat\": df['location_latitude '].mean(), \"lon\": df['location_longitude '].mean()},\n",
    "# # # # #     #                            title=\"Points Over Time\")\n",
    "# # # # #     # fig_px.update_layout(mapbox_style=\"carto-positron\")\n",
    "# # # # #     # fig_px.update_layout(margin={\"r\": 0, \"t\": 30, \"l\": 0, \"b\": 0})\n",
    "\n",
    "# # # # #     # # Extract data and frames from Plotly Express figure\n",
    "# # # # #     # data = fig_px.data\n",
    "# # # # #     # frames = fig_px.frames\n",
    "\n",
    "# # # # #     # # Create the new figure with extracted data and frames\n",
    "# # # # #     # fig = go.Figure(data=data, frames=frames)\n",
    "\n",
    "# # # # #     # # Set up the layout\n",
    "# # # # #     # fig.update_layout(\n",
    "# # # # #     #     mapbox=dict(\n",
    "# # # # #     #         style=\"carto-positron\",\n",
    "# # # # #     #         zoom=12,\n",
    "# # # # #     #         center={\"lat\": df['location_latitude '].mean(), \"lon\": df['location_longitude '].mean()}\n",
    "# # # # #     #     ),\n",
    "# # # # #     #     margin={\"r\": 0, \"t\": 30, \"l\": 0, \"b\": 0},\n",
    "# # # # #     #     title=\"Points Over Time\",\n",
    "# # # # #     # )\n",
    "\n",
    "# # # # #     # # Create slider steps for animation frames\n",
    "# # # # #     # steps = []\n",
    "# # # # #     # for i, frame in enumerate(frames):\n",
    "# # # # #     #     step = dict(\n",
    "# # # # #     #         method='animate',\n",
    "# # # # #     #         args=[[frame.name], \n",
    "# # # # #     #               {\"frame\": {\"duration\": 500, \"redraw\": True}, \n",
    "# # # # #     #                \"mode\": \"immediate\",\n",
    "# # # # #     #                \"transition\": {\"duration\": 300}}],\n",
    "# # # # #     #         label=frame.name\n",
    "# # # # #     #     )\n",
    "# # # # #     #     steps.append(step)\n",
    "\n",
    "# # # # #     # # Add the frame slider\n",
    "# # # # #     # frame_slider = dict(\n",
    "# # # # #     #     active=0,\n",
    "# # # # #     #     pad={\"t\": 50},\n",
    "# # # # #     #     steps=steps\n",
    "# # # # #     # )\n",
    "\n",
    "# # # # #     # # Create speed control slider\n",
    "# # # # #     # speed_slider = dict(\n",
    "# # # # #     #     x=0.1,\n",
    "# # # # #     #     y=-0.1,\n",
    "# # # # #     #     currentvalue={\"prefix\": \"Speed: \"},\n",
    "# # # # #     #     pad={\"b\": 10},\n",
    "# # # # #     #     steps=[\n",
    "# # # # #     #         {\"label\": \"Slow\", \"method\": \"animate\", \"args\": [None, {\"frame\": {\"duration\": 2000, \"redraw\": True}, \"mode\": \"immediate\", \"transition\": {\"duration\": 500}}]},\n",
    "# # # # #     #         {\"label\": \"Medium\", \"method\": \"animate\", \"args\": [None, {\"frame\": {\"duration\": 1000, \"redraw\": True}, \"mode\": \"immediate\", \"transition\": {\"duration\": 300}}]},\n",
    "# # # # #     #         {\"label\": \"Fast\", \"method\": \"animate\", \"args\": [None, {\"frame\": {\"duration\": 500, \"redraw\": True}, \"mode\": \"immediate\", \"transition\": {\"duration\": 100}}]},\n",
    "# # # # #     #     ]\n",
    "# # # # #     # )\n",
    "\n",
    "# # # # #     # # Update layout with sliders\n",
    "# # # # #     # fig.update_layout(\n",
    "# # # # #     #     sliders=[frame_slider, speed_slider]\n",
    "# # # # #     # )\n",
    "\n",
    "# # # # #     # # Display the interactive plot\n",
    "# # # # #     # fig.show()\n",
    "# # # # #     # Specify the columns to display in the hover data\n",
    "\n",
    "# # # # #     # Plotly express animated scatter mapbox\n",
    "# # # # #     #################################################\n",
    "# # # # #     fig = px.scatter_mapbox(df, lat=\"location_latitude\", lon=\"location_longitude\", color= df.apply(assign_color, axis=1) , animation_frame=\"START_DATE\",\n",
    "# # # # #                             # color_discrete_map={False: 'green', True: 'red'},\n",
    "# # # # #                             zoom=12, center={\"lat\": df['location_latitude'].mean(), \"lon\": df['location_longitude'].mean()},\n",
    "# # # # #                             title=\"Points Over Time\"\n",
    "# # # # #                             ,hover_data= hover_cols)\n",
    "# # # # #     fig.update_layout(mapbox_style=\"carto-positron\")\n",
    "# # # # #     fig.update_layout(margin={\"r\":0,\"t\":30,\"l\":0,\"b\":0})\n",
    "# # # # #     fig.show()\n",
    "# # # # # #################################################\n",
    "\n",
    "# # # # #     # Save the figure as HTML file with CDN for Plotly.js\n",
    "# # # # #     fig.write_html(\"animated_map.html\")\n",
    "    \n",
    "    \n",
    "# # # # # def assign_color(row):\n",
    "# # # # #     if row['potential_overshoot'] and row['potential_session_end'] and row['potential_newly_active_location']:\n",
    "# # # # #         return 'red'\n",
    "# # # # #     elif row['potential_overshoot'] and row['potential_session_end'] and not row['potential_newly_active_location']:\n",
    "# # # # #         return 'orange'\n",
    "# # # # #     elif row['potential_overshoot'] and not row['potential_session_end'] and row['potential_newly_active_location']:\n",
    "# # # # #         return 'purple'\n",
    "# # # # #     elif row['potential_overshoot'] and not row['potential_session_end'] and not row['potential_newly_active_location']:\n",
    "# # # # #         return 'brown'\n",
    "# # # # #     elif not row['potential_overshoot'] and row['potential_session_end'] and row['potential_newly_active_location']:\n",
    "# # # # #         return 'yellow'\n",
    "# # # # #     elif not row['potential_overshoot'] and row['potential_session_end'] and not row['potential_newly_active_location']:\n",
    "# # # # #         return 'blue'\n",
    "# # # # #     elif not row['potential_overshoot'] and not row['potential_session_end'] and row['potential_newly_active_location']:\n",
    "# # # # #         return 'pink'\n",
    "# # # # #     else:\n",
    "# # # # #         return 'green'\n",
    "\n",
    "\n",
    "# import pandas as pd\n",
    "# import plotly.graph_objs as go\n",
    "\n",
    "# def plot_trace(df, hover_cols):\n",
    "#     df[\"START_DATE\"] = pd.to_datetime(df[\"START_DATE\"], unit='ms').astype(\"str\")\n",
    "#     df.sort_values('START_DATE', inplace=True)\n",
    "    \n",
    "#     # Initialize the figure\n",
    "#     fig = go.Figure()\n",
    "\n",
    "#     # Create a list to hold the frames\n",
    "#     frames = []\n",
    "\n",
    "#     # Iterate through the DataFrame to create frames\n",
    "#     for i, row in df.iterrows():\n",
    "#         lat = row['location_latitude']\n",
    "#         lon = row['location_longitude']\n",
    "        \n",
    "#         # Initialize traces for this frame\n",
    "#         traces = []\n",
    "        \n",
    "#         # Add potential overshoot trace if condition is met\n",
    "#         if row['potential_overshoot']:\n",
    "#             trace1 = go.Scattermapbox(\n",
    "#                 lat=[lat],\n",
    "#                 lon=[lon],\n",
    "#                 mode='markers',\n",
    "#                 marker=go.scattermapbox.Marker(\n",
    "#                     size=25,\n",
    "#                     color='red',\n",
    "#                     opacity=0.6\n",
    "#                 ),\n",
    "#                 text=f\"potential_overshoot: {row['potential_overshoot']}\",\n",
    "#                 name='potential_overshoot'\n",
    "#             )\n",
    "#             traces.append(trace1)\n",
    "#         else:\n",
    "#             # Add a dummy trace if condition not met to maintain consistent count\n",
    "#             traces.append(go.Scattermapbox(\n",
    "#                 lat=[lat],\n",
    "#                 lon=[lon],\n",
    "#                 mode='markers',\n",
    "#                 marker=go.scattermapbox.Marker(\n",
    "#                     size=0,\n",
    "#                     color='rgba(0,0,0,0)'\n",
    "#                 ),\n",
    "#                 # text=\"dummy trace\",\n",
    "#                 # name='dummy_trace'\n",
    "#             ))\n",
    "        \n",
    "#         # Add potential session end trace if condition is met\n",
    "#         if row['potential_session_end']:\n",
    "#             trace2 = go.Scattermapbox(\n",
    "#                 lat=[lat],\n",
    "#                 lon=[lon],\n",
    "#                 mode='markers',\n",
    "#                 marker=go.scattermapbox.Marker(\n",
    "#                     size=15,\n",
    "#                     color='green',\n",
    "#                     opacity=0.6\n",
    "#                 ),\n",
    "#                 text=f\"potential_session_end\", #{row['potential_session_end']}\",\n",
    "#                 name='potential_session_end'\n",
    "#             )\n",
    "#             traces.append(trace2)\n",
    "#         else:\n",
    "#             # Add a dummy trace if condition not met to maintain consistent count\n",
    "#             traces.append(go.Scattermapbox(\n",
    "#                 lat=[lat],\n",
    "#                 lon=[lon],\n",
    "#                 mode='markers',\n",
    "#                 marker=go.scattermapbox.Marker(\n",
    "#                     size=0,\n",
    "#                     color='rgba(0,0,0,0)'\n",
    "#                 ),\n",
    "#                 # text=\"dummy trace\",\n",
    "#                 # name='dummy_trace'\n",
    "#             ))\n",
    "\n",
    "#         # Add potential newly active location trace if condition is met\n",
    "#         if row['potential_newly_active_location']:\n",
    "#             trace3 = go.Scattermapbox(\n",
    "#                 lat=[lat],\n",
    "#                 lon=[lon],\n",
    "#                 mode='markers',\n",
    "#                 marker=go.scattermapbox.Marker(\n",
    "#                     size=10,\n",
    "#                     color='blue',\n",
    "#                     opacity=0.6\n",
    "#                 ),\n",
    "#                 text=f\"potential_newly_active_location: {row['potential_newly_active_location']}\",\n",
    "#                 name='potential_newly_active_location'\n",
    "#             )\n",
    "#             traces.append(trace3)\n",
    "#         else:\n",
    "#             # Add a dummy trace if condition not met to maintain consistent count\n",
    "#             traces.append(go.Scattermapbox(\n",
    "#                 lat=[lat],\n",
    "#                 lon=[lon],\n",
    "#                 mode='markers',\n",
    "#                 marker=go.scattermapbox.Marker(\n",
    "#                     size=0,\n",
    "#                     color='rgba(0,0,0,0)'\n",
    "#                 ),\n",
    "#                 # text=\"dummy trace\",\n",
    "#                 # name='dummy_trace'\n",
    "#             ))\n",
    "#         if not row['potential_overshoot'] and not row[\"potential_session_end\"] and not row[\"potential_newly_active_location\"]:\n",
    "#             trace1 = go.Scattermapbox(\n",
    "#                 lat=[lat],\n",
    "#                 lon=[lon],\n",
    "#                 mode='markers',\n",
    "#                 marker=go.scattermapbox.Marker(\n",
    "#                     size=20,\n",
    "#                     color='black',\n",
    "#                     opacity=0.6\n",
    "#                 ),\n",
    "#                 text=f\"All False: \",\n",
    "#                 name='No conditions met'\n",
    "#             )\n",
    "#             traces.append(trace1)\n",
    "#         else:\n",
    "#             # Add a dummy trace if condition not met to maintain consistent count\n",
    "#             traces.append(go.Scattermapbox(\n",
    "#                 lat=[lat],\n",
    "#                 lon=[lon],\n",
    "#                 mode='markers',\n",
    "#                 marker=go.scattermapbox.Marker(\n",
    "#                     size=0,\n",
    "#                     color='rgba(0,0,0,0)'\n",
    "#                 ),\n",
    "#                 # text=\"dummy trace\",\n",
    "#                 # name='dummy_trace'\n",
    "#             ))    \n",
    "#         # Create a frame for this time step with all traces\n",
    "#         frames.append(go.Frame(data=traces, name=row['START_DATE']))\n",
    "\n",
    "#     # Add the first frame to the figure\n",
    "#     if frames:\n",
    "#         for trace in frames[0].data:\n",
    "#             fig.add_trace(trace)\n",
    "\n",
    "#     fig.update_layout(\n",
    "#         mapbox_style=\"carto-positron\",\n",
    "#         mapbox_zoom=12,\n",
    "#         mapbox_center={\"lat\": df['location_latitude'].mean(), \"lon\": df['location_longitude'].mean()},\n",
    "#         title=\"Points Over Time\"\n",
    "#     )\n",
    "\n",
    "#     # Add frames to the figure\n",
    "#     fig.update(frames=frames)\n",
    "\n",
    "#     # Create slider steps\n",
    "#     slider_steps = []\n",
    "#     for i, frame in enumerate(frames):\n",
    "#         step = dict(\n",
    "#             method=\"animate\",\n",
    "#             args=[[frame.name], dict(frame=dict(duration=0, redraw=True), mode='immediate')],\n",
    "#             label=str(frame.name)  # Use START_DATE as label\n",
    "#         )\n",
    "#         slider_steps.append(step)\n",
    "\n",
    "#     # Add slider\n",
    "#     fig.update_layout(\n",
    "#         sliders=[dict(\n",
    "#             steps=slider_steps,\n",
    "#             active=len(frames)-1,\n",
    "#             currentvalue={\"prefix\": \"Time: \"},\n",
    "#         )]\n",
    "#     )\n",
    "\n",
    "#     # Add animation controls\n",
    "#     fig.update_layout(\n",
    "#         updatemenus=[dict(\n",
    "#             type=\"buttons\",\n",
    "#             showactive=False,\n",
    "#             buttons=[\n",
    "#                 dict(label=\"Play\",\n",
    "#                      method=\"animate\",\n",
    "#                      args=[None, dict(frame=dict(duration=500, redraw=True), fromcurrent=True, mode='immediate')]),\n",
    "#                 dict(label=\"Pause\",\n",
    "#                      method=\"animate\",\n",
    "#                      args=[[None], dict(frame=dict(duration=0, redraw=False), mode='immediate')]),\n",
    "#                 dict(label=\"Slow\",\n",
    "#                      method=\"animate\",\n",
    "#                      args=[None, dict(frame=dict(duration=2000, redraw=True), fromcurrent=True, mode='immediate')]),\n",
    "#                 dict(label=\"Medium\",\n",
    "#                      method=\"animate\",\n",
    "#                      args=[None, dict(frame=dict(duration=1000, redraw=True), fromcurrent=True, mode='immediate')]),\n",
    "#                 dict(label=\"Fast\",\n",
    "#                      method=\"animate\",\n",
    "#                      args=[None, dict(frame=dict(duration=500, redraw=True), fromcurrent=True, mode='immediate')])\n",
    "#             ]\n",
    "#         )]\n",
    "#     )\n",
    "\n",
    "#     # Display the interactive plot\n",
    "#     fig.show()\n",
    "\n",
    "#     # Save the figure as HTML file with CDN for Plotly.js\n",
    "#     fig.write_html(\"animated_map.html\")\n",
    "\n",
    "\n",
    "import pandas as pd\n",
    "import plotly.graph_objs as go\n",
    "\n",
    "def plot_trace(df, hover_cols):\n",
    "    df[\"START_DATE\"] = pd.to_datetime(df[\"START_DATE\"], unit='ms').astype(\"str\")\n",
    "    df.sort_values('START_DATE', inplace=True)\n",
    "    \n",
    "    # Initialize the figure\n",
    "    fig = go.Figure()\n",
    "\n",
    "    # Create a list to hold the frames\n",
    "    frames = []\n",
    "\n",
    "    # Iterate through the DataFrame to create frames\n",
    "    for i, row in df.iterrows():\n",
    "        lat = row['location_latitude']\n",
    "        lon = row['location_longitude']\n",
    "        # Generate hover text\n",
    "        hover_text = f\"Latitude: {lat}, Longitude: {lon}<br>\"\n",
    "        for col in hover_cols:\n",
    "            hover_text += f\"{col}: {row[col]}<br>\"\n",
    "            \n",
    "            \n",
    "        hoverinfo = 'text'\n",
    "        # Initialize traces for this frame\n",
    "        traces = []\n",
    "\n",
    "        # Add potential overshoot trace if condition is met\n",
    "        if row['potential_overshoot']:\n",
    "            trace1 = go.Scattermapbox(\n",
    "                lat=[lat],\n",
    "                lon=[lon],\n",
    "                mode='markers',\n",
    "                marker=go.scattermapbox.Marker(\n",
    "                    size=25,\n",
    "                    color='red',\n",
    "                    opacity=1\n",
    "                ),\n",
    "                text=hover_text,\n",
    "                name='Current: potential_overshoot'\n",
    "            )\n",
    "            traces.append(trace1)\n",
    "        else:\n",
    "            # Add a dummy trace if condition not met to maintain consistent count\n",
    "            traces.append(go.Scattermapbox(\n",
    "                lat=[lat],\n",
    "                lon=[lon],\n",
    "                mode='markers',\n",
    "                marker=go.scattermapbox.Marker(\n",
    "                    size=0,\n",
    "                    color='rgba(0,0,0,0)'\n",
    "                ),\n",
    "            ))    \n",
    "        \n",
    "        # Add potential session end trace if condition is met\n",
    "        if row['potential_session_end']:\n",
    "            trace2 = go.Scattermapbox(\n",
    "                lat=[lat],\n",
    "                lon=[lon],\n",
    "                mode='markers',\n",
    "                marker=go.scattermapbox.Marker(\n",
    "                    size=15,\n",
    "                    color='green',\n",
    "                    opacity=1\n",
    "                ),\n",
    "                text= hover_text,\n",
    "                name='Current: potential_session_end'\n",
    "            )\n",
    "            traces.append(trace2)\n",
    "        else:\n",
    "            # Add a dummy trace if condition not met to maintain consistent count\n",
    "            traces.append(go.Scattermapbox(\n",
    "                lat=[lat],\n",
    "                lon=[lon],\n",
    "                mode='markers',\n",
    "                marker=go.scattermapbox.Marker(\n",
    "                    size=0,\n",
    "                    color='rgba(0,0,0,0)'\n",
    "                ),\n",
    "            ))   \n",
    "\n",
    "        # Add potential newly active location trace if condition is met\n",
    "        if not row['potential_newly_active_location']:\n",
    "            trace3 = go.Scattermapbox(\n",
    "                lat=[lat],\n",
    "                lon=[lon],\n",
    "                mode='markers',\n",
    "                marker=go.scattermapbox.Marker(\n",
    "                    size=10,\n",
    "                    color='blue',\n",
    "                    opacity=1\n",
    "                ),\n",
    "                text=hover_text,\n",
    "                name='Current: potential_newly_active_loc'\n",
    "            )\n",
    "            traces.append(trace3)\n",
    "        else:\n",
    "            # Add a dummy trace if condition not met to maintain consistent count\n",
    "            traces.append(go.Scattermapbox(\n",
    "                lat=[lat],\n",
    "                lon=[lon],\n",
    "                mode='markers',\n",
    "                marker=go.scattermapbox.Marker(\n",
    "                    size=0,\n",
    "                    color='rgba(0,0,0,0)'\n",
    "                ),\n",
    "            ))   \n",
    "        \n",
    "        if row['switching_overshoot']:\n",
    "            trace3 = go.Scattermapbox(\n",
    "                lat=[lat],\n",
    "                lon=[lon],\n",
    "                mode='markers',\n",
    "                marker=go.scattermapbox.Marker(\n",
    "                    size=8.5,\n",
    "                    color='purple',\n",
    "                    opacity=1\n",
    "                ),\n",
    "                text=hover_text,\n",
    "                name='Current: switching overshoot'\n",
    "            )\n",
    "            traces.append(trace3)\n",
    "        else:\n",
    "            # Add a dummy trace if condition not met to maintain consistent count\n",
    "            traces.append(go.Scattermapbox(\n",
    "                lat=[lat],\n",
    "                lon=[lon],\n",
    "                mode='markers',\n",
    "                marker=go.scattermapbox.Marker(\n",
    "                    size=0,\n",
    "                    color='rgba(0,0,0,0)'\n",
    "                ),\n",
    "            ))   \n",
    "        if not row['potential_overshoot'] and not row[\"potential_session_end\"]: #and  row[\"potential_newly_active_location\"] :\n",
    "            trace4 = go.Scattermapbox(\n",
    "                lat=[lat],\n",
    "                lon=[lon],\n",
    "                mode='markers',\n",
    "                marker=go.scattermapbox.Marker(\n",
    "                    size=20,\n",
    "                    color='yellow',\n",
    "                    opacity=1\n",
    "                ),\n",
    "                text=hover_text,\n",
    "                # hoverinfo=\n",
    "                name='Current: No conditions met'\n",
    "            )\n",
    "            traces.append(trace4)\n",
    "        else:\n",
    "            # Add a dummy trace if condition not met to maintain consistent count\n",
    "            traces.append(go.Scattermapbox(\n",
    "                lat=[lat],\n",
    "                lon=[lon],\n",
    "                mode='markers',\n",
    "                marker=go.scattermapbox.Marker(\n",
    "                    size=0,\n",
    "                    color='rgba(0,0,0,0)'\n",
    "                ),\n",
    "            ))   \n",
    "\n",
    "        # If not the first point, add traces from the previous point\n",
    "        if i > 0: #pd.to_datetime(df['START_DATE']).idxmin():\n",
    "            prev_row = df.iloc[i - 1]\n",
    "            prev_lat = prev_row['location_latitude']\n",
    "            prev_lon = prev_row['location_longitude']\n",
    "            prev_hover_text = f\"Latitude: {prev_lat}, Longitude: {prev_lon}<br>\"\n",
    "            for col in hover_cols:\n",
    "                prev_hover_text += f\"{col}: {prev_row[col]}<br>\"\n",
    "        else:\n",
    "            prev_row = df.iloc[0]\n",
    "            prev_lat = prev_row['location_latitude']\n",
    "            prev_lon = prev_row['location_longitude']\n",
    "            prev_hover_text =None\n",
    "            # Add potential overshoot trace from the previous point\n",
    "        if prev_row['potential_overshoot']:\n",
    "            prev_trace1 = go.Scattermapbox(\n",
    "                lat=[prev_lat],\n",
    "                lon=[prev_lon],\n",
    "                mode='markers',\n",
    "                marker=go.scattermapbox.Marker(\n",
    "                    size=22,\n",
    "                    color='red',\n",
    "                    opacity=0.6\n",
    "                ),\n",
    "                text=prev_hover_text,\n",
    "                name='Previous: potential_overshoot'\n",
    "            )\n",
    "            traces.append(prev_trace1)\n",
    "        else:\n",
    "            # Add a dummy trace if condition not met to maintain consistent count\n",
    "            traces.append(go.Scattermapbox(\n",
    "                lat=[prev_lat],\n",
    "                lon=[prev_lon],\n",
    "                mode='markers',\n",
    "                marker=go.scattermapbox.Marker(\n",
    "                    size=0,\n",
    "                    color='rgba(0,0,0,0)'\n",
    "                ),\n",
    "            ))   \n",
    "        \n",
    "        # Add potential session end trace from the previous point\n",
    "        if prev_row['potential_session_end']:\n",
    "            prev_trace2 = go.Scattermapbox(\n",
    "                lat=[prev_lat],\n",
    "                lon=[prev_lon],\n",
    "                mode='markers',\n",
    "                marker=go.scattermapbox.Marker(\n",
    "                    size=13,\n",
    "                    color='green',\n",
    "                    opacity=0.6\n",
    "                ),\n",
    "                text=prev_hover_text,\n",
    "                name='Previous: potential_session_end'\n",
    "            )\n",
    "            traces.append(prev_trace2)\n",
    "        else:\n",
    "            # Add a dummy trace if condition not met to maintain consistent count\n",
    "            traces.append(go.Scattermapbox(\n",
    "                lat=[prev_lat],\n",
    "                lon=[prev_lon],\n",
    "                mode='markers',\n",
    "                marker=go.scattermapbox.Marker(\n",
    "                    size=0,\n",
    "                    color='rgba(0,0,0,0)'\n",
    "                ),\n",
    "            ))               \n",
    "        # Add potential newly active location trace from the previous point\n",
    "        if not prev_row['potential_newly_active_location']:\n",
    "            prev_trace3 = go.Scattermapbox(\n",
    "                lat=[prev_lat],\n",
    "                lon=[prev_lon],\n",
    "                mode='markers',\n",
    "                marker=go.scattermapbox.Marker(\n",
    "                    size=9,\n",
    "                    color='blue',\n",
    "                    opacity=0.6\n",
    "                ),\n",
    "                text=prev_hover_text,\n",
    "                name='Previous: potential_newly_active_loc'\n",
    "            )\n",
    "            traces.append(prev_trace3)\n",
    "        else:\n",
    "            # Add a dummy trace if condition not met to maintain consistent count\n",
    "            traces.append(go.Scattermapbox(\n",
    "                lat=[prev_lat],\n",
    "                lon=[prev_lon],\n",
    "                mode='markers',\n",
    "                marker=go.scattermapbox.Marker(\n",
    "                    size=0,\n",
    "                    color='rgba(0,0,0,0)'\n",
    "                ),\n",
    "            ))   \n",
    "        if prev_row['switching_overshoot']:\n",
    "            prev_trace3 = go.Scattermapbox(\n",
    "                lat=[prev_lat],\n",
    "                lon=[prev_lon],\n",
    "                mode='markers',\n",
    "                marker=go.scattermapbox.Marker(\n",
    "                    size=7,\n",
    "                    color='purple',\n",
    "                    opacity=0.6\n",
    "                ),\n",
    "                text=prev_hover_text,\n",
    "                name='Previous: switching_overshoot'\n",
    "            )\n",
    "            traces.append(prev_trace3)\n",
    "        else:\n",
    "            # Add a dummy trace if condition not met to maintain consistent count\n",
    "            traces.append(go.Scattermapbox(\n",
    "                lat=[prev_lat],\n",
    "                lon=[prev_lon],\n",
    "                mode='markers',\n",
    "                marker=go.scattermapbox.Marker(\n",
    "                    size=0,\n",
    "                    color='rgba(0,0,0,0)'\n",
    "                ),\n",
    "            ))               \n",
    "        # Add \"All False\" trace from the previous point\n",
    "        if not prev_row['potential_overshoot'] and not prev_row[\"potential_session_end\"]: #and  prev_row[\"potential_newly_active_location\"]:\n",
    "            prev_trace4 = go.Scattermapbox(\n",
    "                lat=[prev_lat],\n",
    "                lon=[prev_lon],\n",
    "                mode='markers',\n",
    "                marker=go.scattermapbox.Marker(\n",
    "                    size=18,\n",
    "                    color='yellow',\n",
    "                    opacity=0.6\n",
    "                ),\n",
    "                text=prev_hover_text,\n",
    "                name='Previous: No conditions met'\n",
    "            )\n",
    "            traces.append(prev_trace4)\n",
    "        else:\n",
    "            # Add a dummy trace if condition not met to maintain consistent count\n",
    "            traces.append(go.Scattermapbox(\n",
    "                lat=[prev_lat],\n",
    "                lon=[prev_lon],\n",
    "                mode='markers',\n",
    "                marker=go.scattermapbox.Marker(\n",
    "                    size=0,\n",
    "                    color='rgba(0,0,0,0)'\n",
    "                ),\n",
    "            ))\n",
    "    # Create a frame for this time step with all traces\n",
    "        frames.append(go.Frame(data=traces, name=row['START_DATE']))\n",
    "       \n",
    "    # Add the first frame to the figure\n",
    "    if frames:\n",
    "        for trace in frames[0].data:\n",
    "            fig.add_trace(trace)\n",
    "\n",
    "    fig.update_layout(\n",
    "        mapbox_style=\"carto-positron\",\n",
    "        mapbox_zoom=12,\n",
    "        mapbox_center={\"lat\": df['location_latitude'].mean(), \"lon\": df['location_longitude'].mean()},\n",
    "        title=\"Points Over Time\"\n",
    "    )\n",
    "\n",
    "    # Add frames to the figure\n",
    "    fig.update(frames=frames)\n",
    "\n",
    "    # Create slider steps\n",
    "    slider_steps = []\n",
    "    for i, frame in enumerate(frames):\n",
    "        step = dict(\n",
    "            method=\"animate\",\n",
    "            args=[[frame.name], dict(frame=dict(duration=0, redraw=True), mode='immediate')],\n",
    "            label=str(frame.name)  # Use START_DATE as label\n",
    "        )\n",
    "        slider_steps.append(step)\n",
    "\n",
    "    # Add slider\n",
    "    fig.update_layout(\n",
    "        sliders=[dict(\n",
    "            steps=slider_steps,\n",
    "            active=len(frames)-1,\n",
    "            currentvalue={\"prefix\": \"Time: \"},\n",
    "        )]\n",
    "    )\n",
    "\n",
    "    # Add animation controls\n",
    "    fig.update_layout(\n",
    "        updatemenus=[dict(\n",
    "            type=\"buttons\",\n",
    "            showactive=False,\n",
    "            buttons=[\n",
    "                dict(label=\"Play\",\n",
    "                     method=\"animate\",\n",
    "                     args=[None, dict(frame=dict(duration=500, redraw=True), fromcurrent=True, mode='immediate')]),\n",
    "                dict(label=\"Pause\",\n",
    "                     method=\"animate\",\n",
    "                     args=[[None], dict(frame=dict(duration=0, redraw=False), mode='immediate')]),\n",
    "                dict(label=\"Slow\",\n",
    "                     method=\"animate\",\n",
    "                     args=[None, dict(frame=dict(duration=2000, redraw=True), fromcurrent=True, mode='immediate')]),\n",
    "                dict(label=\"Medium\",\n",
    "                     method=\"animate\",\n",
    "                     args=[None, dict(frame=dict(duration=1000, redraw=True), fromcurrent=True, mode='immediate')]),\n",
    "                dict(label=\"Fast\",\n",
    "                     method=\"animate\",\n",
    "                     args=[None, dict(frame=dict(duration=500, redraw=True), fromcurrent=True, mode='immediate')])\n",
    "            ]\n",
    "        )]\n",
    "    )\n",
    "\n",
    "    # Display the interactive plot\n",
    "    fig.show()\n",
    "\n",
    "    # Save the figure as HTML file with CDN for Plotly.js\n",
    "    fig.write_html(\"animated_map.html\")\n",
    "\n",
    "\n"
   ]
  },
  {
   "cell_type": "code",
   "execution_count": 2,
   "metadata": {},
   "outputs": [],
   "source": [
    "# Method 2: Simpler and more generalized\n",
    "import pandas as pd\n",
    "import numpy as np\n",
    "from geopy.distance import geodesic, great_circle\n",
    "from vcis.utils.utils import CDR_Utils\n",
    "utils = CDR_Utils()\n",
    "def get_common_ids(df, size=2000):\n",
    "    def get_ids_within_threshold(df, point_value, threshold, axis='location_latitude'):\n",
    "        # point_value = df.loc[df['cgi_id'] == point_id, axis].values[0]\n",
    "        lower_bound = point_value - threshold\n",
    "        upper_bound = point_value + threshold\n",
    "        ids_within_threshold = df[(df[axis] >= lower_bound) & (df[axis] <= upper_bound)]['cgi_id'].tolist()\n",
    "        return ids_within_threshold\n",
    "\n",
    "    step_lat, step_lon = utils.get_step_size(size)\n",
    "    # df_sorted_x = df.sort_values(by='location_latitude').copy()\n",
    "    # df_sorted_y = df.sort_values(by='location_longitude').copy()\n",
    "    unique_coords = df[['location_latitude', 'location_longitude']].drop_duplicates()\n",
    "    neighbor_data = []\n",
    "\n",
    "    for _, row in unique_coords.iterrows():\n",
    "        x, y = row['location_latitude'], row['location_longitude']\n",
    "        ids_within_threshold_x = get_ids_within_threshold(df, x, step_lat, axis='location_latitude')\n",
    "        ids_within_threshold_y = get_ids_within_threshold(df, y, step_lon, axis='location_longitude')\n",
    "        \n",
    "        common_ids = list(set(ids_within_threshold_x) & set(ids_within_threshold_y))\n",
    "        cgi_id = df[(df['location_latitude'] == x) & (df['location_longitude'] == y)]['cgi_id'].unique().tolist()\n",
    "        difference_ids = list(set(common_ids) - set(cgi_id))\n",
    "        neighbor_data.append({'location_latitude':x,'location_longitude':y,'neighbor_ids': difference_ids,'number_of_sectors':len(difference_ids)})\n",
    "        # print(f\"Remaining coordinates: {len(unique_coords) - len(neighbor_data)}\")\n",
    "\n",
    "    neighbor_df = pd.DataFrame(neighbor_data)\n",
    "    return neighbor_df\n",
    "\n",
    "\n",
    "def calculate_sectors_within_radius_single_point(latitude, longitude, radius, df):\n",
    "    \"\"\"\n",
    "    Calculate the number of sectors within a given radius around a single point.\n",
    "    \n",
    "    Parameters:\n",
    "    - latitude: float, latitude of the point\n",
    "    - longitude: float, longitude of the point\n",
    "    - radius: float, the radius in kilometers\n",
    "    - df: pandas DataFrame containing 'location_latitude' and 'location_longitude' columns\n",
    "    \n",
    "    Returns:\n",
    "    - int, number of sectors within the specified radius around the given point\n",
    "    \"\"\"\n",
    "    sector_coordinates = np.column_stack((df['location_latitude'], df['location_longitude']))\n",
    "    distances = np.array([geodesic((latitude, longitude), coord).kilometers for coord in sector_coordinates])\n",
    "    is_within_radius = distances <= radius  # Boolean array indicating if each sector is within radius\n",
    "    num_sectors_within_radius = np.sum(is_within_radius) - 1  # Exclude the sector itself\n",
    "    return num_sectors_within_radius\n",
    "\n",
    "def calculate_sectors_within_radius(df, radius):\n",
    "    \"\"\"\n",
    "    Calculate the number of sectors within a given radius around each sector in the DataFrame.\n",
    "    \n",
    "    Parameters:\n",
    "    - df: pandas DataFrame containing 'location_latitude' and 'location_longitude' columns\n",
    "    - radius: float, the radius in kilometers\n",
    "    \n",
    "    Returns:\n",
    "    - pandas Series, number of sectors within the specified radius for each row in df\n",
    "    \"\"\"\n",
    "    # num_sectors_within_radius = []\n",
    "\n",
    "    # for index, row in df.iterrows():\n",
    "    #     num_sectors = calculate_sectors_within_radius_single_point(row['location_latitude'], row['location_longitude'], radius, df)\n",
    "    #     num_sectors_within_radius.append(num_sectors)\n",
    "\n",
    "    # df[\"number_of_sectors_in_{}km_radius\".format(radius)] = pd.Series(num_sectors_within_radius, index=df.index)\n",
    "    # return df[\"number_of_sectors_in_{}km_radius\".format(radius)]\n",
    "    \n",
    "    # Define a function to calculate sectors within radius for each row\n",
    "    def calculate_sectors(row):\n",
    "        return calculate_sectors_within_radius_single_point(row['location_latitude'], row['location_longitude'], radius, df)\n",
    "    \n",
    "    # Apply the function to each row in the DataFrame\n",
    "    num_sectors_within_radius = df.apply(calculate_sectors, axis=1)\n",
    "    # Assign the result to a new column in the DataFrame\n",
    "    df[\"number_of_sectors\"] = num_sectors_within_radius\n",
    "    \n",
    "    # Return the calculated Series\n",
    "    return num_sectors_within_radius\n",
    "\n",
    "\n",
    "import pandas as pd\n",
    "from geopy.distance import geodesic\n",
    "\n",
    "def determine_correct_cgi_subset(df, start_idx=0, end_idx=30):\n",
    "    # Convert START_DATE to datetime and sort by it\n",
    "    df['START_DATE'] = pd.to_datetime(df['START_DATE'])\n",
    "    df.sort_values('START_DATE', inplace=True)\n",
    "    \n",
    "    # Initialize variables\n",
    "    switching_pairs = []\n",
    "    last_cgi_id = None\n",
    "    current_switching = []\n",
    "    result = []\n",
    "    switch_start_idx = None\n",
    "\n",
    "    for idx, row in df[start_idx:end_idx].iterrows():\n",
    "        current_cgi_id = row['cgi_id']\n",
    "\n",
    "        # Check for switching pattern\n",
    "        if last_cgi_id is not None and current_cgi_id != last_cgi_id:\n",
    "            if len(current_switching) >= 2 and current_switching[-2] == current_cgi_id:\n",
    "                current_switching.append(current_cgi_id)\n",
    "                switching_pairs.append((current_switching, switch_start_idx, idx))\n",
    "                current_switching = []\n",
    "                switch_start_idx = None\n",
    "            else:\n",
    "                current_switching = [last_cgi_id, current_cgi_id]\n",
    "                if switch_start_idx is None:\n",
    "                    switch_start_idx = idx - 1  # Start from the previous index where the switch began\n",
    "        \n",
    "        last_cgi_id = current_cgi_id\n",
    "\n",
    "    # Iterate through detected switching pairs\n",
    "    for switch_pair, start_idx, stop_idx in switching_pairs:\n",
    "        switch_cgi_ids = list(set(switch_pair))\n",
    "        next_unique_cgi_ids = df.iloc[stop_idx + 1:]['cgi_id'].unique()[:4]\n",
    "        print(switch_pair,'==========', next_unique_cgi_ids)\n",
    "        if len(next_unique_cgi_ids) < 2:\n",
    "            continue\n",
    "\n",
    "        # Calculate distances\n",
    "        distances = {cgi_id: 0 for cgi_id in switch_cgi_ids}\n",
    "        print(distances)\n",
    "        for cgi_id in switch_cgi_ids:\n",
    "            cgi_coords = df[df['cgi_id'] == cgi_id][['location_latitude', 'location_longitude']].iloc[0]\n",
    "            cgi_point = (cgi_coords['location_latitude'], cgi_coords['location_longitude'])\n",
    "\n",
    "            total_distance = 0\n",
    "            for next_cgi_id in next_unique_cgi_ids:\n",
    "                next_cgi_coords = df[df['cgi_id'] == next_cgi_id][['location_latitude', 'location_longitude']].iloc[0]\n",
    "                next_cgi_point = (next_cgi_coords['location_latitude'], next_cgi_coords['location_longitude'])\n",
    "                total_distance += geodesic(cgi_point, next_cgi_point).meters\n",
    "            \n",
    "            distances[cgi_id] = total_distance / len(next_unique_cgi_ids)\n",
    "            # print(distances)\n",
    "        print(distances)\n",
    "        # Determine the correct CGI ID\n",
    "        correct_cgi_id = min(distances, key=distances.get)\n",
    "        print(correct_cgi_id)\n",
    "        overshoot_cgi_id = [cgi_id for cgi_id in switch_cgi_ids if cgi_id != correct_cgi_id][0]\n",
    "        \n",
    "        # df[\"potential_overshoot\"] = False\n",
    "        \n",
    "        # Update the overshoot_flag column for relevant rows only\n",
    "        switch_rows = df.index[start_idx:stop_idx + 1]\n",
    "        df.loc[switch_rows[df.loc[switch_rows, 'cgi_id'] == correct_cgi_id], 'potential_overshoot'] = False\n",
    "        df.loc[switch_rows[df.loc[switch_rows, 'cgi_id'] == overshoot_cgi_id], 'potential_overshoot'] = True\n",
    "        # print(start_idx, \"___________\", stop_idx + 1)\n",
    "        result.append((stop_idx, correct_cgi_id))\n",
    "\n",
    "    return df\n",
    "\n",
    "\n",
    "\n",
    "\n",
    "# def flag_overshoots_based_on_previous_sectors(df, radius, sector_threshold, time_threshold, num_sectors_column=None,  start_idx=0):\n",
    "#     \"\"\"\n",
    "#     Flags current points as overshoots based on the number of sectors surrounding the previous point that was not an Overshoot.\n",
    "\n",
    "#     Parameters:\n",
    "#     - df: pandas DataFrame\n",
    "#     - radius: float, the radius in kilometers to use for calculating surrounding sectors\n",
    "#     - threshold: int or float, minimum threshold for flagging\n",
    "#     - num_sectors_column: str, name of the column representing the number of sectors within radius (optional)\n",
    "\n",
    "#     Returns:\n",
    "#     - pandas Series of boolean values indicating overshoots\n",
    "#     \"\"\"\n",
    "#     if num_sectors_column is None:\n",
    "#         num_sectors_within_radius = calculate_sectors_within_radius(df, radius)\n",
    "#     else:\n",
    "#         num_sectors_within_radius = df[num_sectors_column]\n",
    "\n",
    "    \n",
    "#     df[\"potential_overshoot\"] = False\n",
    "    \n",
    "#     end_idx = 12\n",
    "#     df = determine_correct_cgi_subset(df, start_idx=0, end_idx=end_idx)\n",
    "#     # print(df.head(10))\n",
    "#     start_idx = end_idx+1\n",
    "    \n",
    "    \n",
    "#     ## using apply instead of a for loop\n",
    "#     # def calculate_flag(row):\n",
    "#     #     i = row.name\n",
    "#     #     j = row.name - 1\n",
    "#     #     while j >= 0 and overshoot_flags.iloc[j] == True:\n",
    "#     #         j -= 1\n",
    "#     #     if j >= 0:\n",
    "#     #     # distance = haversine_numpy(df.at[i, 'location_latitude'], df.at[i, 'location_longitude'],\n",
    "#     #     #                     df.at[j, 'location_latitude'], df.at[j, 'location_longitude'])\n",
    "#     #         distance = geodesic((df.at[i, 'location_latitude'], df.at[i, 'location_longitude']),\n",
    "#     #                             (df.at[j, 'location_latitude'], df.at[j, 'location_longitude'])).kilometers\n",
    "#     #         time_diff = (pd.to_datetime(df.at[i, 'START_DATE']) - pd.to_datetime(df.at[j, 'START_DATE'])).total_seconds() / 3600.0  # Calculate time difference in hours\n",
    "#     #         print(\"time: \",time_diff,\"      distance:  \",distance )\n",
    "#     #         if distance < radius or time_diff>time_threshold:\n",
    "#     #             print(\"False:\",i, \"    <--i, j--> \", j)\n",
    "#     #             return False\n",
    "#     #         else:\n",
    "#     #             print(\"Depends on number of sectors\",i, \"    <--i, j--> \", j)\n",
    "#     #             return num_sectors_within_radius.iloc[j] >= sector_threshold\n",
    "#     #     else:\n",
    "#     #         return False\n",
    "#     # overshoot_flags.iloc[1:] = df.iloc[1:].apply(calculate_flag, axis=1)\n",
    "#     # print(overshoot_flags)\n",
    "#     # return overshoot_flags\n",
    "#     overshoot_flags = pd.Series(index=df.index, dtype=bool)\n",
    "#     overshoot_flags[:]= False  # Initialize the first point's flag as False\n",
    "#     overshoot_flags.iloc[end_idx] = df.loc[end_idx,\"potential_overshoot\"]\n",
    "#     if \"START_DATE\" in df.columns:  \n",
    "#         for i in range(start_idx, len(df)):\n",
    "#             j = i - 1\n",
    "#             while j >= 0 and overshoot_flags.iloc[j]:\n",
    "#                 j -= 1\n",
    "#             distance = geodesic((df.at[i, 'location_latitude'], df.at[i, 'location_longitude']),\n",
    "#                                     (df.at[j, 'location_latitude'], df.at[j, 'location_longitude'])).kilometers\n",
    "#             time_diff = (pd.to_datetime(df.at[i, 'START_DATE']) - pd.to_datetime(df.at[j, 'START_DATE'])).total_seconds()/ 3600.0  # Calculate time difference in hours\n",
    "#             # print(\"time: \",time_diff,\"      distance:  \",distance )\n",
    "#             if distance < radius or time_diff>time_threshold:\n",
    "#                 # print(\"False:\",i, \"    <--i, j--> \", j)\n",
    "#                 overshoot_flags.iloc[i] =False\n",
    "#             else:\n",
    "#                 # print(\"Depends on number of sectors\",i, \"    <--i, j--> \", j)\n",
    "#                 overshoot_flags.iloc[i] = num_sectors_within_radius.iloc[j] >= sector_threshold\n",
    "        \n",
    "#         # Assign overshoot_flags back to the DataFrame\n",
    "#         df.loc[start_idx:, \"potential_overshoot\"] = overshoot_flags[start_idx:]\n",
    "#         # return overshoot_flags\n",
    "    \n",
    "#     elif \"usage_timeframe\" in df.columns: \n",
    "#         for i in range(start_idx, len(df)):\n",
    "#             j = i - 1\n",
    "#             while j >= 0 and overshoot_flags.iloc[j]:\n",
    "#                 j -= 1\n",
    "#             distance = geodesic((df.at[i, 'location_latitude'], df.at[i, 'location_longitude']),\n",
    "#                                     (df.at[j, 'location_latitude'], df.at[j, 'location_longitude'])).kilometers\n",
    "#             time_diff = (pd.to_datetime(df.at[i, 'usage_timeframe']) - pd.to_datetime(df.at[j, 'usage_timeframe'])).total_seconds() / 3600.0  # Calculate time difference in hours\n",
    "#             # print(\"time: \",time_diff,\"      distance:  \",distance )\n",
    "            \n",
    "#             if distance < radius:\n",
    "#                 # print(\"False:\",i, \"    <--i, j--> \", j)\n",
    "#                 overshoot_flags.iloc[i] =False\n",
    "#             elif time_diff>time_threshold:\n",
    "#                 next_idx = determine_correct_cgi_subset(df,i)\n",
    "#             else:\n",
    "#                 # print(\"Depends on number of sectors\",i, \"    <--i, j--> \", j)\n",
    "#                 overshoot_flags.iloc[i] = num_sectors_within_radius.iloc[j] >= sector_threshold\n",
    "        \n",
    "#     # Assign overshoot_flags back to the DataFrame\n",
    "#     df.loc[start_idx:, \"potential_overshoot\"] = overshoot_flags[start_idx:]\n",
    "        \n",
    "    \n",
    "from math import radians, sin, cos, sqrt, atan2\n",
    "\n"
   ]
  },
  {
   "cell_type": "code",
   "execution_count": 3,
   "metadata": {},
   "outputs": [],
   "source": [
    "import math\n",
    "import pandas as pd\n",
    "from geopy.distance import geodesic\n",
    "\n",
    "def determine_correct_cgi_subset(df, start_idx=0, end_idx=len(df)-1):\n",
    "\n",
    "    if start_idx<len(df)-1 and df.at[start_idx, 'cgi_id'] != df.at[start_idx + 1, 'cgi_id']:\n",
    "        switching_pattern = {df.at[start_idx ,'cgi_id']:start_idx, df.at[start_idx+1, 'cgi_id']:start_idx+1 }\n",
    "    else:\n",
    "        return df ,start_idx\n",
    "    # Identify the switching pattern\n",
    "    switch_end_idx= start_idx+1\n",
    "    for i in range(start_idx+2, end_idx-1):\n",
    "        if i + 1 < len(df) and df.at[i, 'cgi_id'] != df.at[i + 1, 'cgi_id']:\n",
    "            # print(df.at[i, 'cgi_id'],\"---\", df.at[i + 1, 'cgi_id'])\n",
    "            if (df.at[i,\"cgi_id\"] in switching_pattern.keys()) and (df.at[i+1,\"cgi_id\"] in switching_pattern.keys()):\n",
    "                \n",
    "                switching_pattern[df.at[i ,'cgi_id']] = i\n",
    "                switching_pattern[df.at[i+1 ,'cgi_id']] = i+1\n",
    "                switch_end_idx = i+1\n",
    "            else:\n",
    "            \n",
    "                break\n",
    "        else:\n",
    "            break\n",
    "    \n",
    "    if not switching_pattern or switch_end_idx == start_idx+1:\n",
    "            return df ,start_idx\n",
    "        \n",
    "    print(switching_pattern)\n",
    "\n",
    "    cgi_set = switching_pattern.keys()\n",
    "\n",
    "    \n",
    "    # if len(cgi_set) != 2:\n",
    "    #     return df, end_idx\n",
    "    \n",
    "    cgi1, cgi2 = list(cgi_set)\n",
    "    print(cgi1,\"_____________\",cgi2)\n",
    "    next_unique_cgis = set()\n",
    "    for i in range(switch_end_idx + 1, len(df)):\n",
    "        if df.at[i, 'cgi_id'] not in cgi_set:\n",
    "            next_unique_cgis.add(df.at[i, 'cgi_id'])\n",
    "        else:\n",
    "            continue\n",
    "        if len(next_unique_cgis) == 4:\n",
    "            break\n",
    "    \n",
    "    # if len(next_unique_cgis) < 2:\n",
    "    #     return df, end_idx\n",
    "    \n",
    "    next_unique_cgis = list(next_unique_cgis)\n",
    "    \n",
    "    def calculate_distance(cgi_id, next_cgi_id):\n",
    "        row_cgi = df[df['cgi_id'] == cgi_id].iloc[0]\n",
    "        row_next_cgi = df[df['cgi_id'] == next_cgi_id].iloc[0]\n",
    "        return geodesic(\n",
    "            (row_cgi['location_latitude'], row_cgi['location_longitude']),\n",
    "            (row_next_cgi['location_latitude'], row_next_cgi['location_longitude'])\n",
    "        ).kilometers\n",
    "    \n",
    "    # Calculate average distance for cgi1\n",
    "    distances_cgi1 = [calculate_distance(cgi1, next_cgi) for next_cgi in next_unique_cgis]\n",
    "    if distances_cgi1:\n",
    "        avg_distance_cgi1 = sum(distances_cgi1) / len(distances_cgi1)\n",
    "    else:\n",
    "        avg_distance_cgi1 = 0  # handle case where no distances are calculated\n",
    "\n",
    "    # Calculate average distance for cgi2\n",
    "    distances_cgi2 = [calculate_distance(cgi2, next_cgi) for next_cgi in next_unique_cgis]\n",
    "    if distances_cgi2:\n",
    "        avg_distance_cgi2 = sum(distances_cgi2) / len(distances_cgi2)\n",
    "    else:\n",
    "        avg_distance_cgi2 = 0  # handle case where no distances are calculated\n",
    "    correct_cgi = cgi1 if avg_distance_cgi1 < avg_distance_cgi2 else cgi2\n",
    "    overshoot_cgi = cgi2 if correct_cgi == cgi1 else cgi1\n",
    "    \n",
    "    df.loc[start_idx:switch_end_idx, 'switching_overshoot'] = (df.loc[start_idx:switch_end_idx, 'cgi_id'] == overshoot_cgi)\n",
    "    \n",
    "    return df, switch_end_idx\n",
    "\n",
    "def flag_overshoots_based_on_previous_sectors(df,  sector_threshold, time_threshold, num_sectors_column=None,radius=2000, start_idx=1):\n",
    "    \n",
    "    if num_sectors_column is not None:\n",
    "       num_sectors_within_radius = df[num_sectors_column]\n",
    "    elif 'number_of_sectors'  in df.columns:\n",
    "        num_sectors_within_radius = df[\"number_of_sectors\"]\n",
    "    else:\n",
    "         # num_sectors_within_radius = calculate_sectors_within_radius(df, radius)\n",
    "        num__of_sectors = get_common_ids(df,radius)\n",
    "        temp = df.merge(num__of_sectors, on=['location_latitude', 'location_longitude'], how='inner').sort_values(\"START_DATE\").reset_index(drop=True)\n",
    "        num_sectors_within_radius= temp[\"number_of_sectors\"]\n",
    "        df[\"number_of_sectors\"]= num_sectors_within_radius  \n",
    "    \n",
    "    df.loc[0,\"potential_overshoot\"] = False\n",
    "    df.loc[0,\"switching_overshoot\"] = False\n",
    "\n",
    "    # print(num_sectors_within_radius)\n",
    "\n",
    "\n",
    "    \n",
    "# while start_idx < len(df):\n",
    "    print(\"loop 1\")\n",
    "    for i in range(1, len(df)):\n",
    "        # start_idx = i\n",
    "        j = i - 1\n",
    "        while j >= 0 and df.at[j, 'potential_overshoot']:\n",
    "            j -= 1\n",
    "        distance = geodesic(\n",
    "            (df.at[i, 'location_latitude'], df.at[i, 'location_longitude']),\n",
    "            (df.at[j, 'location_latitude'], df.at[j, 'location_longitude'])\n",
    "        ).meters\n",
    "        time_diff = (pd.to_datetime(df.at[i, 'START_DATE']) - pd.to_datetime(df.at[j, 'START_DATE'])).total_seconds() / 3600.0\n",
    "      \n",
    "        if distance < radius:\n",
    "            df.at[i, 'potential_overshoot'] = False    \n",
    "        # elif time_diff > time_threshold:\n",
    "        #     df.at[i, 'potential_overshoot'] = False\n",
    "            ## the statements below are related to switching \n",
    "            # df, switch_end_idx = determine_correct_cgi_subset(df, start_idx=i)\n",
    "            # if switch_end_idx == i:\n",
    "            #     df.at[i, 'switching_overshoot'] = False\n",
    "            # else:\n",
    "            #     start_idx = switch_end_idx \n",
    "            #     break\n",
    "        else:\n",
    "            df.at[i, 'potential_overshoot'] = num_sectors_within_radius.iloc[j] >= sector_threshold\n",
    "    # df.loc[start_idx:, \"potential_overshoot\"] = overshoot_flags[start_idx:]\n",
    "    # start_idx += 1\n",
    "\n",
    "    \n",
    "    print(\"loop2 \") \n",
    "    while start_idx < len(df):\n",
    "        print(\"start index: \",start_idx)\n",
    "        for i in range(start_idx, len(df)):\n",
    "            start_idx = i\n",
    "            j = i - 1\n",
    "            while j >= 0 and df.at[j, 'potential_overshoot']:\n",
    "                j -= 1\n",
    "            print(\"i: \",i,\"-----------\",\"j:\",j)\n",
    "            \n",
    "            distance = geodesic(\n",
    "                (df.at[i, 'location_latitude'], df.at[i, 'location_longitude']),\n",
    "                (df.at[j, 'location_latitude'], df.at[j, 'location_longitude'])\n",
    "            ).meters\n",
    "        # if i!=1:\n",
    "        #     time_diff = (pd.to_datetime(df.at[i, 'START_DATE']) - pd.to_datetime(df.at[j, 'START_DATE'])).total_seconds() / 3600.0\n",
    "                \n",
    "        # else: \n",
    "        #     time_diff = math.inf  \n",
    "        \n",
    "            if distance < radius:\n",
    "                break\n",
    "        # if time_diff > time_threshold:\n",
    "            else:\n",
    "                df, switch_end_idx = determine_correct_cgi_subset(df, start_idx=i)\n",
    "                if switch_end_idx == i:\n",
    "                    df.at[i, 'switching_overshoot'] = False\n",
    "                else:\n",
    "                    start_idx = switch_end_idx \n",
    "                    break     \n",
    "        start_idx += 1\n",
    "        df.loc[df['potential_overshoot'] == False, 'switching_overshoot'] = False\n",
    "\n",
    "        \n",
    "    return df\n",
    "\n"
   ]
  },
  {
   "cell_type": "code",
   "execution_count": 204,
   "metadata": {},
   "outputs": [
    {
     "name": "stderr",
     "output_type": "stream",
     "text": [
      "/tmp/ipykernel_12403/2408260724.py:82: SettingWithCopyWarning: \n",
      "A value is trying to be set on a copy of a slice from a DataFrame.\n",
      "Try using .loc[row_indexer,col_indexer] = value instead\n",
      "\n",
      "See the caveats in the documentation: https://pandas.pydata.org/pandas-docs/stable/user_guide/indexing.html#returning-a-view-versus-a-copy\n",
      "  df[\"number_of_sectors\"] = num_sectors_within_radius\n"
     ]
    },
    {
     "data": {
      "text/plain": [
       "0         14\n",
       "48       169\n",
       "324       25\n",
       "326       14\n",
       "328       32\n",
       "        ... \n",
       "25501    145\n",
       "25532    145\n",
       "25951    171\n",
       "29458    169\n",
       "29849    185\n",
       "Length: 336, dtype: int64"
      ]
     },
     "execution_count": 204,
     "metadata": {},
     "output_type": "execute_result"
    }
   ],
   "source": [
    "## Method 2:\n",
    "radius = 2  # 1 kilometer  \n",
    "sector_threshold = 5 # sectors\n",
    "time_threshold =1 #hour\n",
    "\n",
    "\n",
    "# intermediary = pd.merge(CDR, bts_towers, left_on=\"CELL_ID_START\",right_on='cgi_id' )\n",
    "\n",
    "# intermediary= intermediary[['cgi_id','location_latitude','location_longitude','location_azimuth']]\n",
    "# intermediary = intermediary.drop_duplicates(subset=[\"cgi_id\",'location_latitude','location_longitude','location_azimuth'])\n",
    "# calculate_sectors_within_radius(intermediary,radius)\n",
    "# intermediary\n",
    "\n",
    "intermediary = df.drop_duplicates(subset=['cgi_id','location_latitude','location_longitude','location_azimuth'])\n",
    "calculate_sectors_within_radius(intermediary,radius)\n",
    "# intermediary"
   ]
  },
  {
   "cell_type": "code",
   "execution_count": 4,
   "metadata": {},
   "outputs": [],
   "source": [
    "import pandas as pd\n",
    "from datetime import timedelta\n",
    "\n",
    "def calculate_time_spent_so_far(df):\n",
    "    # df = df.sort_values(by='START_DATE').reset_index(drop=True)\n",
    "    df['time_spent_so_far'] = 0\n",
    "    if \"START_DATE\" in df.columns:\n",
    "        df['START_DATE'] = pd.to_datetime(df[\"START_DATE\"])\n",
    "        previous_cgi_id =df.loc[0, 'cgi_id']\n",
    "        accumulated_time = 0\n",
    "\n",
    "        for i in range(1, len(df)):\n",
    "            current_cgi_id = df.loc[i, 'cgi_id']\n",
    "            previous_start_date = df.loc[i-1, 'START_DATE']\n",
    "            current_start_date = df.loc[i, 'START_DATE']\n",
    "            \n",
    "            # print(f\"Processing row {i}:\")\n",
    "            # print(f\"  Previous CGI ID: {previous_cgi_id}, Current CGI ID: {current_cgi_id}\")\n",
    "            # print(f\"  Previous Start Date: {previous_start_date}, Current Start Date: {current_start_date}\")\n",
    "            \n",
    "            if current_cgi_id == previous_cgi_id:\n",
    "                time_diff = current_start_date - previous_start_date\n",
    "                accumulated_time += time_diff\n",
    "                # print(f\"  Accumulated Time: {accumulated_time}\")\n",
    "            else:\n",
    "                accumulated_time = 0\n",
    "                # print(\"  Resetting accumulated time.\")\n",
    "\n",
    "            df.loc[i, 'time_spent_so_far'] = accumulated_time\n",
    "            # print(f\"  Time Spent So Far (seconds): {df.loc[i, 'time_spent_so_far']}\")\n",
    "            \n",
    "            previous_cgi_id = current_cgi_id\n",
    "            \n",
    "\n",
    "        return df\n",
    "    else:    \n",
    "        previous_cgi_id =df.loc[0, 'cgi_id']\n",
    "        accumulated_time = 0\n",
    "\n",
    "        for i in range(1, len(df)):\n",
    "            current_cgi_id = df.loc[i, 'cgi_id']\n",
    "            previous_start_date = df.loc[i-1, 'usage_timeframe']\n",
    "            current_start_date = df.loc[i, 'usage_timeframe']\n",
    "            \n",
    "            # print(f\"Processing row {i}:\")\n",
    "            # print(f\"  Previous CGI ID: {previous_cgi_id}, Current CGI ID: {current_cgi_id}\")\n",
    "            # print(f\"  Previous Start Date: {previous_start_date}, Current Start Date: {current_start_date}\")\n",
    "            \n",
    "            if current_cgi_id == previous_cgi_id:\n",
    "                time_diff = current_start_date - previous_start_date\n",
    "                accumulated_time += time_diff\n",
    "                # print(f\"  Accumulated Time: {accumulated_time}\")\n",
    "            else:\n",
    "                accumulated_time = 0\n",
    "                # print(\"  Resetting accumulated time.\")\n",
    "\n",
    "            df.loc[i, 'time_spent_so_far'] = accumulated_time\n",
    "            # print(f\"  Time Spent So Far (seconds): {df.loc[i, 'time_spent_so_far']}\")\n",
    "            \n",
    "            previous_cgi_id = current_cgi_id\n",
    "            \n",
    "\n",
    "        return df\n",
    "    \n",
    "def generate_time_spent_flag(df, threshold_minutes):\n",
    "    df = calculate_time_spent_so_far(df)\n",
    "    threshold_seconds = threshold_minutes * 60  # Convert minutes to seconds\n",
    "    df['time_spent_flag'] = df['time_spent_so_far'] > threshold_seconds\n",
    "    return df\n",
    "\n",
    "\n",
    "def generate_visited_flag(df, time_window):\n",
    "    df['potential_session_end'] = False\n",
    "    \n",
    "    # Dictionary to keep track of the last visit time for each cgi_id\n",
    "    last_visit_time = {}\n",
    "    \n",
    "    for index, row in df.iterrows():\n",
    "        current_time = row['END_DATE']\n",
    "        \n",
    "        if row['potential_overshoot'] == False:\n",
    "            df.at[index, 'potential_session_end'] = None\n",
    "        else:\n",
    "            cgi_id = row['cgi_id']\n",
    "            \n",
    "            if cgi_id in last_visit_time:\n",
    "                last_time = last_visit_time[cgi_id]\n",
    "                time_diff = current_time - last_time\n",
    "                \n",
    "                if time_diff >= timedelta(minutes=time_window):\n",
    "                    df.at[index, 'potential_session_end'] = True\n",
    "                # else:\n",
    "                #     df.at[index, 'potential_session_end'] = False\n",
    "            else:\n",
    "                df.at[index, 'potential_session_end'] = False\n",
    "            \n",
    "            # Update the last visit time for this cgi_id\n",
    "            last_visit_time[cgi_id] = current_time\n",
    "    \n",
    "    return df\n",
    "def generate_duration_at_bts_flag(df, threshold_minutes):\n",
    "    \n",
    "    df['potential_newly_active_location'] = ((df['Duration(s)'] > (threshold_minutes * 60)) & (df['Duration(s)'] < (24*3600))& df[\"potential_overshoot\"])\n",
    "    return df   \n"
   ]
  },
  {
   "cell_type": "code",
   "execution_count": 6,
   "metadata": {},
   "outputs": [],
   "source": [
    "import pandas as pd\n",
    "\n",
    "# Assuming df is your initial DataFrame with the provided data\n",
    "# data = {\n",
    "#     'imsi_id': [151967466595180, 151967466595180, 151967466595180, 151967466595180, 151967466595180, \n",
    "#                 151967466595180, 151967466595180, 151967466595180, 151967466595180, 151967466595180, \n",
    "#                 151967466595180, 151967466595180, 151967466595180, 151967466595180],\n",
    "#     'usage_timeframe': [1704810537714, 1704810537715, 1704810537946, 1704810540812, 1704810540813, \n",
    "#                         1704810540880, 1704810546534, 1704810546535, 1704810546618, 1704810580753, \n",
    "#                         1704810606973, 1704810606974, 1704810620192, 1704810647775],\n",
    "#     'cgi_id': [10570761, 10570761, 10570761, 10540807, 10540807, 10540807, 10570761, 10570761, \n",
    "#                10570761, 10570761, 10517510, 10517510, 10517510, 10517510],\n",
    "#     'imei_id': [509593926863172, 509593926863172, 509593926863172, 509593926863172, 509593926863172, \n",
    "#                 509593926863172, 509593926863172, 509593926863172, 509593926863172, 509593926863172, \n",
    "#                 509593926863172, 509593926863172, 509593926863172, 509593926863172],\n",
    "#     'location_azimuth': [10, 10, 10, 140, 140, 140, 10, 10, 10, 10, 30, 30, 30, 30],\n",
    "#     'location_latitude': [33.8693, 33.8693, 33.8693, 33.8748, 33.8748, 33.8748, 33.8693, 33.8693, \n",
    "#                           33.8693, 33.8693, 33.8634, 33.8634, 33.8634, 33.8634],\n",
    "#     'location_longitude': [35.5124, 35.5124, 35.5124, 35.5055, 35.5055, 35.5055, 35.5124, 35.5124, \n",
    "#                            35.5124, 35.5124, 35.5047, 35.5047, 35.5047, 35.5047]\n",
    "# }\n",
    "\n",
    "# df = pd.DataFrame(data)\n",
    "\n",
    "# Convert usage_timeframe to datetime format\n",
    "df['usage_timeframe'] = pd.to_datetime(df['usage_timeframe'], unit='ms')\n",
    "\n",
    "# Find consecutive sessions based on changes in cgi_id\n",
    "df['session_id'] = (df['cgi_id'] != df['cgi_id'].shift(1)).cumsum()\n",
    "\n",
    "# Group by session_id and aggregate\n",
    "result_df = df.groupby('session_id').agg({\n",
    "    # 'session_id':'first',\n",
    "    'imsi_id': 'first',\n",
    "    'cgi_id': 'first',\n",
    "    'imei_id': 'first',\n",
    "    'location_azimuth': 'first',\n",
    "    'location_latitude': 'first',\n",
    "    'location_longitude': 'first',\n",
    "    'usage_timeframe': ['min', 'max', lambda x: (x.max() - x.min()).total_seconds()]\n",
    "}).reset_index(drop=True)\n",
    "\n",
    "# Flatten multi-index columns\n",
    "result_df.columns = ['imsi_id', 'cgi_id', 'imei_id', 'location_azimuth', 'location_latitude', \n",
    "                     'location_longitude', 'START_DATE', 'END_DATE', 'Duration(s)']\n",
    "print\n",
    "result_df= result_df.sort_values(\"START_DATE\")"
   ]
  },
  {
   "cell_type": "code",
   "execution_count": 2,
   "metadata": {},
   "outputs": [
    {
     "ename": "NameError",
     "evalue": "name 'flag_overshoots_based_on_previous_sectors' is not defined",
     "output_type": "error",
     "traceback": [
      "\u001b[0;31m---------------------------------------------------------------------------\u001b[0m",
      "\u001b[0;31mNameError\u001b[0m                                 Traceback (most recent call last)",
      "Input \u001b[0;32mIn [2]\u001b[0m, in \u001b[0;36m<module>\u001b[0;34m\u001b[0m\n\u001b[1;32m      3\u001b[0m time_threshold \u001b[38;5;241m=\u001b[39m\u001b[38;5;241m1\u001b[39m \u001b[38;5;66;03m#hour\u001b[39;00m\n\u001b[1;32m      4\u001b[0m \u001b[38;5;66;03m# df.drop_duplicates(subset=[\"location_latitude\",\"location_longitude\"])\u001b[39;00m\n\u001b[0;32m----> 5\u001b[0m df \u001b[38;5;241m=\u001b[39m \u001b[43mflag_overshoots_based_on_previous_sectors\u001b[49m(df,sector_threshold\u001b[38;5;241m=\u001b[39msector_threshold,time_threshold\u001b[38;5;241m=\u001b[39mtime_threshold,radius\u001b[38;5;241m=\u001b[39mradius)\n",
      "\u001b[0;31mNameError\u001b[0m: name 'flag_overshoots_based_on_previous_sectors' is not defined"
     ]
    }
   ],
   "source": [
    "radius = 2000  # 2000 meters \n",
    "sector_threshold = 5 # sectors\n",
    "time_threshold =1 #hour\n",
    "# df.drop_duplicates(subset=[\"location_latitude\",\"location_longitude\"])\n",
    "result_df = flag_overshoots_based_on_previous_sectors(result_df,sector_threshold=sector_threshold,time_threshold=time_threshold,radius=radius)"
   ]
  },
  {
   "cell_type": "code",
   "execution_count": 8,
   "metadata": {},
   "outputs": [
    {
     "data": {
      "text/html": [
       "<div>\n",
       "<style scoped>\n",
       "    .dataframe tbody tr th:only-of-type {\n",
       "        vertical-align: middle;\n",
       "    }\n",
       "\n",
       "    .dataframe tbody tr th {\n",
       "        vertical-align: top;\n",
       "    }\n",
       "\n",
       "    .dataframe thead th {\n",
       "        text-align: right;\n",
       "    }\n",
       "</style>\n",
       "<table border=\"1\" class=\"dataframe\">\n",
       "  <thead>\n",
       "    <tr style=\"text-align: right;\">\n",
       "      <th></th>\n",
       "      <th>imsi_id</th>\n",
       "      <th>cgi_id</th>\n",
       "      <th>imei_id</th>\n",
       "      <th>location_azimuth</th>\n",
       "      <th>location_latitude</th>\n",
       "      <th>location_longitude</th>\n",
       "      <th>START_DATE</th>\n",
       "      <th>END_DATE</th>\n",
       "      <th>Duration(s)</th>\n",
       "      <th>number_of_sectors</th>\n",
       "      <th>potential_overshoot</th>\n",
       "      <th>switching_overshoot</th>\n",
       "    </tr>\n",
       "  </thead>\n",
       "  <tbody>\n",
       "    <tr>\n",
       "      <th>0</th>\n",
       "      <td>151967466595180</td>\n",
       "      <td>10521857</td>\n",
       "      <td>509593926863172</td>\n",
       "      <td>60</td>\n",
       "      <td>33.8901</td>\n",
       "      <td>35.5566</td>\n",
       "      <td>2024-01-09 10:43:33.785</td>\n",
       "      <td>2024-01-09 11:00:27.564</td>\n",
       "      <td>1013.779</td>\n",
       "      <td>10</td>\n",
       "      <td>False</td>\n",
       "      <td>False</td>\n",
       "    </tr>\n",
       "    <tr>\n",
       "      <th>1</th>\n",
       "      <td>151967466595180</td>\n",
       "      <td>10615559</td>\n",
       "      <td>509593926863172</td>\n",
       "      <td>210</td>\n",
       "      <td>33.8815</td>\n",
       "      <td>35.4886</td>\n",
       "      <td>2024-01-09 11:00:46.581</td>\n",
       "      <td>2024-01-09 11:00:46.581</td>\n",
       "      <td>0.000</td>\n",
       "      <td>174</td>\n",
       "      <td>True</td>\n",
       "      <td>True</td>\n",
       "    </tr>\n",
       "    <tr>\n",
       "      <th>2</th>\n",
       "      <td>151967466595180</td>\n",
       "      <td>10521857</td>\n",
       "      <td>509593926863172</td>\n",
       "      <td>60</td>\n",
       "      <td>33.8901</td>\n",
       "      <td>35.5566</td>\n",
       "      <td>2024-01-09 11:00:48.013</td>\n",
       "      <td>2024-01-09 11:25:41.748</td>\n",
       "      <td>1493.735</td>\n",
       "      <td>10</td>\n",
       "      <td>False</td>\n",
       "      <td>False</td>\n",
       "    </tr>\n",
       "    <tr>\n",
       "      <th>3</th>\n",
       "      <td>151967466595180</td>\n",
       "      <td>10615559</td>\n",
       "      <td>509593926863172</td>\n",
       "      <td>210</td>\n",
       "      <td>33.8815</td>\n",
       "      <td>35.4886</td>\n",
       "      <td>2024-01-09 11:26:00.856</td>\n",
       "      <td>2024-01-09 11:26:00.856</td>\n",
       "      <td>0.000</td>\n",
       "      <td>174</td>\n",
       "      <td>True</td>\n",
       "      <td>True</td>\n",
       "    </tr>\n",
       "    <tr>\n",
       "      <th>4</th>\n",
       "      <td>151967466595180</td>\n",
       "      <td>10521857</td>\n",
       "      <td>509593926863172</td>\n",
       "      <td>60</td>\n",
       "      <td>33.8901</td>\n",
       "      <td>35.5566</td>\n",
       "      <td>2024-01-09 11:26:02.840</td>\n",
       "      <td>2024-01-09 11:30:15.899</td>\n",
       "      <td>253.059</td>\n",
       "      <td>10</td>\n",
       "      <td>False</td>\n",
       "      <td>False</td>\n",
       "    </tr>\n",
       "    <tr>\n",
       "      <th>...</th>\n",
       "      <td>...</td>\n",
       "      <td>...</td>\n",
       "      <td>...</td>\n",
       "      <td>...</td>\n",
       "      <td>...</td>\n",
       "      <td>...</td>\n",
       "      <td>...</td>\n",
       "      <td>...</td>\n",
       "      <td>...</td>\n",
       "      <td>...</td>\n",
       "      <td>...</td>\n",
       "      <td>...</td>\n",
       "    </tr>\n",
       "    <tr>\n",
       "      <th>4190</th>\n",
       "      <td>151967466595180</td>\n",
       "      <td>10517505</td>\n",
       "      <td>509593926863172</td>\n",
       "      <td>30</td>\n",
       "      <td>33.8634</td>\n",
       "      <td>35.5047</td>\n",
       "      <td>2024-01-18 07:36:24.810</td>\n",
       "      <td>2024-01-18 07:36:37.781</td>\n",
       "      <td>12.971</td>\n",
       "      <td>120</td>\n",
       "      <td>False</td>\n",
       "      <td>False</td>\n",
       "    </tr>\n",
       "    <tr>\n",
       "      <th>4191</th>\n",
       "      <td>151967466595180</td>\n",
       "      <td>10570756</td>\n",
       "      <td>509593926863172</td>\n",
       "      <td>10</td>\n",
       "      <td>33.8693</td>\n",
       "      <td>35.5124</td>\n",
       "      <td>2024-01-18 07:36:54.156</td>\n",
       "      <td>2024-01-18 07:37:18.598</td>\n",
       "      <td>24.442</td>\n",
       "      <td>167</td>\n",
       "      <td>False</td>\n",
       "      <td>False</td>\n",
       "    </tr>\n",
       "    <tr>\n",
       "      <th>4192</th>\n",
       "      <td>151967466595180</td>\n",
       "      <td>10556674</td>\n",
       "      <td>509593926863172</td>\n",
       "      <td>170</td>\n",
       "      <td>33.8737</td>\n",
       "      <td>35.5149</td>\n",
       "      <td>2024-01-18 07:37:54.833</td>\n",
       "      <td>2024-01-18 07:37:54.833</td>\n",
       "      <td>0.000</td>\n",
       "      <td>151</td>\n",
       "      <td>False</td>\n",
       "      <td>False</td>\n",
       "    </tr>\n",
       "    <tr>\n",
       "      <th>4193</th>\n",
       "      <td>151967466595180</td>\n",
       "      <td>10570753</td>\n",
       "      <td>509593926863172</td>\n",
       "      <td>110</td>\n",
       "      <td>33.8693</td>\n",
       "      <td>35.5124</td>\n",
       "      <td>2024-01-18 07:37:58.949</td>\n",
       "      <td>2024-01-18 07:38:37.854</td>\n",
       "      <td>38.905</td>\n",
       "      <td>167</td>\n",
       "      <td>False</td>\n",
       "      <td>False</td>\n",
       "    </tr>\n",
       "    <tr>\n",
       "      <th>4194</th>\n",
       "      <td>151967466595180</td>\n",
       "      <td>10532614</td>\n",
       "      <td>509593926863172</td>\n",
       "      <td>50</td>\n",
       "      <td>33.8838</td>\n",
       "      <td>35.4920</td>\n",
       "      <td>2024-01-18 07:38:37.882</td>\n",
       "      <td>2024-01-18 07:38:37.882</td>\n",
       "      <td>0.000</td>\n",
       "      <td>175</td>\n",
       "      <td>True</td>\n",
       "      <td>False</td>\n",
       "    </tr>\n",
       "  </tbody>\n",
       "</table>\n",
       "<p>4195 rows × 12 columns</p>\n",
       "</div>"
      ],
      "text/plain": [
       "              imsi_id    cgi_id          imei_id location_azimuth  \\\n",
       "0     151967466595180  10521857  509593926863172               60   \n",
       "1     151967466595180  10615559  509593926863172              210   \n",
       "2     151967466595180  10521857  509593926863172               60   \n",
       "3     151967466595180  10615559  509593926863172              210   \n",
       "4     151967466595180  10521857  509593926863172               60   \n",
       "...               ...       ...              ...              ...   \n",
       "4190  151967466595180  10517505  509593926863172               30   \n",
       "4191  151967466595180  10570756  509593926863172               10   \n",
       "4192  151967466595180  10556674  509593926863172              170   \n",
       "4193  151967466595180  10570753  509593926863172              110   \n",
       "4194  151967466595180  10532614  509593926863172               50   \n",
       "\n",
       "      location_latitude  location_longitude              START_DATE  \\\n",
       "0               33.8901             35.5566 2024-01-09 10:43:33.785   \n",
       "1               33.8815             35.4886 2024-01-09 11:00:46.581   \n",
       "2               33.8901             35.5566 2024-01-09 11:00:48.013   \n",
       "3               33.8815             35.4886 2024-01-09 11:26:00.856   \n",
       "4               33.8901             35.5566 2024-01-09 11:26:02.840   \n",
       "...                 ...                 ...                     ...   \n",
       "4190            33.8634             35.5047 2024-01-18 07:36:24.810   \n",
       "4191            33.8693             35.5124 2024-01-18 07:36:54.156   \n",
       "4192            33.8737             35.5149 2024-01-18 07:37:54.833   \n",
       "4193            33.8693             35.5124 2024-01-18 07:37:58.949   \n",
       "4194            33.8838             35.4920 2024-01-18 07:38:37.882   \n",
       "\n",
       "                    END_DATE  Duration(s)  number_of_sectors  \\\n",
       "0    2024-01-09 11:00:27.564     1013.779                 10   \n",
       "1    2024-01-09 11:00:46.581        0.000                174   \n",
       "2    2024-01-09 11:25:41.748     1493.735                 10   \n",
       "3    2024-01-09 11:26:00.856        0.000                174   \n",
       "4    2024-01-09 11:30:15.899      253.059                 10   \n",
       "...                      ...          ...                ...   \n",
       "4190 2024-01-18 07:36:37.781       12.971                120   \n",
       "4191 2024-01-18 07:37:18.598       24.442                167   \n",
       "4192 2024-01-18 07:37:54.833        0.000                151   \n",
       "4193 2024-01-18 07:38:37.854       38.905                167   \n",
       "4194 2024-01-18 07:38:37.882        0.000                175   \n",
       "\n",
       "     potential_overshoot switching_overshoot  \n",
       "0                  False               False  \n",
       "1                   True                True  \n",
       "2                  False               False  \n",
       "3                   True                True  \n",
       "4                  False               False  \n",
       "...                  ...                 ...  \n",
       "4190               False               False  \n",
       "4191               False               False  \n",
       "4192               False               False  \n",
       "4193               False               False  \n",
       "4194                True               False  \n",
       "\n",
       "[4195 rows x 12 columns]"
      ]
     },
     "execution_count": 8,
     "metadata": {},
     "output_type": "execute_result"
    }
   ],
   "source": [
    "result_df"
   ]
  },
  {
   "cell_type": "code",
   "execution_count": 196,
   "metadata": {},
   "outputs": [],
   "source": [
    "pd.set_option(\"display.max_rows\",100)\n"
   ]
  },
  {
   "cell_type": "code",
   "execution_count": null,
   "metadata": {},
   "outputs": [],
   "source": [
    "\n",
    "# sector_threshold = 5 # sectors\n",
    "# time_threshold =1 #hour\n",
    "\n",
    "# joined_results = pd.merge(result_df, intermediary , on=\"cgi_id\")\n",
    "# joined_results.drop([col for col in joined_results.columns if '_y' in col], axis=1, inplace=True)\n",
    "# # Rename columns to remove suffixes\n",
    "# joined_results.columns = joined_results.columns.str.replace('_x', '')\n",
    "\n",
    "# joined_results= joined_results.sort_values(\"START_DATE\").reset_index(drop=True)\n",
    "# #  df = df[500:900].reset_index()\n",
    "# flag_overshoots_based_on_previous_sectors(joined_results, sector_threshold, time_threshold,num_sectors_column=\"number_of_sectors\",radius=2000)\n",
    "# # joined_results.head(40)\n"
   ]
  },
  {
   "cell_type": "code",
   "execution_count": 243,
   "metadata": {},
   "outputs": [],
   "source": [
    "joined_results = generate_visited_flag(result_df,time_window=30)\n",
    "# joined_results"
   ]
  },
  {
   "cell_type": "code",
   "execution_count": 244,
   "metadata": {},
   "outputs": [],
   "source": [
    "\n",
    "time_spent_threshold = 30 #minutes\n",
    "\n",
    "# Call the function\n",
    "joined_results = generate_duration_at_bts_flag(joined_results, threshold_minutes=30)\n",
    "  \n"
   ]
  },
  {
   "cell_type": "code",
   "execution_count": 1,
   "metadata": {},
   "outputs": [
    {
     "data": {
      "text/html": [
       "<div>\n",
       "<style scoped>\n",
       "    .dataframe tbody tr th:only-of-type {\n",
       "        vertical-align: middle;\n",
       "    }\n",
       "\n",
       "    .dataframe tbody tr th {\n",
       "        vertical-align: top;\n",
       "    }\n",
       "\n",
       "    .dataframe thead th {\n",
       "        text-align: right;\n",
       "    }\n",
       "</style>\n",
       "<table border=\"1\" class=\"dataframe\">\n",
       "  <thead>\n",
       "    <tr style=\"text-align: right;\">\n",
       "      <th></th>\n",
       "      <th>imsi_id</th>\n",
       "      <th>cgi_id</th>\n",
       "      <th>imei_id</th>\n",
       "      <th>location_azimuth</th>\n",
       "      <th>location_latitude</th>\n",
       "      <th>location_longitude</th>\n",
       "      <th>START_DATE</th>\n",
       "      <th>END_DATE</th>\n",
       "      <th>Duration(s)</th>\n",
       "      <th>number_of_sectors</th>\n",
       "      <th>potential_overshoot</th>\n",
       "      <th>switching_overshoot</th>\n",
       "      <th>potential_session_end</th>\n",
       "      <th>potential_newly_active_location</th>\n",
       "      <th>Overshoot</th>\n",
       "    </tr>\n",
       "  </thead>\n",
       "  <tbody>\n",
       "    <tr>\n",
       "      <th>0</th>\n",
       "      <td>151967466595180</td>\n",
       "      <td>10521857</td>\n",
       "      <td>509593926863172</td>\n",
       "      <td>60</td>\n",
       "      <td>33.8901</td>\n",
       "      <td>35.5566</td>\n",
       "      <td>2024-01-09 10:43:33.785</td>\n",
       "      <td>2024-01-09 11:00:27.564</td>\n",
       "      <td>1013.779</td>\n",
       "      <td>10</td>\n",
       "      <td>False</td>\n",
       "      <td>False</td>\n",
       "      <td>NaN</td>\n",
       "      <td>False</td>\n",
       "      <td>False</td>\n",
       "    </tr>\n",
       "    <tr>\n",
       "      <th>1</th>\n",
       "      <td>151967466595180</td>\n",
       "      <td>10615559</td>\n",
       "      <td>509593926863172</td>\n",
       "      <td>210</td>\n",
       "      <td>33.8815</td>\n",
       "      <td>35.4886</td>\n",
       "      <td>2024-01-09 11:00:46.581</td>\n",
       "      <td>2024-01-09 11:00:46.581</td>\n",
       "      <td>0.000</td>\n",
       "      <td>174</td>\n",
       "      <td>True</td>\n",
       "      <td>True</td>\n",
       "      <td>False</td>\n",
       "      <td>False</td>\n",
       "      <td>True</td>\n",
       "    </tr>\n",
       "    <tr>\n",
       "      <th>2</th>\n",
       "      <td>151967466595180</td>\n",
       "      <td>10521857</td>\n",
       "      <td>509593926863172</td>\n",
       "      <td>60</td>\n",
       "      <td>33.8901</td>\n",
       "      <td>35.5566</td>\n",
       "      <td>2024-01-09 11:00:48.013</td>\n",
       "      <td>2024-01-09 11:25:41.748</td>\n",
       "      <td>1493.735</td>\n",
       "      <td>10</td>\n",
       "      <td>False</td>\n",
       "      <td>False</td>\n",
       "      <td>None</td>\n",
       "      <td>False</td>\n",
       "      <td>False</td>\n",
       "    </tr>\n",
       "    <tr>\n",
       "      <th>3</th>\n",
       "      <td>151967466595180</td>\n",
       "      <td>10615559</td>\n",
       "      <td>509593926863172</td>\n",
       "      <td>210</td>\n",
       "      <td>33.8815</td>\n",
       "      <td>35.4886</td>\n",
       "      <td>2024-01-09 11:26:00.856</td>\n",
       "      <td>2024-01-09 11:26:00.856</td>\n",
       "      <td>0.000</td>\n",
       "      <td>174</td>\n",
       "      <td>True</td>\n",
       "      <td>True</td>\n",
       "      <td>False</td>\n",
       "      <td>False</td>\n",
       "      <td>True</td>\n",
       "    </tr>\n",
       "    <tr>\n",
       "      <th>4</th>\n",
       "      <td>151967466595180</td>\n",
       "      <td>10521857</td>\n",
       "      <td>509593926863172</td>\n",
       "      <td>60</td>\n",
       "      <td>33.8901</td>\n",
       "      <td>35.5566</td>\n",
       "      <td>2024-01-09 11:26:02.840</td>\n",
       "      <td>2024-01-09 11:30:15.899</td>\n",
       "      <td>253.059</td>\n",
       "      <td>10</td>\n",
       "      <td>False</td>\n",
       "      <td>False</td>\n",
       "      <td>None</td>\n",
       "      <td>False</td>\n",
       "      <td>False</td>\n",
       "    </tr>\n",
       "    <tr>\n",
       "      <th>...</th>\n",
       "      <td>...</td>\n",
       "      <td>...</td>\n",
       "      <td>...</td>\n",
       "      <td>...</td>\n",
       "      <td>...</td>\n",
       "      <td>...</td>\n",
       "      <td>...</td>\n",
       "      <td>...</td>\n",
       "      <td>...</td>\n",
       "      <td>...</td>\n",
       "      <td>...</td>\n",
       "      <td>...</td>\n",
       "      <td>...</td>\n",
       "      <td>...</td>\n",
       "      <td>...</td>\n",
       "    </tr>\n",
       "    <tr>\n",
       "      <th>4190</th>\n",
       "      <td>151967466595180</td>\n",
       "      <td>10517505</td>\n",
       "      <td>509593926863172</td>\n",
       "      <td>30</td>\n",
       "      <td>33.8634</td>\n",
       "      <td>35.5047</td>\n",
       "      <td>2024-01-18 07:36:24.810</td>\n",
       "      <td>2024-01-18 07:36:37.781</td>\n",
       "      <td>12.971</td>\n",
       "      <td>120</td>\n",
       "      <td>False</td>\n",
       "      <td>False</td>\n",
       "      <td>None</td>\n",
       "      <td>False</td>\n",
       "      <td>False</td>\n",
       "    </tr>\n",
       "    <tr>\n",
       "      <th>4191</th>\n",
       "      <td>151967466595180</td>\n",
       "      <td>10570756</td>\n",
       "      <td>509593926863172</td>\n",
       "      <td>10</td>\n",
       "      <td>33.8693</td>\n",
       "      <td>35.5124</td>\n",
       "      <td>2024-01-18 07:36:54.156</td>\n",
       "      <td>2024-01-18 07:37:18.598</td>\n",
       "      <td>24.442</td>\n",
       "      <td>167</td>\n",
       "      <td>False</td>\n",
       "      <td>False</td>\n",
       "      <td>None</td>\n",
       "      <td>False</td>\n",
       "      <td>False</td>\n",
       "    </tr>\n",
       "    <tr>\n",
       "      <th>4192</th>\n",
       "      <td>151967466595180</td>\n",
       "      <td>10556674</td>\n",
       "      <td>509593926863172</td>\n",
       "      <td>170</td>\n",
       "      <td>33.8737</td>\n",
       "      <td>35.5149</td>\n",
       "      <td>2024-01-18 07:37:54.833</td>\n",
       "      <td>2024-01-18 07:37:54.833</td>\n",
       "      <td>0.000</td>\n",
       "      <td>151</td>\n",
       "      <td>False</td>\n",
       "      <td>False</td>\n",
       "      <td>None</td>\n",
       "      <td>False</td>\n",
       "      <td>False</td>\n",
       "    </tr>\n",
       "    <tr>\n",
       "      <th>4193</th>\n",
       "      <td>151967466595180</td>\n",
       "      <td>10570753</td>\n",
       "      <td>509593926863172</td>\n",
       "      <td>110</td>\n",
       "      <td>33.8693</td>\n",
       "      <td>35.5124</td>\n",
       "      <td>2024-01-18 07:37:58.949</td>\n",
       "      <td>2024-01-18 07:38:37.854</td>\n",
       "      <td>38.905</td>\n",
       "      <td>167</td>\n",
       "      <td>False</td>\n",
       "      <td>False</td>\n",
       "      <td>None</td>\n",
       "      <td>False</td>\n",
       "      <td>False</td>\n",
       "    </tr>\n",
       "    <tr>\n",
       "      <th>4194</th>\n",
       "      <td>151967466595180</td>\n",
       "      <td>10532614</td>\n",
       "      <td>509593926863172</td>\n",
       "      <td>50</td>\n",
       "      <td>33.8838</td>\n",
       "      <td>35.4920</td>\n",
       "      <td>2024-01-18 07:38:37.882</td>\n",
       "      <td>2024-01-18 07:38:37.882</td>\n",
       "      <td>0.000</td>\n",
       "      <td>175</td>\n",
       "      <td>True</td>\n",
       "      <td>False</td>\n",
       "      <td>True</td>\n",
       "      <td>False</td>\n",
       "      <td>True</td>\n",
       "    </tr>\n",
       "  </tbody>\n",
       "</table>\n",
       "<p>4195 rows × 15 columns</p>\n",
       "</div>"
      ],
      "text/plain": [
       "              imsi_id    cgi_id          imei_id location_azimuth  \\\n",
       "0     151967466595180  10521857  509593926863172               60   \n",
       "1     151967466595180  10615559  509593926863172              210   \n",
       "2     151967466595180  10521857  509593926863172               60   \n",
       "3     151967466595180  10615559  509593926863172              210   \n",
       "4     151967466595180  10521857  509593926863172               60   \n",
       "...               ...       ...              ...              ...   \n",
       "4190  151967466595180  10517505  509593926863172               30   \n",
       "4191  151967466595180  10570756  509593926863172               10   \n",
       "4192  151967466595180  10556674  509593926863172              170   \n",
       "4193  151967466595180  10570753  509593926863172              110   \n",
       "4194  151967466595180  10532614  509593926863172               50   \n",
       "\n",
       "      location_latitude  location_longitude              START_DATE  \\\n",
       "0               33.8901             35.5566 2024-01-09 10:43:33.785   \n",
       "1               33.8815             35.4886 2024-01-09 11:00:46.581   \n",
       "2               33.8901             35.5566 2024-01-09 11:00:48.013   \n",
       "3               33.8815             35.4886 2024-01-09 11:26:00.856   \n",
       "4               33.8901             35.5566 2024-01-09 11:26:02.840   \n",
       "...                 ...                 ...                     ...   \n",
       "4190            33.8634             35.5047 2024-01-18 07:36:24.810   \n",
       "4191            33.8693             35.5124 2024-01-18 07:36:54.156   \n",
       "4192            33.8737             35.5149 2024-01-18 07:37:54.833   \n",
       "4193            33.8693             35.5124 2024-01-18 07:37:58.949   \n",
       "4194            33.8838             35.4920 2024-01-18 07:38:37.882   \n",
       "\n",
       "                    END_DATE  Duration(s)  number_of_sectors  \\\n",
       "0    2024-01-09 11:00:27.564     1013.779                 10   \n",
       "1    2024-01-09 11:00:46.581        0.000                174   \n",
       "2    2024-01-09 11:25:41.748     1493.735                 10   \n",
       "3    2024-01-09 11:26:00.856        0.000                174   \n",
       "4    2024-01-09 11:30:15.899      253.059                 10   \n",
       "...                      ...          ...                ...   \n",
       "4190 2024-01-18 07:36:37.781       12.971                120   \n",
       "4191 2024-01-18 07:37:18.598       24.442                167   \n",
       "4192 2024-01-18 07:37:54.833        0.000                151   \n",
       "4193 2024-01-18 07:38:37.854       38.905                167   \n",
       "4194 2024-01-18 07:38:37.882        0.000                175   \n",
       "\n",
       "     potential_overshoot switching_overshoot potential_session_end  \\\n",
       "0                  False               False                   NaN   \n",
       "1                   True                True                 False   \n",
       "2                  False               False                  None   \n",
       "3                   True                True                 False   \n",
       "4                  False               False                  None   \n",
       "...                  ...                 ...                   ...   \n",
       "4190               False               False                  None   \n",
       "4191               False               False                  None   \n",
       "4192               False               False                  None   \n",
       "4193               False               False                  None   \n",
       "4194                True               False                  True   \n",
       "\n",
       "      potential_newly_active_location Overshoot  \n",
       "0                               False     False  \n",
       "1                               False      True  \n",
       "2                               False     False  \n",
       "3                               False      True  \n",
       "4                               False     False  \n",
       "...                               ...       ...  \n",
       "4190                            False     False  \n",
       "4191                            False     False  \n",
       "4192                            False     False  \n",
       "4193                            False     False  \n",
       "4194                            False      True  \n",
       "\n",
       "[4195 rows x 15 columns]"
      ]
     },
     "execution_count": 1,
     "metadata": {},
     "output_type": "execute_result"
    }
   ],
   "source": [
    "from vcis.databases.cassandra.cassandra_tools import CassandraTools\n",
    "from vcis.databases.cassandra_spark.cassandra_spark_tools import CassandraSparkTools\n",
    "from vcis.session_detection.session_detection_main import SessionDetectionMain\n",
    "\n",
    "detector = SessionDetectionMain()\n",
    "radius = 2000  # 2000 meters  \n",
    "sector_threshold = 5 # sectors\n",
    "time_difference_threshold =600 # 10 hours\n",
    "new_active_location_threshold = 180 #minutes\n",
    "time_window = 180 #minutes\n",
    "start_date = '2022-05-01'\n",
    "end_date = '2025-05-01'\n",
    "default_fetch_size = 30000\n",
    "df = detector.generate_overshoot_flags(\"151967466595180\",\"10.1.10.110\",start_date,end_date,default_fetch_size,radius,sector_threshold,time_difference_threshold,time_window,new_active_location_threshold)\n",
    "df"
   ]
  },
  {
   "cell_type": "code",
   "execution_count": 2,
   "metadata": {},
   "outputs": [
    {
     "data": {
      "text/html": [
       "<div>\n",
       "<style scoped>\n",
       "    .dataframe tbody tr th:only-of-type {\n",
       "        vertical-align: middle;\n",
       "    }\n",
       "\n",
       "    .dataframe tbody tr th {\n",
       "        vertical-align: top;\n",
       "    }\n",
       "\n",
       "    .dataframe thead th {\n",
       "        text-align: right;\n",
       "    }\n",
       "</style>\n",
       "<table border=\"1\" class=\"dataframe\">\n",
       "  <thead>\n",
       "    <tr style=\"text-align: right;\">\n",
       "      <th></th>\n",
       "    </tr>\n",
       "  </thead>\n",
       "  <tbody>\n",
       "  </tbody>\n",
       "</table>\n",
       "</div>"
      ],
      "text/plain": [
       "Empty DataFrame\n",
       "Columns: []\n",
       "Index: []"
      ]
     },
     "execution_count": 2,
     "metadata": {},
     "output_type": "execute_result"
    }
   ],
   "source": [
    "df"
   ]
  },
  {
   "cell_type": "code",
   "execution_count": 2,
   "metadata": {},
   "outputs": [
    {
     "name": "stdout",
     "output_type": "stream",
     "text": [
      "False    120\n",
      "True      18\n",
      "Name: potential_session_end, dtype: int64\n",
      "False    4057\n",
      "True      138\n",
      "Name: potential_overshoot, dtype: int64\n",
      "False    4195\n",
      "Name: potential_newly_active_location, dtype: int64\n",
      "False    4104\n",
      "True       91\n",
      "Name: switching_overshoot, dtype: int64\n",
      "False    4057\n",
      "True      138\n",
      "Name: Overshoot, dtype: int64\n"
     ]
    }
   ],
   "source": [
    "print(df[\"potential_session_end\"].value_counts())\n",
    "print(df[\"potential_overshoot\"].value_counts())\n",
    "print(df[\"potential_newly_active_location\"].value_counts())\n",
    "print(df[\"switching_overshoot\"].value_counts())\n",
    "print(df[\"Overshoot\"].value_counts())\n",
    "# #Before:\n",
    "# False    124\n",
    "# True      31\n",
    "# Name: potential_session_end, dtype: int64\n",
    "# False    4040\n",
    "# True      155\n",
    "# Name: potential_overshoot, dtype: int64\n",
    "# False    4194\n",
    "# True        1\n",
    "# Name: potential_newly_active_location, dtype: int64\n",
    "# False    4108\n",
    "# True       87\n",
    "# Name: switching_overshoot, dtype: int64\n",
    "# False    4041\n",
    "# True      154\n",
    "# Name: Overshoot, dtype: int64\n",
    "# #After:\n"
   ]
  },
  {
   "cell_type": "code",
   "execution_count": 4,
   "metadata": {},
   "outputs": [
    {
     "data": {
      "text/html": [
       "<div>\n",
       "<style scoped>\n",
       "    .dataframe tbody tr th:only-of-type {\n",
       "        vertical-align: middle;\n",
       "    }\n",
       "\n",
       "    .dataframe tbody tr th {\n",
       "        vertical-align: top;\n",
       "    }\n",
       "\n",
       "    .dataframe thead th {\n",
       "        text-align: right;\n",
       "    }\n",
       "</style>\n",
       "<table border=\"1\" class=\"dataframe\">\n",
       "  <thead>\n",
       "    <tr style=\"text-align: right;\">\n",
       "      <th></th>\n",
       "      <th>imsi_id</th>\n",
       "      <th>cgi_id</th>\n",
       "      <th>imei_id</th>\n",
       "      <th>location_azimuth</th>\n",
       "      <th>location_latitude</th>\n",
       "      <th>location_longitude</th>\n",
       "      <th>START_DATE</th>\n",
       "      <th>END_DATE</th>\n",
       "      <th>Duration(s)</th>\n",
       "      <th>number_of_sectors</th>\n",
       "      <th>potential_overshoot</th>\n",
       "      <th>switching_overshoot</th>\n",
       "    </tr>\n",
       "  </thead>\n",
       "  <tbody>\n",
       "    <tr>\n",
       "      <th>0</th>\n",
       "      <td>151967466595180</td>\n",
       "      <td>10521857</td>\n",
       "      <td>509593926863172</td>\n",
       "      <td>60</td>\n",
       "      <td>33.8901</td>\n",
       "      <td>35.5566</td>\n",
       "      <td>2024-01-09 10:43:33.785</td>\n",
       "      <td>2024-01-09 11:00:27.564</td>\n",
       "      <td>1013.779</td>\n",
       "      <td>10</td>\n",
       "      <td>False</td>\n",
       "      <td>False</td>\n",
       "    </tr>\n",
       "    <tr>\n",
       "      <th>1</th>\n",
       "      <td>151967466595180</td>\n",
       "      <td>10615559</td>\n",
       "      <td>509593926863172</td>\n",
       "      <td>210</td>\n",
       "      <td>33.8815</td>\n",
       "      <td>35.4886</td>\n",
       "      <td>2024-01-09 11:00:46.581</td>\n",
       "      <td>2024-01-09 11:00:46.581</td>\n",
       "      <td>0.000</td>\n",
       "      <td>174</td>\n",
       "      <td>True</td>\n",
       "      <td>True</td>\n",
       "    </tr>\n",
       "    <tr>\n",
       "      <th>2</th>\n",
       "      <td>151967466595180</td>\n",
       "      <td>10521857</td>\n",
       "      <td>509593926863172</td>\n",
       "      <td>60</td>\n",
       "      <td>33.8901</td>\n",
       "      <td>35.5566</td>\n",
       "      <td>2024-01-09 11:00:48.013</td>\n",
       "      <td>2024-01-09 11:25:41.748</td>\n",
       "      <td>1493.735</td>\n",
       "      <td>10</td>\n",
       "      <td>False</td>\n",
       "      <td>False</td>\n",
       "    </tr>\n",
       "    <tr>\n",
       "      <th>3</th>\n",
       "      <td>151967466595180</td>\n",
       "      <td>10615559</td>\n",
       "      <td>509593926863172</td>\n",
       "      <td>210</td>\n",
       "      <td>33.8815</td>\n",
       "      <td>35.4886</td>\n",
       "      <td>2024-01-09 11:26:00.856</td>\n",
       "      <td>2024-01-09 11:26:00.856</td>\n",
       "      <td>0.000</td>\n",
       "      <td>174</td>\n",
       "      <td>True</td>\n",
       "      <td>True</td>\n",
       "    </tr>\n",
       "    <tr>\n",
       "      <th>4</th>\n",
       "      <td>151967466595180</td>\n",
       "      <td>10521857</td>\n",
       "      <td>509593926863172</td>\n",
       "      <td>60</td>\n",
       "      <td>33.8901</td>\n",
       "      <td>35.5566</td>\n",
       "      <td>2024-01-09 11:26:02.840</td>\n",
       "      <td>2024-01-09 11:30:15.899</td>\n",
       "      <td>253.059</td>\n",
       "      <td>10</td>\n",
       "      <td>False</td>\n",
       "      <td>False</td>\n",
       "    </tr>\n",
       "    <tr>\n",
       "      <th>...</th>\n",
       "      <td>...</td>\n",
       "      <td>...</td>\n",
       "      <td>...</td>\n",
       "      <td>...</td>\n",
       "      <td>...</td>\n",
       "      <td>...</td>\n",
       "      <td>...</td>\n",
       "      <td>...</td>\n",
       "      <td>...</td>\n",
       "      <td>...</td>\n",
       "      <td>...</td>\n",
       "      <td>...</td>\n",
       "    </tr>\n",
       "    <tr>\n",
       "      <th>4190</th>\n",
       "      <td>151967466595180</td>\n",
       "      <td>10517505</td>\n",
       "      <td>509593926863172</td>\n",
       "      <td>30</td>\n",
       "      <td>33.8634</td>\n",
       "      <td>35.5047</td>\n",
       "      <td>2024-01-18 07:36:24.810</td>\n",
       "      <td>2024-01-18 07:36:37.781</td>\n",
       "      <td>12.971</td>\n",
       "      <td>120</td>\n",
       "      <td>False</td>\n",
       "      <td>False</td>\n",
       "    </tr>\n",
       "    <tr>\n",
       "      <th>4191</th>\n",
       "      <td>151967466595180</td>\n",
       "      <td>10570756</td>\n",
       "      <td>509593926863172</td>\n",
       "      <td>10</td>\n",
       "      <td>33.8693</td>\n",
       "      <td>35.5124</td>\n",
       "      <td>2024-01-18 07:36:54.156</td>\n",
       "      <td>2024-01-18 07:37:18.598</td>\n",
       "      <td>24.442</td>\n",
       "      <td>167</td>\n",
       "      <td>False</td>\n",
       "      <td>False</td>\n",
       "    </tr>\n",
       "    <tr>\n",
       "      <th>4192</th>\n",
       "      <td>151967466595180</td>\n",
       "      <td>10556674</td>\n",
       "      <td>509593926863172</td>\n",
       "      <td>170</td>\n",
       "      <td>33.8737</td>\n",
       "      <td>35.5149</td>\n",
       "      <td>2024-01-18 07:37:54.833</td>\n",
       "      <td>2024-01-18 07:37:54.833</td>\n",
       "      <td>0.000</td>\n",
       "      <td>151</td>\n",
       "      <td>False</td>\n",
       "      <td>False</td>\n",
       "    </tr>\n",
       "    <tr>\n",
       "      <th>4193</th>\n",
       "      <td>151967466595180</td>\n",
       "      <td>10570753</td>\n",
       "      <td>509593926863172</td>\n",
       "      <td>110</td>\n",
       "      <td>33.8693</td>\n",
       "      <td>35.5124</td>\n",
       "      <td>2024-01-18 07:37:58.949</td>\n",
       "      <td>2024-01-18 07:38:37.854</td>\n",
       "      <td>38.905</td>\n",
       "      <td>167</td>\n",
       "      <td>False</td>\n",
       "      <td>False</td>\n",
       "    </tr>\n",
       "    <tr>\n",
       "      <th>4194</th>\n",
       "      <td>151967466595180</td>\n",
       "      <td>10532614</td>\n",
       "      <td>509593926863172</td>\n",
       "      <td>50</td>\n",
       "      <td>33.8838</td>\n",
       "      <td>35.4920</td>\n",
       "      <td>2024-01-18 07:38:37.882</td>\n",
       "      <td>2024-01-18 07:38:37.882</td>\n",
       "      <td>0.000</td>\n",
       "      <td>175</td>\n",
       "      <td>True</td>\n",
       "      <td>False</td>\n",
       "    </tr>\n",
       "  </tbody>\n",
       "</table>\n",
       "<p>4195 rows × 12 columns</p>\n",
       "</div>"
      ],
      "text/plain": [
       "              imsi_id    cgi_id          imei_id location_azimuth  \\\n",
       "0     151967466595180  10521857  509593926863172               60   \n",
       "1     151967466595180  10615559  509593926863172              210   \n",
       "2     151967466595180  10521857  509593926863172               60   \n",
       "3     151967466595180  10615559  509593926863172              210   \n",
       "4     151967466595180  10521857  509593926863172               60   \n",
       "...               ...       ...              ...              ...   \n",
       "4190  151967466595180  10517505  509593926863172               30   \n",
       "4191  151967466595180  10570756  509593926863172               10   \n",
       "4192  151967466595180  10556674  509593926863172              170   \n",
       "4193  151967466595180  10570753  509593926863172              110   \n",
       "4194  151967466595180  10532614  509593926863172               50   \n",
       "\n",
       "      location_latitude  location_longitude              START_DATE  \\\n",
       "0               33.8901             35.5566 2024-01-09 10:43:33.785   \n",
       "1               33.8815             35.4886 2024-01-09 11:00:46.581   \n",
       "2               33.8901             35.5566 2024-01-09 11:00:48.013   \n",
       "3               33.8815             35.4886 2024-01-09 11:26:00.856   \n",
       "4               33.8901             35.5566 2024-01-09 11:26:02.840   \n",
       "...                 ...                 ...                     ...   \n",
       "4190            33.8634             35.5047 2024-01-18 07:36:24.810   \n",
       "4191            33.8693             35.5124 2024-01-18 07:36:54.156   \n",
       "4192            33.8737             35.5149 2024-01-18 07:37:54.833   \n",
       "4193            33.8693             35.5124 2024-01-18 07:37:58.949   \n",
       "4194            33.8838             35.4920 2024-01-18 07:38:37.882   \n",
       "\n",
       "                    END_DATE  Duration(s)  number_of_sectors  \\\n",
       "0    2024-01-09 11:00:27.564     1013.779                 10   \n",
       "1    2024-01-09 11:00:46.581        0.000                174   \n",
       "2    2024-01-09 11:25:41.748     1493.735                 10   \n",
       "3    2024-01-09 11:26:00.856        0.000                174   \n",
       "4    2024-01-09 11:30:15.899      253.059                 10   \n",
       "...                      ...          ...                ...   \n",
       "4190 2024-01-18 07:36:37.781       12.971                120   \n",
       "4191 2024-01-18 07:37:18.598       24.442                167   \n",
       "4192 2024-01-18 07:37:54.833        0.000                151   \n",
       "4193 2024-01-18 07:38:37.854       38.905                167   \n",
       "4194 2024-01-18 07:38:37.882        0.000                175   \n",
       "\n",
       "     potential_overshoot switching_overshoot  \n",
       "0                  False               False  \n",
       "1                   True                True  \n",
       "2                  False               False  \n",
       "3                   True                True  \n",
       "4                  False               False  \n",
       "...                  ...                 ...  \n",
       "4190               False               False  \n",
       "4191               False               False  \n",
       "4192               False               False  \n",
       "4193               False               False  \n",
       "4194                True               False  \n",
       "\n",
       "[4195 rows x 12 columns]"
      ]
     },
     "execution_count": 4,
     "metadata": {},
     "output_type": "execute_result"
    }
   ],
   "source": [
    "df"
   ]
  },
  {
   "cell_type": "code",
   "execution_count": 273,
   "metadata": {},
   "outputs": [
    {
     "data": {
      "text/html": [
       "<div>\n",
       "<style scoped>\n",
       "    .dataframe tbody tr th:only-of-type {\n",
       "        vertical-align: middle;\n",
       "    }\n",
       "\n",
       "    .dataframe tbody tr th {\n",
       "        vertical-align: top;\n",
       "    }\n",
       "\n",
       "    .dataframe thead th {\n",
       "        text-align: right;\n",
       "    }\n",
       "</style>\n",
       "<table border=\"1\" class=\"dataframe\">\n",
       "  <thead>\n",
       "    <tr style=\"text-align: right;\">\n",
       "      <th></th>\n",
       "      <th>imsi_id</th>\n",
       "      <th>cgi_id</th>\n",
       "      <th>imei_id</th>\n",
       "      <th>location_azimuth</th>\n",
       "      <th>location_latitude</th>\n",
       "      <th>location_longitude</th>\n",
       "      <th>START_DATE</th>\n",
       "      <th>END_DATE</th>\n",
       "      <th>Duration(s)</th>\n",
       "      <th>number_of_sectors</th>\n",
       "      <th>potential_overshoot</th>\n",
       "      <th>switching_overshoot</th>\n",
       "      <th>potential_session_end</th>\n",
       "      <th>potential_newly_active_location</th>\n",
       "      <th>Overshoot</th>\n",
       "    </tr>\n",
       "  </thead>\n",
       "  <tbody>\n",
       "  </tbody>\n",
       "</table>\n",
       "</div>"
      ],
      "text/plain": [
       "Empty DataFrame\n",
       "Columns: [imsi_id, cgi_id, imei_id, location_azimuth, location_latitude, location_longitude, START_DATE, END_DATE, Duration(s), number_of_sectors, potential_overshoot, switching_overshoot, potential_session_end, potential_newly_active_location, Overshoot]\n",
       "Index: []"
      ]
     },
     "execution_count": 273,
     "metadata": {},
     "output_type": "execute_result"
    }
   ],
   "source": [
    "joined_results[ joined_results[\"potential_overshoot\"]&  ((joined_results[\"potential_session_end\"]==False)& (joined_results[\"potential_newly_active_location\"]==True) & (joined_results[\"switching_overshoot\"]==False))]"
   ]
  },
  {
   "cell_type": "code",
   "execution_count": 274,
   "metadata": {},
   "outputs": [],
   "source": [
    "\n",
    "joined_results[\"Overshoot\"]= \"undetermined\"\n",
    "  \n",
    "# Default to 'undetermined'\n",
    "joined_results.loc[joined_results['potential_overshoot'] == False, 'Overshoot'] = False  \n",
    "# If 'a' is False, set 'new_column' to False\n",
    "joined_results.loc[joined_results['potential_overshoot'] & (joined_results['potential_session_end'] | joined_results['switching_overshoot'] | (joined_results['potential_newly_active_location'] ==False)), 'Overshoot'] = True\n",
    "joined_results.loc[joined_results['potential_overshoot'] & (joined_results['potential_newly_active_location']), 'Overshoot'] = False  # If 'a' is True and 'd' is False, set 'Overshoot' to False\n",
    " "
   ]
  },
  {
   "cell_type": "code",
   "execution_count": 63,
   "metadata": {},
   "outputs": [
    {
     "data": {
      "application/vnd.plotly.v1+json": {
       "config": {
        "plotlyServerURL": "https://plot.ly"
       },
       "data": [
        {
         "lat": [
          33.8815
         ],
         "lon": [
          35.4886
         ],
         "marker": {
          "color": "rgba(0,0,0,0)",
          "size": 0
         },
         "mode": "markers",
         "type": "scattermapbox"
        },
        {
         "lat": [
          33.8815
         ],
         "lon": [
          35.4886
         ],
         "marker": {
          "color": "rgba(0,0,0,0)",
          "size": 0
         },
         "mode": "markers",
         "type": "scattermapbox"
        },
        {
         "lat": [
          33.8815
         ],
         "lon": [
          35.4886
         ],
         "marker": {
          "color": "blue",
          "opacity": 1,
          "size": 10
         },
         "mode": "markers",
         "name": "Current: potential_newly_active_loc",
         "text": "Latitude: 33.8815, Longitude: 35.4886<br>cgi_id: 10615558<br>potential_session_end: None<br>potential_newly_active_location: False<br>START_DATE: 2024-01-17 21:52:38.419<br>",
         "type": "scattermapbox"
        },
        {
         "lat": [
          33.8815
         ],
         "lon": [
          35.4886
         ],
         "marker": {
          "color": "rgba(0,0,0,0)",
          "size": 0
         },
         "mode": "markers",
         "type": "scattermapbox"
        },
        {
         "lat": [
          33.8815
         ],
         "lon": [
          35.4886
         ],
         "marker": {
          "color": "yellow",
          "opacity": 1,
          "size": 20
         },
         "mode": "markers",
         "name": "Current: No conditions met",
         "text": "Latitude: 33.8815, Longitude: 35.4886<br>cgi_id: 10615558<br>potential_session_end: None<br>potential_newly_active_location: False<br>START_DATE: 2024-01-17 21:52:38.419<br>",
         "type": "scattermapbox"
        },
        {
         "lat": [
          33.8815
         ],
         "lon": [
          35.4886
         ],
         "marker": {
          "color": "rgba(0,0,0,0)",
          "size": 0
         },
         "mode": "markers",
         "type": "scattermapbox"
        },
        {
         "lat": [
          33.8815
         ],
         "lon": [
          35.4886
         ],
         "marker": {
          "color": "rgba(0,0,0,0)",
          "size": 0
         },
         "mode": "markers",
         "type": "scattermapbox"
        },
        {
         "lat": [
          33.8815
         ],
         "lon": [
          35.4886
         ],
         "marker": {
          "color": "blue",
          "opacity": 0.6,
          "size": 9
         },
         "mode": "markers",
         "name": "Previous: potential_newly_active_loc",
         "type": "scattermapbox"
        },
        {
         "lat": [
          33.8815
         ],
         "lon": [
          35.4886
         ],
         "marker": {
          "color": "rgba(0,0,0,0)",
          "size": 0
         },
         "mode": "markers",
         "type": "scattermapbox"
        },
        {
         "lat": [
          33.8815
         ],
         "lon": [
          35.4886
         ],
         "marker": {
          "color": "yellow",
          "opacity": 0.6,
          "size": 18
         },
         "mode": "markers",
         "name": "Previous: No conditions met",
         "type": "scattermapbox"
        }
       ],
       "frames": [
        {
         "data": [
          {
           "lat": [
            33.8815
           ],
           "lon": [
            35.4886
           ],
           "marker": {
            "color": "rgba(0,0,0,0)",
            "size": 0
           },
           "mode": "markers",
           "type": "scattermapbox"
          },
          {
           "lat": [
            33.8815
           ],
           "lon": [
            35.4886
           ],
           "marker": {
            "color": "rgba(0,0,0,0)",
            "size": 0
           },
           "mode": "markers",
           "type": "scattermapbox"
          },
          {
           "lat": [
            33.8815
           ],
           "lon": [
            35.4886
           ],
           "marker": {
            "color": "blue",
            "opacity": 1,
            "size": 10
           },
           "mode": "markers",
           "name": "Current: potential_newly_active_loc",
           "text": "Latitude: 33.8815, Longitude: 35.4886<br>cgi_id: 10615558<br>potential_session_end: None<br>potential_newly_active_location: False<br>START_DATE: 2024-01-17 21:52:38.419<br>",
           "type": "scattermapbox"
          },
          {
           "lat": [
            33.8815
           ],
           "lon": [
            35.4886
           ],
           "marker": {
            "color": "rgba(0,0,0,0)",
            "size": 0
           },
           "mode": "markers",
           "type": "scattermapbox"
          },
          {
           "lat": [
            33.8815
           ],
           "lon": [
            35.4886
           ],
           "marker": {
            "color": "yellow",
            "opacity": 1,
            "size": 20
           },
           "mode": "markers",
           "name": "Current: No conditions met",
           "text": "Latitude: 33.8815, Longitude: 35.4886<br>cgi_id: 10615558<br>potential_session_end: None<br>potential_newly_active_location: False<br>START_DATE: 2024-01-17 21:52:38.419<br>",
           "type": "scattermapbox"
          },
          {
           "lat": [
            33.8815
           ],
           "lon": [
            35.4886
           ],
           "marker": {
            "color": "rgba(0,0,0,0)",
            "size": 0
           },
           "mode": "markers",
           "type": "scattermapbox"
          },
          {
           "lat": [
            33.8815
           ],
           "lon": [
            35.4886
           ],
           "marker": {
            "color": "rgba(0,0,0,0)",
            "size": 0
           },
           "mode": "markers",
           "type": "scattermapbox"
          },
          {
           "lat": [
            33.8815
           ],
           "lon": [
            35.4886
           ],
           "marker": {
            "color": "blue",
            "opacity": 0.6,
            "size": 9
           },
           "mode": "markers",
           "name": "Previous: potential_newly_active_loc",
           "type": "scattermapbox"
          },
          {
           "lat": [
            33.8815
           ],
           "lon": [
            35.4886
           ],
           "marker": {
            "color": "rgba(0,0,0,0)",
            "size": 0
           },
           "mode": "markers",
           "type": "scattermapbox"
          },
          {
           "lat": [
            33.8815
           ],
           "lon": [
            35.4886
           ],
           "marker": {
            "color": "yellow",
            "opacity": 0.6,
            "size": 18
           },
           "mode": "markers",
           "name": "Previous: No conditions met",
           "type": "scattermapbox"
          }
         ],
         "name": "2024-01-17 21:52:38.419"
        },
        {
         "data": [
          {
           "lat": [
            33.8815
           ],
           "lon": [
            35.4886
           ],
           "marker": {
            "color": "rgba(0,0,0,0)",
            "size": 0
           },
           "mode": "markers",
           "type": "scattermapbox"
          },
          {
           "lat": [
            33.8815
           ],
           "lon": [
            35.4886
           ],
           "marker": {
            "color": "rgba(0,0,0,0)",
            "size": 0
           },
           "mode": "markers",
           "type": "scattermapbox"
          },
          {
           "lat": [
            33.8815
           ],
           "lon": [
            35.4886
           ],
           "marker": {
            "color": "blue",
            "opacity": 1,
            "size": 10
           },
           "mode": "markers",
           "name": "Current: potential_newly_active_loc",
           "text": "Latitude: 33.8815, Longitude: 35.4886<br>cgi_id: 10615555<br>potential_session_end: None<br>potential_newly_active_location: False<br>START_DATE: 2024-01-17 21:53:16.806<br>",
           "type": "scattermapbox"
          },
          {
           "lat": [
            33.8815
           ],
           "lon": [
            35.4886
           ],
           "marker": {
            "color": "rgba(0,0,0,0)",
            "size": 0
           },
           "mode": "markers",
           "type": "scattermapbox"
          },
          {
           "lat": [
            33.8815
           ],
           "lon": [
            35.4886
           ],
           "marker": {
            "color": "yellow",
            "opacity": 1,
            "size": 20
           },
           "mode": "markers",
           "name": "Current: No conditions met",
           "text": "Latitude: 33.8815, Longitude: 35.4886<br>cgi_id: 10615555<br>potential_session_end: None<br>potential_newly_active_location: False<br>START_DATE: 2024-01-17 21:53:16.806<br>",
           "type": "scattermapbox"
          },
          {
           "lat": [
            33.8815
           ],
           "lon": [
            35.4886
           ],
           "marker": {
            "color": "rgba(0,0,0,0)",
            "size": 0
           },
           "mode": "markers",
           "type": "scattermapbox"
          },
          {
           "lat": [
            33.8815
           ],
           "lon": [
            35.4886
           ],
           "marker": {
            "color": "rgba(0,0,0,0)",
            "size": 0
           },
           "mode": "markers",
           "type": "scattermapbox"
          },
          {
           "lat": [
            33.8815
           ],
           "lon": [
            35.4886
           ],
           "marker": {
            "color": "blue",
            "opacity": 0.6,
            "size": 9
           },
           "mode": "markers",
           "name": "Previous: potential_newly_active_loc",
           "text": "Latitude: 33.8815, Longitude: 35.4886<br>cgi_id: 10615558<br>potential_session_end: None<br>potential_newly_active_location: False<br>START_DATE: 2024-01-17 21:52:38.419<br>",
           "type": "scattermapbox"
          },
          {
           "lat": [
            33.8815
           ],
           "lon": [
            35.4886
           ],
           "marker": {
            "color": "rgba(0,0,0,0)",
            "size": 0
           },
           "mode": "markers",
           "type": "scattermapbox"
          },
          {
           "lat": [
            33.8815
           ],
           "lon": [
            35.4886
           ],
           "marker": {
            "color": "yellow",
            "opacity": 0.6,
            "size": 18
           },
           "mode": "markers",
           "name": "Previous: No conditions met",
           "text": "Latitude: 33.8815, Longitude: 35.4886<br>cgi_id: 10615558<br>potential_session_end: None<br>potential_newly_active_location: False<br>START_DATE: 2024-01-17 21:52:38.419<br>",
           "type": "scattermapbox"
          }
         ],
         "name": "2024-01-17 21:53:16.806"
        },
        {
         "data": [
          {
           "lat": [
            33.8825
           ],
           "lon": [
            35.4836
           ],
           "marker": {
            "color": "rgba(0,0,0,0)",
            "size": 0
           },
           "mode": "markers",
           "type": "scattermapbox"
          },
          {
           "lat": [
            33.8825
           ],
           "lon": [
            35.4836
           ],
           "marker": {
            "color": "rgba(0,0,0,0)",
            "size": 0
           },
           "mode": "markers",
           "type": "scattermapbox"
          },
          {
           "lat": [
            33.8825
           ],
           "lon": [
            35.4836
           ],
           "marker": {
            "color": "blue",
            "opacity": 1,
            "size": 10
           },
           "mode": "markers",
           "name": "Current: potential_newly_active_loc",
           "text": "Latitude: 33.8825, Longitude: 35.4836<br>cgi_id: 10539265<br>potential_session_end: None<br>potential_newly_active_location: False<br>START_DATE: 2024-01-17 21:53:53.977<br>",
           "type": "scattermapbox"
          },
          {
           "lat": [
            33.8825
           ],
           "lon": [
            35.4836
           ],
           "marker": {
            "color": "rgba(0,0,0,0)",
            "size": 0
           },
           "mode": "markers",
           "type": "scattermapbox"
          },
          {
           "lat": [
            33.8825
           ],
           "lon": [
            35.4836
           ],
           "marker": {
            "color": "yellow",
            "opacity": 1,
            "size": 20
           },
           "mode": "markers",
           "name": "Current: No conditions met",
           "text": "Latitude: 33.8825, Longitude: 35.4836<br>cgi_id: 10539265<br>potential_session_end: None<br>potential_newly_active_location: False<br>START_DATE: 2024-01-17 21:53:53.977<br>",
           "type": "scattermapbox"
          },
          {
           "lat": [
            33.8815
           ],
           "lon": [
            35.4886
           ],
           "marker": {
            "color": "rgba(0,0,0,0)",
            "size": 0
           },
           "mode": "markers",
           "type": "scattermapbox"
          },
          {
           "lat": [
            33.8815
           ],
           "lon": [
            35.4886
           ],
           "marker": {
            "color": "rgba(0,0,0,0)",
            "size": 0
           },
           "mode": "markers",
           "type": "scattermapbox"
          },
          {
           "lat": [
            33.8815
           ],
           "lon": [
            35.4886
           ],
           "marker": {
            "color": "blue",
            "opacity": 0.6,
            "size": 9
           },
           "mode": "markers",
           "name": "Previous: potential_newly_active_loc",
           "text": "Latitude: 33.8815, Longitude: 35.4886<br>cgi_id: 10615555<br>potential_session_end: None<br>potential_newly_active_location: False<br>START_DATE: 2024-01-17 21:53:16.806<br>",
           "type": "scattermapbox"
          },
          {
           "lat": [
            33.8815
           ],
           "lon": [
            35.4886
           ],
           "marker": {
            "color": "rgba(0,0,0,0)",
            "size": 0
           },
           "mode": "markers",
           "type": "scattermapbox"
          },
          {
           "lat": [
            33.8815
           ],
           "lon": [
            35.4886
           ],
           "marker": {
            "color": "yellow",
            "opacity": 0.6,
            "size": 18
           },
           "mode": "markers",
           "name": "Previous: No conditions met",
           "text": "Latitude: 33.8815, Longitude: 35.4886<br>cgi_id: 10615555<br>potential_session_end: None<br>potential_newly_active_location: False<br>START_DATE: 2024-01-17 21:53:16.806<br>",
           "type": "scattermapbox"
          }
         ],
         "name": "2024-01-17 21:53:53.977"
        },
        {
         "data": [
          {
           "lat": [
            33.8815
           ],
           "lon": [
            35.4886
           ],
           "marker": {
            "color": "rgba(0,0,0,0)",
            "size": 0
           },
           "mode": "markers",
           "type": "scattermapbox"
          },
          {
           "lat": [
            33.8815
           ],
           "lon": [
            35.4886
           ],
           "marker": {
            "color": "rgba(0,0,0,0)",
            "size": 0
           },
           "mode": "markers",
           "type": "scattermapbox"
          },
          {
           "lat": [
            33.8815
           ],
           "lon": [
            35.4886
           ],
           "marker": {
            "color": "blue",
            "opacity": 1,
            "size": 10
           },
           "mode": "markers",
           "name": "Current: potential_newly_active_loc",
           "text": "Latitude: 33.8815, Longitude: 35.4886<br>cgi_id: 10615555<br>potential_session_end: None<br>potential_newly_active_location: False<br>START_DATE: 2024-01-17 21:54:00.607<br>",
           "type": "scattermapbox"
          },
          {
           "lat": [
            33.8815
           ],
           "lon": [
            35.4886
           ],
           "marker": {
            "color": "rgba(0,0,0,0)",
            "size": 0
           },
           "mode": "markers",
           "type": "scattermapbox"
          },
          {
           "lat": [
            33.8815
           ],
           "lon": [
            35.4886
           ],
           "marker": {
            "color": "yellow",
            "opacity": 1,
            "size": 20
           },
           "mode": "markers",
           "name": "Current: No conditions met",
           "text": "Latitude: 33.8815, Longitude: 35.4886<br>cgi_id: 10615555<br>potential_session_end: None<br>potential_newly_active_location: False<br>START_DATE: 2024-01-17 21:54:00.607<br>",
           "type": "scattermapbox"
          },
          {
           "lat": [
            33.8825
           ],
           "lon": [
            35.4836
           ],
           "marker": {
            "color": "rgba(0,0,0,0)",
            "size": 0
           },
           "mode": "markers",
           "type": "scattermapbox"
          },
          {
           "lat": [
            33.8825
           ],
           "lon": [
            35.4836
           ],
           "marker": {
            "color": "rgba(0,0,0,0)",
            "size": 0
           },
           "mode": "markers",
           "type": "scattermapbox"
          },
          {
           "lat": [
            33.8825
           ],
           "lon": [
            35.4836
           ],
           "marker": {
            "color": "blue",
            "opacity": 0.6,
            "size": 9
           },
           "mode": "markers",
           "name": "Previous: potential_newly_active_loc",
           "text": "Latitude: 33.8825, Longitude: 35.4836<br>cgi_id: 10539265<br>potential_session_end: None<br>potential_newly_active_location: False<br>START_DATE: 2024-01-17 21:53:53.977<br>",
           "type": "scattermapbox"
          },
          {
           "lat": [
            33.8825
           ],
           "lon": [
            35.4836
           ],
           "marker": {
            "color": "rgba(0,0,0,0)",
            "size": 0
           },
           "mode": "markers",
           "type": "scattermapbox"
          },
          {
           "lat": [
            33.8825
           ],
           "lon": [
            35.4836
           ],
           "marker": {
            "color": "yellow",
            "opacity": 0.6,
            "size": 18
           },
           "mode": "markers",
           "name": "Previous: No conditions met",
           "text": "Latitude: 33.8825, Longitude: 35.4836<br>cgi_id: 10539265<br>potential_session_end: None<br>potential_newly_active_location: False<br>START_DATE: 2024-01-17 21:53:53.977<br>",
           "type": "scattermapbox"
          }
         ],
         "name": "2024-01-17 21:54:00.607"
        },
        {
         "data": [
          {
           "lat": [
            33.8825
           ],
           "lon": [
            35.4836
           ],
           "marker": {
            "color": "rgba(0,0,0,0)",
            "size": 0
           },
           "mode": "markers",
           "type": "scattermapbox"
          },
          {
           "lat": [
            33.8825
           ],
           "lon": [
            35.4836
           ],
           "marker": {
            "color": "rgba(0,0,0,0)",
            "size": 0
           },
           "mode": "markers",
           "type": "scattermapbox"
          },
          {
           "lat": [
            33.8825
           ],
           "lon": [
            35.4836
           ],
           "marker": {
            "color": "blue",
            "opacity": 1,
            "size": 10
           },
           "mode": "markers",
           "name": "Current: potential_newly_active_loc",
           "text": "Latitude: 33.8825, Longitude: 35.4836<br>cgi_id: 10539265<br>potential_session_end: None<br>potential_newly_active_location: False<br>START_DATE: 2024-01-17 21:54:07.254<br>",
           "type": "scattermapbox"
          },
          {
           "lat": [
            33.8825
           ],
           "lon": [
            35.4836
           ],
           "marker": {
            "color": "rgba(0,0,0,0)",
            "size": 0
           },
           "mode": "markers",
           "type": "scattermapbox"
          },
          {
           "lat": [
            33.8825
           ],
           "lon": [
            35.4836
           ],
           "marker": {
            "color": "yellow",
            "opacity": 1,
            "size": 20
           },
           "mode": "markers",
           "name": "Current: No conditions met",
           "text": "Latitude: 33.8825, Longitude: 35.4836<br>cgi_id: 10539265<br>potential_session_end: None<br>potential_newly_active_location: False<br>START_DATE: 2024-01-17 21:54:07.254<br>",
           "type": "scattermapbox"
          },
          {
           "lat": [
            33.8815
           ],
           "lon": [
            35.4886
           ],
           "marker": {
            "color": "rgba(0,0,0,0)",
            "size": 0
           },
           "mode": "markers",
           "type": "scattermapbox"
          },
          {
           "lat": [
            33.8815
           ],
           "lon": [
            35.4886
           ],
           "marker": {
            "color": "rgba(0,0,0,0)",
            "size": 0
           },
           "mode": "markers",
           "type": "scattermapbox"
          },
          {
           "lat": [
            33.8815
           ],
           "lon": [
            35.4886
           ],
           "marker": {
            "color": "blue",
            "opacity": 0.6,
            "size": 9
           },
           "mode": "markers",
           "name": "Previous: potential_newly_active_loc",
           "text": "Latitude: 33.8815, Longitude: 35.4886<br>cgi_id: 10615555<br>potential_session_end: None<br>potential_newly_active_location: False<br>START_DATE: 2024-01-17 21:54:00.607<br>",
           "type": "scattermapbox"
          },
          {
           "lat": [
            33.8815
           ],
           "lon": [
            35.4886
           ],
           "marker": {
            "color": "rgba(0,0,0,0)",
            "size": 0
           },
           "mode": "markers",
           "type": "scattermapbox"
          },
          {
           "lat": [
            33.8815
           ],
           "lon": [
            35.4886
           ],
           "marker": {
            "color": "yellow",
            "opacity": 0.6,
            "size": 18
           },
           "mode": "markers",
           "name": "Previous: No conditions met",
           "text": "Latitude: 33.8815, Longitude: 35.4886<br>cgi_id: 10615555<br>potential_session_end: None<br>potential_newly_active_location: False<br>START_DATE: 2024-01-17 21:54:00.607<br>",
           "type": "scattermapbox"
          }
         ],
         "name": "2024-01-17 21:54:07.254"
        },
        {
         "data": [
          {
           "lat": [
            33.8815
           ],
           "lon": [
            35.4886
           ],
           "marker": {
            "color": "rgba(0,0,0,0)",
            "size": 0
           },
           "mode": "markers",
           "type": "scattermapbox"
          },
          {
           "lat": [
            33.8815
           ],
           "lon": [
            35.4886
           ],
           "marker": {
            "color": "rgba(0,0,0,0)",
            "size": 0
           },
           "mode": "markers",
           "type": "scattermapbox"
          },
          {
           "lat": [
            33.8815
           ],
           "lon": [
            35.4886
           ],
           "marker": {
            "color": "blue",
            "opacity": 1,
            "size": 10
           },
           "mode": "markers",
           "name": "Current: potential_newly_active_loc",
           "text": "Latitude: 33.8815, Longitude: 35.4886<br>cgi_id: 10615555<br>potential_session_end: None<br>potential_newly_active_location: False<br>START_DATE: 2024-01-17 21:54:34.157<br>",
           "type": "scattermapbox"
          },
          {
           "lat": [
            33.8815
           ],
           "lon": [
            35.4886
           ],
           "marker": {
            "color": "rgba(0,0,0,0)",
            "size": 0
           },
           "mode": "markers",
           "type": "scattermapbox"
          },
          {
           "lat": [
            33.8815
           ],
           "lon": [
            35.4886
           ],
           "marker": {
            "color": "yellow",
            "opacity": 1,
            "size": 20
           },
           "mode": "markers",
           "name": "Current: No conditions met",
           "text": "Latitude: 33.8815, Longitude: 35.4886<br>cgi_id: 10615555<br>potential_session_end: None<br>potential_newly_active_location: False<br>START_DATE: 2024-01-17 21:54:34.157<br>",
           "type": "scattermapbox"
          },
          {
           "lat": [
            33.8825
           ],
           "lon": [
            35.4836
           ],
           "marker": {
            "color": "rgba(0,0,0,0)",
            "size": 0
           },
           "mode": "markers",
           "type": "scattermapbox"
          },
          {
           "lat": [
            33.8825
           ],
           "lon": [
            35.4836
           ],
           "marker": {
            "color": "rgba(0,0,0,0)",
            "size": 0
           },
           "mode": "markers",
           "type": "scattermapbox"
          },
          {
           "lat": [
            33.8825
           ],
           "lon": [
            35.4836
           ],
           "marker": {
            "color": "blue",
            "opacity": 0.6,
            "size": 9
           },
           "mode": "markers",
           "name": "Previous: potential_newly_active_loc",
           "text": "Latitude: 33.8825, Longitude: 35.4836<br>cgi_id: 10539265<br>potential_session_end: None<br>potential_newly_active_location: False<br>START_DATE: 2024-01-17 21:54:07.254<br>",
           "type": "scattermapbox"
          },
          {
           "lat": [
            33.8825
           ],
           "lon": [
            35.4836
           ],
           "marker": {
            "color": "rgba(0,0,0,0)",
            "size": 0
           },
           "mode": "markers",
           "type": "scattermapbox"
          },
          {
           "lat": [
            33.8825
           ],
           "lon": [
            35.4836
           ],
           "marker": {
            "color": "yellow",
            "opacity": 0.6,
            "size": 18
           },
           "mode": "markers",
           "name": "Previous: No conditions met",
           "text": "Latitude: 33.8825, Longitude: 35.4836<br>cgi_id: 10539265<br>potential_session_end: None<br>potential_newly_active_location: False<br>START_DATE: 2024-01-17 21:54:07.254<br>",
           "type": "scattermapbox"
          }
         ],
         "name": "2024-01-17 21:54:34.157"
        },
        {
         "data": [
          {
           "lat": [
            33.8825
           ],
           "lon": [
            35.4836
           ],
           "marker": {
            "color": "rgba(0,0,0,0)",
            "size": 0
           },
           "mode": "markers",
           "type": "scattermapbox"
          },
          {
           "lat": [
            33.8825
           ],
           "lon": [
            35.4836
           ],
           "marker": {
            "color": "rgba(0,0,0,0)",
            "size": 0
           },
           "mode": "markers",
           "type": "scattermapbox"
          },
          {
           "lat": [
            33.8825
           ],
           "lon": [
            35.4836
           ],
           "marker": {
            "color": "blue",
            "opacity": 1,
            "size": 10
           },
           "mode": "markers",
           "name": "Current: potential_newly_active_loc",
           "text": "Latitude: 33.8825, Longitude: 35.4836<br>cgi_id: 10539266<br>potential_session_end: None<br>potential_newly_active_location: False<br>START_DATE: 2024-01-17 21:59:35.507<br>",
           "type": "scattermapbox"
          },
          {
           "lat": [
            33.8825
           ],
           "lon": [
            35.4836
           ],
           "marker": {
            "color": "rgba(0,0,0,0)",
            "size": 0
           },
           "mode": "markers",
           "type": "scattermapbox"
          },
          {
           "lat": [
            33.8825
           ],
           "lon": [
            35.4836
           ],
           "marker": {
            "color": "yellow",
            "opacity": 1,
            "size": 20
           },
           "mode": "markers",
           "name": "Current: No conditions met",
           "text": "Latitude: 33.8825, Longitude: 35.4836<br>cgi_id: 10539266<br>potential_session_end: None<br>potential_newly_active_location: False<br>START_DATE: 2024-01-17 21:59:35.507<br>",
           "type": "scattermapbox"
          },
          {
           "lat": [
            33.8815
           ],
           "lon": [
            35.4886
           ],
           "marker": {
            "color": "rgba(0,0,0,0)",
            "size": 0
           },
           "mode": "markers",
           "type": "scattermapbox"
          },
          {
           "lat": [
            33.8815
           ],
           "lon": [
            35.4886
           ],
           "marker": {
            "color": "rgba(0,0,0,0)",
            "size": 0
           },
           "mode": "markers",
           "type": "scattermapbox"
          },
          {
           "lat": [
            33.8815
           ],
           "lon": [
            35.4886
           ],
           "marker": {
            "color": "blue",
            "opacity": 0.6,
            "size": 9
           },
           "mode": "markers",
           "name": "Previous: potential_newly_active_loc",
           "text": "Latitude: 33.8815, Longitude: 35.4886<br>cgi_id: 10615555<br>potential_session_end: None<br>potential_newly_active_location: False<br>START_DATE: 2024-01-17 21:54:34.157<br>",
           "type": "scattermapbox"
          },
          {
           "lat": [
            33.8815
           ],
           "lon": [
            35.4886
           ],
           "marker": {
            "color": "rgba(0,0,0,0)",
            "size": 0
           },
           "mode": "markers",
           "type": "scattermapbox"
          },
          {
           "lat": [
            33.8815
           ],
           "lon": [
            35.4886
           ],
           "marker": {
            "color": "yellow",
            "opacity": 0.6,
            "size": 18
           },
           "mode": "markers",
           "name": "Previous: No conditions met",
           "text": "Latitude: 33.8815, Longitude: 35.4886<br>cgi_id: 10615555<br>potential_session_end: None<br>potential_newly_active_location: False<br>START_DATE: 2024-01-17 21:54:34.157<br>",
           "type": "scattermapbox"
          }
         ],
         "name": "2024-01-17 21:59:35.507"
        },
        {
         "data": [
          {
           "lat": [
            33.8825
           ],
           "lon": [
            35.4836
           ],
           "marker": {
            "color": "rgba(0,0,0,0)",
            "size": 0
           },
           "mode": "markers",
           "type": "scattermapbox"
          },
          {
           "lat": [
            33.8825
           ],
           "lon": [
            35.4836
           ],
           "marker": {
            "color": "rgba(0,0,0,0)",
            "size": 0
           },
           "mode": "markers",
           "type": "scattermapbox"
          },
          {
           "lat": [
            33.8825
           ],
           "lon": [
            35.4836
           ],
           "marker": {
            "color": "blue",
            "opacity": 1,
            "size": 10
           },
           "mode": "markers",
           "name": "Current: potential_newly_active_loc",
           "text": "Latitude: 33.8825, Longitude: 35.4836<br>cgi_id: 10539265<br>potential_session_end: None<br>potential_newly_active_location: False<br>START_DATE: 2024-01-17 22:01:11.776<br>",
           "type": "scattermapbox"
          },
          {
           "lat": [
            33.8825
           ],
           "lon": [
            35.4836
           ],
           "marker": {
            "color": "rgba(0,0,0,0)",
            "size": 0
           },
           "mode": "markers",
           "type": "scattermapbox"
          },
          {
           "lat": [
            33.8825
           ],
           "lon": [
            35.4836
           ],
           "marker": {
            "color": "yellow",
            "opacity": 1,
            "size": 20
           },
           "mode": "markers",
           "name": "Current: No conditions met",
           "text": "Latitude: 33.8825, Longitude: 35.4836<br>cgi_id: 10539265<br>potential_session_end: None<br>potential_newly_active_location: False<br>START_DATE: 2024-01-17 22:01:11.776<br>",
           "type": "scattermapbox"
          },
          {
           "lat": [
            33.8825
           ],
           "lon": [
            35.4836
           ],
           "marker": {
            "color": "rgba(0,0,0,0)",
            "size": 0
           },
           "mode": "markers",
           "type": "scattermapbox"
          },
          {
           "lat": [
            33.8825
           ],
           "lon": [
            35.4836
           ],
           "marker": {
            "color": "rgba(0,0,0,0)",
            "size": 0
           },
           "mode": "markers",
           "type": "scattermapbox"
          },
          {
           "lat": [
            33.8825
           ],
           "lon": [
            35.4836
           ],
           "marker": {
            "color": "blue",
            "opacity": 0.6,
            "size": 9
           },
           "mode": "markers",
           "name": "Previous: potential_newly_active_loc",
           "text": "Latitude: 33.8825, Longitude: 35.4836<br>cgi_id: 10539266<br>potential_session_end: None<br>potential_newly_active_location: False<br>START_DATE: 2024-01-17 21:59:35.507<br>",
           "type": "scattermapbox"
          },
          {
           "lat": [
            33.8825
           ],
           "lon": [
            35.4836
           ],
           "marker": {
            "color": "rgba(0,0,0,0)",
            "size": 0
           },
           "mode": "markers",
           "type": "scattermapbox"
          },
          {
           "lat": [
            33.8825
           ],
           "lon": [
            35.4836
           ],
           "marker": {
            "color": "yellow",
            "opacity": 0.6,
            "size": 18
           },
           "mode": "markers",
           "name": "Previous: No conditions met",
           "text": "Latitude: 33.8825, Longitude: 35.4836<br>cgi_id: 10539266<br>potential_session_end: None<br>potential_newly_active_location: False<br>START_DATE: 2024-01-17 21:59:35.507<br>",
           "type": "scattermapbox"
          }
         ],
         "name": "2024-01-17 22:01:11.776"
        },
        {
         "data": [
          {
           "lat": [
            33.8825
           ],
           "lon": [
            35.4836
           ],
           "marker": {
            "color": "rgba(0,0,0,0)",
            "size": 0
           },
           "mode": "markers",
           "type": "scattermapbox"
          },
          {
           "lat": [
            33.8825
           ],
           "lon": [
            35.4836
           ],
           "marker": {
            "color": "rgba(0,0,0,0)",
            "size": 0
           },
           "mode": "markers",
           "type": "scattermapbox"
          },
          {
           "lat": [
            33.8825
           ],
           "lon": [
            35.4836
           ],
           "marker": {
            "color": "blue",
            "opacity": 1,
            "size": 10
           },
           "mode": "markers",
           "name": "Current: potential_newly_active_loc",
           "text": "Latitude: 33.8825, Longitude: 35.4836<br>cgi_id: 10539266<br>potential_session_end: None<br>potential_newly_active_location: False<br>START_DATE: 2024-01-17 22:01:11.814<br>",
           "type": "scattermapbox"
          },
          {
           "lat": [
            33.8825
           ],
           "lon": [
            35.4836
           ],
           "marker": {
            "color": "rgba(0,0,0,0)",
            "size": 0
           },
           "mode": "markers",
           "type": "scattermapbox"
          },
          {
           "lat": [
            33.8825
           ],
           "lon": [
            35.4836
           ],
           "marker": {
            "color": "yellow",
            "opacity": 1,
            "size": 20
           },
           "mode": "markers",
           "name": "Current: No conditions met",
           "text": "Latitude: 33.8825, Longitude: 35.4836<br>cgi_id: 10539266<br>potential_session_end: None<br>potential_newly_active_location: False<br>START_DATE: 2024-01-17 22:01:11.814<br>",
           "type": "scattermapbox"
          },
          {
           "lat": [
            33.8825
           ],
           "lon": [
            35.4836
           ],
           "marker": {
            "color": "rgba(0,0,0,0)",
            "size": 0
           },
           "mode": "markers",
           "type": "scattermapbox"
          },
          {
           "lat": [
            33.8825
           ],
           "lon": [
            35.4836
           ],
           "marker": {
            "color": "rgba(0,0,0,0)",
            "size": 0
           },
           "mode": "markers",
           "type": "scattermapbox"
          },
          {
           "lat": [
            33.8825
           ],
           "lon": [
            35.4836
           ],
           "marker": {
            "color": "blue",
            "opacity": 0.6,
            "size": 9
           },
           "mode": "markers",
           "name": "Previous: potential_newly_active_loc",
           "text": "Latitude: 33.8825, Longitude: 35.4836<br>cgi_id: 10539265<br>potential_session_end: None<br>potential_newly_active_location: False<br>START_DATE: 2024-01-17 22:01:11.776<br>",
           "type": "scattermapbox"
          },
          {
           "lat": [
            33.8825
           ],
           "lon": [
            35.4836
           ],
           "marker": {
            "color": "rgba(0,0,0,0)",
            "size": 0
           },
           "mode": "markers",
           "type": "scattermapbox"
          },
          {
           "lat": [
            33.8825
           ],
           "lon": [
            35.4836
           ],
           "marker": {
            "color": "yellow",
            "opacity": 0.6,
            "size": 18
           },
           "mode": "markers",
           "name": "Previous: No conditions met",
           "text": "Latitude: 33.8825, Longitude: 35.4836<br>cgi_id: 10539265<br>potential_session_end: None<br>potential_newly_active_location: False<br>START_DATE: 2024-01-17 22:01:11.776<br>",
           "type": "scattermapbox"
          }
         ],
         "name": "2024-01-17 22:01:11.814"
        },
        {
         "data": [
          {
           "lat": [
            33.8825
           ],
           "lon": [
            35.4836
           ],
           "marker": {
            "color": "rgba(0,0,0,0)",
            "size": 0
           },
           "mode": "markers",
           "type": "scattermapbox"
          },
          {
           "lat": [
            33.8825
           ],
           "lon": [
            35.4836
           ],
           "marker": {
            "color": "rgba(0,0,0,0)",
            "size": 0
           },
           "mode": "markers",
           "type": "scattermapbox"
          },
          {
           "lat": [
            33.8825
           ],
           "lon": [
            35.4836
           ],
           "marker": {
            "color": "blue",
            "opacity": 1,
            "size": 10
           },
           "mode": "markers",
           "name": "Current: potential_newly_active_loc",
           "text": "Latitude: 33.8825, Longitude: 35.4836<br>cgi_id: 10539265<br>potential_session_end: None<br>potential_newly_active_location: False<br>START_DATE: 2024-01-17 22:01:18.192<br>",
           "type": "scattermapbox"
          },
          {
           "lat": [
            33.8825
           ],
           "lon": [
            35.4836
           ],
           "marker": {
            "color": "rgba(0,0,0,0)",
            "size": 0
           },
           "mode": "markers",
           "type": "scattermapbox"
          },
          {
           "lat": [
            33.8825
           ],
           "lon": [
            35.4836
           ],
           "marker": {
            "color": "yellow",
            "opacity": 1,
            "size": 20
           },
           "mode": "markers",
           "name": "Current: No conditions met",
           "text": "Latitude: 33.8825, Longitude: 35.4836<br>cgi_id: 10539265<br>potential_session_end: None<br>potential_newly_active_location: False<br>START_DATE: 2024-01-17 22:01:18.192<br>",
           "type": "scattermapbox"
          },
          {
           "lat": [
            33.8825
           ],
           "lon": [
            35.4836
           ],
           "marker": {
            "color": "rgba(0,0,0,0)",
            "size": 0
           },
           "mode": "markers",
           "type": "scattermapbox"
          },
          {
           "lat": [
            33.8825
           ],
           "lon": [
            35.4836
           ],
           "marker": {
            "color": "rgba(0,0,0,0)",
            "size": 0
           },
           "mode": "markers",
           "type": "scattermapbox"
          },
          {
           "lat": [
            33.8825
           ],
           "lon": [
            35.4836
           ],
           "marker": {
            "color": "blue",
            "opacity": 0.6,
            "size": 9
           },
           "mode": "markers",
           "name": "Previous: potential_newly_active_loc",
           "text": "Latitude: 33.8825, Longitude: 35.4836<br>cgi_id: 10539266<br>potential_session_end: None<br>potential_newly_active_location: False<br>START_DATE: 2024-01-17 22:01:11.814<br>",
           "type": "scattermapbox"
          },
          {
           "lat": [
            33.8825
           ],
           "lon": [
            35.4836
           ],
           "marker": {
            "color": "rgba(0,0,0,0)",
            "size": 0
           },
           "mode": "markers",
           "type": "scattermapbox"
          },
          {
           "lat": [
            33.8825
           ],
           "lon": [
            35.4836
           ],
           "marker": {
            "color": "yellow",
            "opacity": 0.6,
            "size": 18
           },
           "mode": "markers",
           "name": "Previous: No conditions met",
           "text": "Latitude: 33.8825, Longitude: 35.4836<br>cgi_id: 10539266<br>potential_session_end: None<br>potential_newly_active_location: False<br>START_DATE: 2024-01-17 22:01:11.814<br>",
           "type": "scattermapbox"
          }
         ],
         "name": "2024-01-17 22:01:18.192"
        },
        {
         "data": [
          {
           "lat": [
            33.8838
           ],
           "lon": [
            35.4825
           ],
           "marker": {
            "color": "rgba(0,0,0,0)",
            "size": 0
           },
           "mode": "markers",
           "type": "scattermapbox"
          },
          {
           "lat": [
            33.8838
           ],
           "lon": [
            35.4825
           ],
           "marker": {
            "color": "rgba(0,0,0,0)",
            "size": 0
           },
           "mode": "markers",
           "type": "scattermapbox"
          },
          {
           "lat": [
            33.8838
           ],
           "lon": [
            35.4825
           ],
           "marker": {
            "color": "blue",
            "opacity": 1,
            "size": 10
           },
           "mode": "markers",
           "name": "Current: potential_newly_active_loc",
           "text": "Latitude: 33.8838, Longitude: 35.4825<br>cgi_id: 10588929<br>potential_session_end: None<br>potential_newly_active_location: False<br>START_DATE: 2024-01-17 22:02:40.124<br>",
           "type": "scattermapbox"
          },
          {
           "lat": [
            33.8838
           ],
           "lon": [
            35.4825
           ],
           "marker": {
            "color": "rgba(0,0,0,0)",
            "size": 0
           },
           "mode": "markers",
           "type": "scattermapbox"
          },
          {
           "lat": [
            33.8838
           ],
           "lon": [
            35.4825
           ],
           "marker": {
            "color": "yellow",
            "opacity": 1,
            "size": 20
           },
           "mode": "markers",
           "name": "Current: No conditions met",
           "text": "Latitude: 33.8838, Longitude: 35.4825<br>cgi_id: 10588929<br>potential_session_end: None<br>potential_newly_active_location: False<br>START_DATE: 2024-01-17 22:02:40.124<br>",
           "type": "scattermapbox"
          },
          {
           "lat": [
            33.8825
           ],
           "lon": [
            35.4836
           ],
           "marker": {
            "color": "rgba(0,0,0,0)",
            "size": 0
           },
           "mode": "markers",
           "type": "scattermapbox"
          },
          {
           "lat": [
            33.8825
           ],
           "lon": [
            35.4836
           ],
           "marker": {
            "color": "rgba(0,0,0,0)",
            "size": 0
           },
           "mode": "markers",
           "type": "scattermapbox"
          },
          {
           "lat": [
            33.8825
           ],
           "lon": [
            35.4836
           ],
           "marker": {
            "color": "blue",
            "opacity": 0.6,
            "size": 9
           },
           "mode": "markers",
           "name": "Previous: potential_newly_active_loc",
           "text": "Latitude: 33.8825, Longitude: 35.4836<br>cgi_id: 10539265<br>potential_session_end: None<br>potential_newly_active_location: False<br>START_DATE: 2024-01-17 22:01:18.192<br>",
           "type": "scattermapbox"
          },
          {
           "lat": [
            33.8825
           ],
           "lon": [
            35.4836
           ],
           "marker": {
            "color": "rgba(0,0,0,0)",
            "size": 0
           },
           "mode": "markers",
           "type": "scattermapbox"
          },
          {
           "lat": [
            33.8825
           ],
           "lon": [
            35.4836
           ],
           "marker": {
            "color": "yellow",
            "opacity": 0.6,
            "size": 18
           },
           "mode": "markers",
           "name": "Previous: No conditions met",
           "text": "Latitude: 33.8825, Longitude: 35.4836<br>cgi_id: 10539265<br>potential_session_end: None<br>potential_newly_active_location: False<br>START_DATE: 2024-01-17 22:01:18.192<br>",
           "type": "scattermapbox"
          }
         ],
         "name": "2024-01-17 22:02:40.124"
        },
        {
         "data": [
          {
           "lat": [
            33.8864
           ],
           "lon": [
            35.5859
           ],
           "marker": {
            "color": "red",
            "opacity": 1,
            "size": 25
           },
           "mode": "markers",
           "name": "Current: potential_overshoot",
           "text": "Latitude: 33.8864, Longitude: 35.5859<br>cgi_id: 10567683<br>potential_session_end: True<br>potential_newly_active_location: False<br>START_DATE: 2024-01-17 22:04:56.525<br>",
           "type": "scattermapbox"
          },
          {
           "lat": [
            33.8864
           ],
           "lon": [
            35.5859
           ],
           "marker": {
            "color": "green",
            "opacity": 1,
            "size": 15
           },
           "mode": "markers",
           "name": "Current: potential_session_end",
           "text": "Latitude: 33.8864, Longitude: 35.5859<br>cgi_id: 10567683<br>potential_session_end: True<br>potential_newly_active_location: False<br>START_DATE: 2024-01-17 22:04:56.525<br>",
           "type": "scattermapbox"
          },
          {
           "lat": [
            33.8864
           ],
           "lon": [
            35.5859
           ],
           "marker": {
            "color": "blue",
            "opacity": 1,
            "size": 10
           },
           "mode": "markers",
           "name": "Current: potential_newly_active_loc",
           "text": "Latitude: 33.8864, Longitude: 35.5859<br>cgi_id: 10567683<br>potential_session_end: True<br>potential_newly_active_location: False<br>START_DATE: 2024-01-17 22:04:56.525<br>",
           "type": "scattermapbox"
          },
          {
           "lat": [
            33.8864
           ],
           "lon": [
            35.5859
           ],
           "marker": {
            "color": "rgba(0,0,0,0)",
            "size": 0
           },
           "mode": "markers",
           "type": "scattermapbox"
          },
          {
           "lat": [
            33.8864
           ],
           "lon": [
            35.5859
           ],
           "marker": {
            "color": "rgba(0,0,0,0)",
            "size": 0
           },
           "mode": "markers",
           "type": "scattermapbox"
          },
          {
           "lat": [
            33.8838
           ],
           "lon": [
            35.4825
           ],
           "marker": {
            "color": "rgba(0,0,0,0)",
            "size": 0
           },
           "mode": "markers",
           "type": "scattermapbox"
          },
          {
           "lat": [
            33.8838
           ],
           "lon": [
            35.4825
           ],
           "marker": {
            "color": "rgba(0,0,0,0)",
            "size": 0
           },
           "mode": "markers",
           "type": "scattermapbox"
          },
          {
           "lat": [
            33.8838
           ],
           "lon": [
            35.4825
           ],
           "marker": {
            "color": "blue",
            "opacity": 0.6,
            "size": 9
           },
           "mode": "markers",
           "name": "Previous: potential_newly_active_loc",
           "text": "Latitude: 33.8838, Longitude: 35.4825<br>cgi_id: 10588929<br>potential_session_end: None<br>potential_newly_active_location: False<br>START_DATE: 2024-01-17 22:02:40.124<br>",
           "type": "scattermapbox"
          },
          {
           "lat": [
            33.8838
           ],
           "lon": [
            35.4825
           ],
           "marker": {
            "color": "rgba(0,0,0,0)",
            "size": 0
           },
           "mode": "markers",
           "type": "scattermapbox"
          },
          {
           "lat": [
            33.8838
           ],
           "lon": [
            35.4825
           ],
           "marker": {
            "color": "yellow",
            "opacity": 0.6,
            "size": 18
           },
           "mode": "markers",
           "name": "Previous: No conditions met",
           "text": "Latitude: 33.8838, Longitude: 35.4825<br>cgi_id: 10588929<br>potential_session_end: None<br>potential_newly_active_location: False<br>START_DATE: 2024-01-17 22:02:40.124<br>",
           "type": "scattermapbox"
          }
         ],
         "name": "2024-01-17 22:04:56.525"
        },
        {
         "data": [
          {
           "lat": [
            33.8891
           ],
           "lon": [
            35.486
           ],
           "marker": {
            "color": "rgba(0,0,0,0)",
            "size": 0
           },
           "mode": "markers",
           "type": "scattermapbox"
          },
          {
           "lat": [
            33.8891
           ],
           "lon": [
            35.486
           ],
           "marker": {
            "color": "rgba(0,0,0,0)",
            "size": 0
           },
           "mode": "markers",
           "type": "scattermapbox"
          },
          {
           "lat": [
            33.8891
           ],
           "lon": [
            35.486
           ],
           "marker": {
            "color": "blue",
            "opacity": 1,
            "size": 10
           },
           "mode": "markers",
           "name": "Current: potential_newly_active_loc",
           "text": "Latitude: 33.8891, Longitude: 35.486<br>cgi_id: 10610948<br>potential_session_end: None<br>potential_newly_active_location: False<br>START_DATE: 2024-01-17 22:07:03.420<br>",
           "type": "scattermapbox"
          },
          {
           "lat": [
            33.8891
           ],
           "lon": [
            35.486
           ],
           "marker": {
            "color": "rgba(0,0,0,0)",
            "size": 0
           },
           "mode": "markers",
           "type": "scattermapbox"
          },
          {
           "lat": [
            33.8891
           ],
           "lon": [
            35.486
           ],
           "marker": {
            "color": "yellow",
            "opacity": 1,
            "size": 20
           },
           "mode": "markers",
           "name": "Current: No conditions met",
           "text": "Latitude: 33.8891, Longitude: 35.486<br>cgi_id: 10610948<br>potential_session_end: None<br>potential_newly_active_location: False<br>START_DATE: 2024-01-17 22:07:03.420<br>",
           "type": "scattermapbox"
          },
          {
           "lat": [
            33.8864
           ],
           "lon": [
            35.5859
           ],
           "marker": {
            "color": "red",
            "opacity": 0.6,
            "size": 22
           },
           "mode": "markers",
           "name": "Previous: potential_overshoot",
           "text": "Latitude: 33.8864, Longitude: 35.5859<br>cgi_id: 10567683<br>potential_session_end: True<br>potential_newly_active_location: False<br>START_DATE: 2024-01-17 22:04:56.525<br>",
           "type": "scattermapbox"
          },
          {
           "lat": [
            33.8864
           ],
           "lon": [
            35.5859
           ],
           "marker": {
            "color": "green",
            "opacity": 0.6,
            "size": 13
           },
           "mode": "markers",
           "name": "Previous: potential_session_end",
           "text": "Latitude: 33.8864, Longitude: 35.5859<br>cgi_id: 10567683<br>potential_session_end: True<br>potential_newly_active_location: False<br>START_DATE: 2024-01-17 22:04:56.525<br>",
           "type": "scattermapbox"
          },
          {
           "lat": [
            33.8864
           ],
           "lon": [
            35.5859
           ],
           "marker": {
            "color": "blue",
            "opacity": 0.6,
            "size": 9
           },
           "mode": "markers",
           "name": "Previous: potential_newly_active_loc",
           "text": "Latitude: 33.8864, Longitude: 35.5859<br>cgi_id: 10567683<br>potential_session_end: True<br>potential_newly_active_location: False<br>START_DATE: 2024-01-17 22:04:56.525<br>",
           "type": "scattermapbox"
          },
          {
           "lat": [
            33.8864
           ],
           "lon": [
            35.5859
           ],
           "marker": {
            "color": "rgba(0,0,0,0)",
            "size": 0
           },
           "mode": "markers",
           "type": "scattermapbox"
          },
          {
           "lat": [
            33.8864
           ],
           "lon": [
            35.5859
           ],
           "marker": {
            "color": "rgba(0,0,0,0)",
            "size": 0
           },
           "mode": "markers",
           "type": "scattermapbox"
          }
         ],
         "name": "2024-01-17 22:07:03.420"
        },
        {
         "data": [
          {
           "lat": [
            33.8864
           ],
           "lon": [
            35.5859
           ],
           "marker": {
            "color": "red",
            "opacity": 1,
            "size": 25
           },
           "mode": "markers",
           "name": "Current: potential_overshoot",
           "text": "Latitude: 33.8864, Longitude: 35.5859<br>cgi_id: 10567681<br>potential_session_end: True<br>potential_newly_active_location: False<br>START_DATE: 2024-01-17 22:07:55.905<br>",
           "type": "scattermapbox"
          },
          {
           "lat": [
            33.8864
           ],
           "lon": [
            35.5859
           ],
           "marker": {
            "color": "green",
            "opacity": 1,
            "size": 15
           },
           "mode": "markers",
           "name": "Current: potential_session_end",
           "text": "Latitude: 33.8864, Longitude: 35.5859<br>cgi_id: 10567681<br>potential_session_end: True<br>potential_newly_active_location: False<br>START_DATE: 2024-01-17 22:07:55.905<br>",
           "type": "scattermapbox"
          },
          {
           "lat": [
            33.8864
           ],
           "lon": [
            35.5859
           ],
           "marker": {
            "color": "blue",
            "opacity": 1,
            "size": 10
           },
           "mode": "markers",
           "name": "Current: potential_newly_active_loc",
           "text": "Latitude: 33.8864, Longitude: 35.5859<br>cgi_id: 10567681<br>potential_session_end: True<br>potential_newly_active_location: False<br>START_DATE: 2024-01-17 22:07:55.905<br>",
           "type": "scattermapbox"
          },
          {
           "lat": [
            33.8864
           ],
           "lon": [
            35.5859
           ],
           "marker": {
            "color": "rgba(0,0,0,0)",
            "size": 0
           },
           "mode": "markers",
           "type": "scattermapbox"
          },
          {
           "lat": [
            33.8864
           ],
           "lon": [
            35.5859
           ],
           "marker": {
            "color": "rgba(0,0,0,0)",
            "size": 0
           },
           "mode": "markers",
           "type": "scattermapbox"
          },
          {
           "lat": [
            33.8891
           ],
           "lon": [
            35.486
           ],
           "marker": {
            "color": "rgba(0,0,0,0)",
            "size": 0
           },
           "mode": "markers",
           "type": "scattermapbox"
          },
          {
           "lat": [
            33.8891
           ],
           "lon": [
            35.486
           ],
           "marker": {
            "color": "rgba(0,0,0,0)",
            "size": 0
           },
           "mode": "markers",
           "type": "scattermapbox"
          },
          {
           "lat": [
            33.8891
           ],
           "lon": [
            35.486
           ],
           "marker": {
            "color": "blue",
            "opacity": 0.6,
            "size": 9
           },
           "mode": "markers",
           "name": "Previous: potential_newly_active_loc",
           "text": "Latitude: 33.8891, Longitude: 35.486<br>cgi_id: 10610948<br>potential_session_end: None<br>potential_newly_active_location: False<br>START_DATE: 2024-01-17 22:07:03.420<br>",
           "type": "scattermapbox"
          },
          {
           "lat": [
            33.8891
           ],
           "lon": [
            35.486
           ],
           "marker": {
            "color": "rgba(0,0,0,0)",
            "size": 0
           },
           "mode": "markers",
           "type": "scattermapbox"
          },
          {
           "lat": [
            33.8891
           ],
           "lon": [
            35.486
           ],
           "marker": {
            "color": "yellow",
            "opacity": 0.6,
            "size": 18
           },
           "mode": "markers",
           "name": "Previous: No conditions met",
           "text": "Latitude: 33.8891, Longitude: 35.486<br>cgi_id: 10610948<br>potential_session_end: None<br>potential_newly_active_location: False<br>START_DATE: 2024-01-17 22:07:03.420<br>",
           "type": "scattermapbox"
          }
         ],
         "name": "2024-01-17 22:07:55.905"
        },
        {
         "data": [
          {
           "lat": [
            33.8891
           ],
           "lon": [
            35.486
           ],
           "marker": {
            "color": "rgba(0,0,0,0)",
            "size": 0
           },
           "mode": "markers",
           "type": "scattermapbox"
          },
          {
           "lat": [
            33.8891
           ],
           "lon": [
            35.486
           ],
           "marker": {
            "color": "rgba(0,0,0,0)",
            "size": 0
           },
           "mode": "markers",
           "type": "scattermapbox"
          },
          {
           "lat": [
            33.8891
           ],
           "lon": [
            35.486
           ],
           "marker": {
            "color": "blue",
            "opacity": 1,
            "size": 10
           },
           "mode": "markers",
           "name": "Current: potential_newly_active_loc",
           "text": "Latitude: 33.8891, Longitude: 35.486<br>cgi_id: 10610948<br>potential_session_end: None<br>potential_newly_active_location: False<br>START_DATE: 2024-01-17 22:07:58.150<br>",
           "type": "scattermapbox"
          },
          {
           "lat": [
            33.8891
           ],
           "lon": [
            35.486
           ],
           "marker": {
            "color": "rgba(0,0,0,0)",
            "size": 0
           },
           "mode": "markers",
           "type": "scattermapbox"
          },
          {
           "lat": [
            33.8891
           ],
           "lon": [
            35.486
           ],
           "marker": {
            "color": "yellow",
            "opacity": 1,
            "size": 20
           },
           "mode": "markers",
           "name": "Current: No conditions met",
           "text": "Latitude: 33.8891, Longitude: 35.486<br>cgi_id: 10610948<br>potential_session_end: None<br>potential_newly_active_location: False<br>START_DATE: 2024-01-17 22:07:58.150<br>",
           "type": "scattermapbox"
          },
          {
           "lat": [
            33.8864
           ],
           "lon": [
            35.5859
           ],
           "marker": {
            "color": "red",
            "opacity": 0.6,
            "size": 22
           },
           "mode": "markers",
           "name": "Previous: potential_overshoot",
           "text": "Latitude: 33.8864, Longitude: 35.5859<br>cgi_id: 10567681<br>potential_session_end: True<br>potential_newly_active_location: False<br>START_DATE: 2024-01-17 22:07:55.905<br>",
           "type": "scattermapbox"
          },
          {
           "lat": [
            33.8864
           ],
           "lon": [
            35.5859
           ],
           "marker": {
            "color": "green",
            "opacity": 0.6,
            "size": 13
           },
           "mode": "markers",
           "name": "Previous: potential_session_end",
           "text": "Latitude: 33.8864, Longitude: 35.5859<br>cgi_id: 10567681<br>potential_session_end: True<br>potential_newly_active_location: False<br>START_DATE: 2024-01-17 22:07:55.905<br>",
           "type": "scattermapbox"
          },
          {
           "lat": [
            33.8864
           ],
           "lon": [
            35.5859
           ],
           "marker": {
            "color": "blue",
            "opacity": 0.6,
            "size": 9
           },
           "mode": "markers",
           "name": "Previous: potential_newly_active_loc",
           "text": "Latitude: 33.8864, Longitude: 35.5859<br>cgi_id: 10567681<br>potential_session_end: True<br>potential_newly_active_location: False<br>START_DATE: 2024-01-17 22:07:55.905<br>",
           "type": "scattermapbox"
          },
          {
           "lat": [
            33.8864
           ],
           "lon": [
            35.5859
           ],
           "marker": {
            "color": "rgba(0,0,0,0)",
            "size": 0
           },
           "mode": "markers",
           "type": "scattermapbox"
          },
          {
           "lat": [
            33.8864
           ],
           "lon": [
            35.5859
           ],
           "marker": {
            "color": "rgba(0,0,0,0)",
            "size": 0
           },
           "mode": "markers",
           "type": "scattermapbox"
          }
         ],
         "name": "2024-01-17 22:07:58.150"
        },
        {
         "data": [
          {
           "lat": [
            33.8891
           ],
           "lon": [
            35.486
           ],
           "marker": {
            "color": "rgba(0,0,0,0)",
            "size": 0
           },
           "mode": "markers",
           "type": "scattermapbox"
          },
          {
           "lat": [
            33.8891
           ],
           "lon": [
            35.486
           ],
           "marker": {
            "color": "rgba(0,0,0,0)",
            "size": 0
           },
           "mode": "markers",
           "type": "scattermapbox"
          },
          {
           "lat": [
            33.8891
           ],
           "lon": [
            35.486
           ],
           "marker": {
            "color": "blue",
            "opacity": 1,
            "size": 10
           },
           "mode": "markers",
           "name": "Current: potential_newly_active_loc",
           "text": "Latitude: 33.8891, Longitude: 35.486<br>cgi_id: 10610953<br>potential_session_end: None<br>potential_newly_active_location: False<br>START_DATE: 2024-01-17 22:08:57.688<br>",
           "type": "scattermapbox"
          },
          {
           "lat": [
            33.8891
           ],
           "lon": [
            35.486
           ],
           "marker": {
            "color": "rgba(0,0,0,0)",
            "size": 0
           },
           "mode": "markers",
           "type": "scattermapbox"
          },
          {
           "lat": [
            33.8891
           ],
           "lon": [
            35.486
           ],
           "marker": {
            "color": "yellow",
            "opacity": 1,
            "size": 20
           },
           "mode": "markers",
           "name": "Current: No conditions met",
           "text": "Latitude: 33.8891, Longitude: 35.486<br>cgi_id: 10610953<br>potential_session_end: None<br>potential_newly_active_location: False<br>START_DATE: 2024-01-17 22:08:57.688<br>",
           "type": "scattermapbox"
          },
          {
           "lat": [
            33.8891
           ],
           "lon": [
            35.486
           ],
           "marker": {
            "color": "rgba(0,0,0,0)",
            "size": 0
           },
           "mode": "markers",
           "type": "scattermapbox"
          },
          {
           "lat": [
            33.8891
           ],
           "lon": [
            35.486
           ],
           "marker": {
            "color": "rgba(0,0,0,0)",
            "size": 0
           },
           "mode": "markers",
           "type": "scattermapbox"
          },
          {
           "lat": [
            33.8891
           ],
           "lon": [
            35.486
           ],
           "marker": {
            "color": "blue",
            "opacity": 0.6,
            "size": 9
           },
           "mode": "markers",
           "name": "Previous: potential_newly_active_loc",
           "text": "Latitude: 33.8891, Longitude: 35.486<br>cgi_id: 10610948<br>potential_session_end: None<br>potential_newly_active_location: False<br>START_DATE: 2024-01-17 22:07:58.150<br>",
           "type": "scattermapbox"
          },
          {
           "lat": [
            33.8891
           ],
           "lon": [
            35.486
           ],
           "marker": {
            "color": "rgba(0,0,0,0)",
            "size": 0
           },
           "mode": "markers",
           "type": "scattermapbox"
          },
          {
           "lat": [
            33.8891
           ],
           "lon": [
            35.486
           ],
           "marker": {
            "color": "yellow",
            "opacity": 0.6,
            "size": 18
           },
           "mode": "markers",
           "name": "Previous: No conditions met",
           "text": "Latitude: 33.8891, Longitude: 35.486<br>cgi_id: 10610948<br>potential_session_end: None<br>potential_newly_active_location: False<br>START_DATE: 2024-01-17 22:07:58.150<br>",
           "type": "scattermapbox"
          }
         ],
         "name": "2024-01-17 22:08:57.688"
        },
        {
         "data": [
          {
           "lat": [
            33.8891
           ],
           "lon": [
            35.486
           ],
           "marker": {
            "color": "rgba(0,0,0,0)",
            "size": 0
           },
           "mode": "markers",
           "type": "scattermapbox"
          },
          {
           "lat": [
            33.8891
           ],
           "lon": [
            35.486
           ],
           "marker": {
            "color": "rgba(0,0,0,0)",
            "size": 0
           },
           "mode": "markers",
           "type": "scattermapbox"
          },
          {
           "lat": [
            33.8891
           ],
           "lon": [
            35.486
           ],
           "marker": {
            "color": "blue",
            "opacity": 1,
            "size": 10
           },
           "mode": "markers",
           "name": "Current: potential_newly_active_loc",
           "text": "Latitude: 33.8891, Longitude: 35.486<br>cgi_id: 10610948<br>potential_session_end: None<br>potential_newly_active_location: False<br>START_DATE: 2024-01-17 22:09:14.989<br>",
           "type": "scattermapbox"
          },
          {
           "lat": [
            33.8891
           ],
           "lon": [
            35.486
           ],
           "marker": {
            "color": "rgba(0,0,0,0)",
            "size": 0
           },
           "mode": "markers",
           "type": "scattermapbox"
          },
          {
           "lat": [
            33.8891
           ],
           "lon": [
            35.486
           ],
           "marker": {
            "color": "yellow",
            "opacity": 1,
            "size": 20
           },
           "mode": "markers",
           "name": "Current: No conditions met",
           "text": "Latitude: 33.8891, Longitude: 35.486<br>cgi_id: 10610948<br>potential_session_end: None<br>potential_newly_active_location: False<br>START_DATE: 2024-01-17 22:09:14.989<br>",
           "type": "scattermapbox"
          },
          {
           "lat": [
            33.8891
           ],
           "lon": [
            35.486
           ],
           "marker": {
            "color": "rgba(0,0,0,0)",
            "size": 0
           },
           "mode": "markers",
           "type": "scattermapbox"
          },
          {
           "lat": [
            33.8891
           ],
           "lon": [
            35.486
           ],
           "marker": {
            "color": "rgba(0,0,0,0)",
            "size": 0
           },
           "mode": "markers",
           "type": "scattermapbox"
          },
          {
           "lat": [
            33.8891
           ],
           "lon": [
            35.486
           ],
           "marker": {
            "color": "blue",
            "opacity": 0.6,
            "size": 9
           },
           "mode": "markers",
           "name": "Previous: potential_newly_active_loc",
           "text": "Latitude: 33.8891, Longitude: 35.486<br>cgi_id: 10610953<br>potential_session_end: None<br>potential_newly_active_location: False<br>START_DATE: 2024-01-17 22:08:57.688<br>",
           "type": "scattermapbox"
          },
          {
           "lat": [
            33.8891
           ],
           "lon": [
            35.486
           ],
           "marker": {
            "color": "rgba(0,0,0,0)",
            "size": 0
           },
           "mode": "markers",
           "type": "scattermapbox"
          },
          {
           "lat": [
            33.8891
           ],
           "lon": [
            35.486
           ],
           "marker": {
            "color": "yellow",
            "opacity": 0.6,
            "size": 18
           },
           "mode": "markers",
           "name": "Previous: No conditions met",
           "text": "Latitude: 33.8891, Longitude: 35.486<br>cgi_id: 10610953<br>potential_session_end: None<br>potential_newly_active_location: False<br>START_DATE: 2024-01-17 22:08:57.688<br>",
           "type": "scattermapbox"
          }
         ],
         "name": "2024-01-17 22:09:14.989"
        },
        {
         "data": [
          {
           "lat": [
            33.8934
           ],
           "lon": [
            35.4849
           ],
           "marker": {
            "color": "rgba(0,0,0,0)",
            "size": 0
           },
           "mode": "markers",
           "type": "scattermapbox"
          },
          {
           "lat": [
            33.8934
           ],
           "lon": [
            35.4849
           ],
           "marker": {
            "color": "rgba(0,0,0,0)",
            "size": 0
           },
           "mode": "markers",
           "type": "scattermapbox"
          },
          {
           "lat": [
            33.8934
           ],
           "lon": [
            35.4849
           ],
           "marker": {
            "color": "blue",
            "opacity": 1,
            "size": 10
           },
           "mode": "markers",
           "name": "Current: potential_newly_active_loc",
           "text": "Latitude: 33.8934, Longitude: 35.4849<br>cgi_id: 10529282<br>potential_session_end: None<br>potential_newly_active_location: False<br>START_DATE: 2024-01-17 22:13:48.251<br>",
           "type": "scattermapbox"
          },
          {
           "lat": [
            33.8934
           ],
           "lon": [
            35.4849
           ],
           "marker": {
            "color": "rgba(0,0,0,0)",
            "size": 0
           },
           "mode": "markers",
           "type": "scattermapbox"
          },
          {
           "lat": [
            33.8934
           ],
           "lon": [
            35.4849
           ],
           "marker": {
            "color": "yellow",
            "opacity": 1,
            "size": 20
           },
           "mode": "markers",
           "name": "Current: No conditions met",
           "text": "Latitude: 33.8934, Longitude: 35.4849<br>cgi_id: 10529282<br>potential_session_end: None<br>potential_newly_active_location: False<br>START_DATE: 2024-01-17 22:13:48.251<br>",
           "type": "scattermapbox"
          },
          {
           "lat": [
            33.8891
           ],
           "lon": [
            35.486
           ],
           "marker": {
            "color": "rgba(0,0,0,0)",
            "size": 0
           },
           "mode": "markers",
           "type": "scattermapbox"
          },
          {
           "lat": [
            33.8891
           ],
           "lon": [
            35.486
           ],
           "marker": {
            "color": "rgba(0,0,0,0)",
            "size": 0
           },
           "mode": "markers",
           "type": "scattermapbox"
          },
          {
           "lat": [
            33.8891
           ],
           "lon": [
            35.486
           ],
           "marker": {
            "color": "blue",
            "opacity": 0.6,
            "size": 9
           },
           "mode": "markers",
           "name": "Previous: potential_newly_active_loc",
           "text": "Latitude: 33.8891, Longitude: 35.486<br>cgi_id: 10610948<br>potential_session_end: None<br>potential_newly_active_location: False<br>START_DATE: 2024-01-17 22:09:14.989<br>",
           "type": "scattermapbox"
          },
          {
           "lat": [
            33.8891
           ],
           "lon": [
            35.486
           ],
           "marker": {
            "color": "rgba(0,0,0,0)",
            "size": 0
           },
           "mode": "markers",
           "type": "scattermapbox"
          },
          {
           "lat": [
            33.8891
           ],
           "lon": [
            35.486
           ],
           "marker": {
            "color": "yellow",
            "opacity": 0.6,
            "size": 18
           },
           "mode": "markers",
           "name": "Previous: No conditions met",
           "text": "Latitude: 33.8891, Longitude: 35.486<br>cgi_id: 10610948<br>potential_session_end: None<br>potential_newly_active_location: False<br>START_DATE: 2024-01-17 22:09:14.989<br>",
           "type": "scattermapbox"
          }
         ],
         "name": "2024-01-17 22:13:48.251"
        },
        {
         "data": [
          {
           "lat": [
            33.8891
           ],
           "lon": [
            35.486
           ],
           "marker": {
            "color": "rgba(0,0,0,0)",
            "size": 0
           },
           "mode": "markers",
           "type": "scattermapbox"
          },
          {
           "lat": [
            33.8891
           ],
           "lon": [
            35.486
           ],
           "marker": {
            "color": "rgba(0,0,0,0)",
            "size": 0
           },
           "mode": "markers",
           "type": "scattermapbox"
          },
          {
           "lat": [
            33.8891
           ],
           "lon": [
            35.486
           ],
           "marker": {
            "color": "blue",
            "opacity": 1,
            "size": 10
           },
           "mode": "markers",
           "name": "Current: potential_newly_active_loc",
           "text": "Latitude: 33.8891, Longitude: 35.486<br>cgi_id: 10610945<br>potential_session_end: None<br>potential_newly_active_location: False<br>START_DATE: 2024-01-17 22:14:06.150<br>",
           "type": "scattermapbox"
          },
          {
           "lat": [
            33.8891
           ],
           "lon": [
            35.486
           ],
           "marker": {
            "color": "rgba(0,0,0,0)",
            "size": 0
           },
           "mode": "markers",
           "type": "scattermapbox"
          },
          {
           "lat": [
            33.8891
           ],
           "lon": [
            35.486
           ],
           "marker": {
            "color": "yellow",
            "opacity": 1,
            "size": 20
           },
           "mode": "markers",
           "name": "Current: No conditions met",
           "text": "Latitude: 33.8891, Longitude: 35.486<br>cgi_id: 10610945<br>potential_session_end: None<br>potential_newly_active_location: False<br>START_DATE: 2024-01-17 22:14:06.150<br>",
           "type": "scattermapbox"
          },
          {
           "lat": [
            33.8934
           ],
           "lon": [
            35.4849
           ],
           "marker": {
            "color": "rgba(0,0,0,0)",
            "size": 0
           },
           "mode": "markers",
           "type": "scattermapbox"
          },
          {
           "lat": [
            33.8934
           ],
           "lon": [
            35.4849
           ],
           "marker": {
            "color": "rgba(0,0,0,0)",
            "size": 0
           },
           "mode": "markers",
           "type": "scattermapbox"
          },
          {
           "lat": [
            33.8934
           ],
           "lon": [
            35.4849
           ],
           "marker": {
            "color": "blue",
            "opacity": 0.6,
            "size": 9
           },
           "mode": "markers",
           "name": "Previous: potential_newly_active_loc",
           "text": "Latitude: 33.8934, Longitude: 35.4849<br>cgi_id: 10529282<br>potential_session_end: None<br>potential_newly_active_location: False<br>START_DATE: 2024-01-17 22:13:48.251<br>",
           "type": "scattermapbox"
          },
          {
           "lat": [
            33.8934
           ],
           "lon": [
            35.4849
           ],
           "marker": {
            "color": "rgba(0,0,0,0)",
            "size": 0
           },
           "mode": "markers",
           "type": "scattermapbox"
          },
          {
           "lat": [
            33.8934
           ],
           "lon": [
            35.4849
           ],
           "marker": {
            "color": "yellow",
            "opacity": 0.6,
            "size": 18
           },
           "mode": "markers",
           "name": "Previous: No conditions met",
           "text": "Latitude: 33.8934, Longitude: 35.4849<br>cgi_id: 10529282<br>potential_session_end: None<br>potential_newly_active_location: False<br>START_DATE: 2024-01-17 22:13:48.251<br>",
           "type": "scattermapbox"
          }
         ],
         "name": "2024-01-17 22:14:06.150"
        },
        {
         "data": [
          {
           "lat": [
            33.8934
           ],
           "lon": [
            35.4849
           ],
           "marker": {
            "color": "rgba(0,0,0,0)",
            "size": 0
           },
           "mode": "markers",
           "type": "scattermapbox"
          },
          {
           "lat": [
            33.8934
           ],
           "lon": [
            35.4849
           ],
           "marker": {
            "color": "rgba(0,0,0,0)",
            "size": 0
           },
           "mode": "markers",
           "type": "scattermapbox"
          },
          {
           "lat": [
            33.8934
           ],
           "lon": [
            35.4849
           ],
           "marker": {
            "color": "blue",
            "opacity": 1,
            "size": 10
           },
           "mode": "markers",
           "name": "Current: potential_newly_active_loc",
           "text": "Latitude: 33.8934, Longitude: 35.4849<br>cgi_id: 10529281<br>potential_session_end: None<br>potential_newly_active_location: False<br>START_DATE: 2024-01-17 22:16:12.972<br>",
           "type": "scattermapbox"
          },
          {
           "lat": [
            33.8934
           ],
           "lon": [
            35.4849
           ],
           "marker": {
            "color": "rgba(0,0,0,0)",
            "size": 0
           },
           "mode": "markers",
           "type": "scattermapbox"
          },
          {
           "lat": [
            33.8934
           ],
           "lon": [
            35.4849
           ],
           "marker": {
            "color": "yellow",
            "opacity": 1,
            "size": 20
           },
           "mode": "markers",
           "name": "Current: No conditions met",
           "text": "Latitude: 33.8934, Longitude: 35.4849<br>cgi_id: 10529281<br>potential_session_end: None<br>potential_newly_active_location: False<br>START_DATE: 2024-01-17 22:16:12.972<br>",
           "type": "scattermapbox"
          },
          {
           "lat": [
            33.8891
           ],
           "lon": [
            35.486
           ],
           "marker": {
            "color": "rgba(0,0,0,0)",
            "size": 0
           },
           "mode": "markers",
           "type": "scattermapbox"
          },
          {
           "lat": [
            33.8891
           ],
           "lon": [
            35.486
           ],
           "marker": {
            "color": "rgba(0,0,0,0)",
            "size": 0
           },
           "mode": "markers",
           "type": "scattermapbox"
          },
          {
           "lat": [
            33.8891
           ],
           "lon": [
            35.486
           ],
           "marker": {
            "color": "blue",
            "opacity": 0.6,
            "size": 9
           },
           "mode": "markers",
           "name": "Previous: potential_newly_active_loc",
           "text": "Latitude: 33.8891, Longitude: 35.486<br>cgi_id: 10610945<br>potential_session_end: None<br>potential_newly_active_location: False<br>START_DATE: 2024-01-17 22:14:06.150<br>",
           "type": "scattermapbox"
          },
          {
           "lat": [
            33.8891
           ],
           "lon": [
            35.486
           ],
           "marker": {
            "color": "rgba(0,0,0,0)",
            "size": 0
           },
           "mode": "markers",
           "type": "scattermapbox"
          },
          {
           "lat": [
            33.8891
           ],
           "lon": [
            35.486
           ],
           "marker": {
            "color": "yellow",
            "opacity": 0.6,
            "size": 18
           },
           "mode": "markers",
           "name": "Previous: No conditions met",
           "text": "Latitude: 33.8891, Longitude: 35.486<br>cgi_id: 10610945<br>potential_session_end: None<br>potential_newly_active_location: False<br>START_DATE: 2024-01-17 22:14:06.150<br>",
           "type": "scattermapbox"
          }
         ],
         "name": "2024-01-17 22:16:12.972"
        }
       ],
       "layout": {
        "mapbox": {
         "center": {
          "lat": 33.885495000000006,
          "lon": 35.495505
         },
         "style": "carto-positron",
         "zoom": 12
        },
        "sliders": [
         {
          "active": 19,
          "currentvalue": {
           "prefix": "Time: "
          },
          "steps": [
           {
            "args": [
             [
              "2024-01-17 21:52:38.419"
             ],
             {
              "frame": {
               "duration": 0,
               "redraw": true
              },
              "mode": "immediate"
             }
            ],
            "label": "2024-01-17 21:52:38.419",
            "method": "animate"
           },
           {
            "args": [
             [
              "2024-01-17 21:53:16.806"
             ],
             {
              "frame": {
               "duration": 0,
               "redraw": true
              },
              "mode": "immediate"
             }
            ],
            "label": "2024-01-17 21:53:16.806",
            "method": "animate"
           },
           {
            "args": [
             [
              "2024-01-17 21:53:53.977"
             ],
             {
              "frame": {
               "duration": 0,
               "redraw": true
              },
              "mode": "immediate"
             }
            ],
            "label": "2024-01-17 21:53:53.977",
            "method": "animate"
           },
           {
            "args": [
             [
              "2024-01-17 21:54:00.607"
             ],
             {
              "frame": {
               "duration": 0,
               "redraw": true
              },
              "mode": "immediate"
             }
            ],
            "label": "2024-01-17 21:54:00.607",
            "method": "animate"
           },
           {
            "args": [
             [
              "2024-01-17 21:54:07.254"
             ],
             {
              "frame": {
               "duration": 0,
               "redraw": true
              },
              "mode": "immediate"
             }
            ],
            "label": "2024-01-17 21:54:07.254",
            "method": "animate"
           },
           {
            "args": [
             [
              "2024-01-17 21:54:34.157"
             ],
             {
              "frame": {
               "duration": 0,
               "redraw": true
              },
              "mode": "immediate"
             }
            ],
            "label": "2024-01-17 21:54:34.157",
            "method": "animate"
           },
           {
            "args": [
             [
              "2024-01-17 21:59:35.507"
             ],
             {
              "frame": {
               "duration": 0,
               "redraw": true
              },
              "mode": "immediate"
             }
            ],
            "label": "2024-01-17 21:59:35.507",
            "method": "animate"
           },
           {
            "args": [
             [
              "2024-01-17 22:01:11.776"
             ],
             {
              "frame": {
               "duration": 0,
               "redraw": true
              },
              "mode": "immediate"
             }
            ],
            "label": "2024-01-17 22:01:11.776",
            "method": "animate"
           },
           {
            "args": [
             [
              "2024-01-17 22:01:11.814"
             ],
             {
              "frame": {
               "duration": 0,
               "redraw": true
              },
              "mode": "immediate"
             }
            ],
            "label": "2024-01-17 22:01:11.814",
            "method": "animate"
           },
           {
            "args": [
             [
              "2024-01-17 22:01:18.192"
             ],
             {
              "frame": {
               "duration": 0,
               "redraw": true
              },
              "mode": "immediate"
             }
            ],
            "label": "2024-01-17 22:01:18.192",
            "method": "animate"
           },
           {
            "args": [
             [
              "2024-01-17 22:02:40.124"
             ],
             {
              "frame": {
               "duration": 0,
               "redraw": true
              },
              "mode": "immediate"
             }
            ],
            "label": "2024-01-17 22:02:40.124",
            "method": "animate"
           },
           {
            "args": [
             [
              "2024-01-17 22:04:56.525"
             ],
             {
              "frame": {
               "duration": 0,
               "redraw": true
              },
              "mode": "immediate"
             }
            ],
            "label": "2024-01-17 22:04:56.525",
            "method": "animate"
           },
           {
            "args": [
             [
              "2024-01-17 22:07:03.420"
             ],
             {
              "frame": {
               "duration": 0,
               "redraw": true
              },
              "mode": "immediate"
             }
            ],
            "label": "2024-01-17 22:07:03.420",
            "method": "animate"
           },
           {
            "args": [
             [
              "2024-01-17 22:07:55.905"
             ],
             {
              "frame": {
               "duration": 0,
               "redraw": true
              },
              "mode": "immediate"
             }
            ],
            "label": "2024-01-17 22:07:55.905",
            "method": "animate"
           },
           {
            "args": [
             [
              "2024-01-17 22:07:58.150"
             ],
             {
              "frame": {
               "duration": 0,
               "redraw": true
              },
              "mode": "immediate"
             }
            ],
            "label": "2024-01-17 22:07:58.150",
            "method": "animate"
           },
           {
            "args": [
             [
              "2024-01-17 22:08:57.688"
             ],
             {
              "frame": {
               "duration": 0,
               "redraw": true
              },
              "mode": "immediate"
             }
            ],
            "label": "2024-01-17 22:08:57.688",
            "method": "animate"
           },
           {
            "args": [
             [
              "2024-01-17 22:09:14.989"
             ],
             {
              "frame": {
               "duration": 0,
               "redraw": true
              },
              "mode": "immediate"
             }
            ],
            "label": "2024-01-17 22:09:14.989",
            "method": "animate"
           },
           {
            "args": [
             [
              "2024-01-17 22:13:48.251"
             ],
             {
              "frame": {
               "duration": 0,
               "redraw": true
              },
              "mode": "immediate"
             }
            ],
            "label": "2024-01-17 22:13:48.251",
            "method": "animate"
           },
           {
            "args": [
             [
              "2024-01-17 22:14:06.150"
             ],
             {
              "frame": {
               "duration": 0,
               "redraw": true
              },
              "mode": "immediate"
             }
            ],
            "label": "2024-01-17 22:14:06.150",
            "method": "animate"
           },
           {
            "args": [
             [
              "2024-01-17 22:16:12.972"
             ],
             {
              "frame": {
               "duration": 0,
               "redraw": true
              },
              "mode": "immediate"
             }
            ],
            "label": "2024-01-17 22:16:12.972",
            "method": "animate"
           }
          ]
         }
        ],
        "template": {
         "data": {
          "bar": [
           {
            "error_x": {
             "color": "#2a3f5f"
            },
            "error_y": {
             "color": "#2a3f5f"
            },
            "marker": {
             "line": {
              "color": "#E5ECF6",
              "width": 0.5
             },
             "pattern": {
              "fillmode": "overlay",
              "size": 10,
              "solidity": 0.2
             }
            },
            "type": "bar"
           }
          ],
          "barpolar": [
           {
            "marker": {
             "line": {
              "color": "#E5ECF6",
              "width": 0.5
             },
             "pattern": {
              "fillmode": "overlay",
              "size": 10,
              "solidity": 0.2
             }
            },
            "type": "barpolar"
           }
          ],
          "carpet": [
           {
            "aaxis": {
             "endlinecolor": "#2a3f5f",
             "gridcolor": "white",
             "linecolor": "white",
             "minorgridcolor": "white",
             "startlinecolor": "#2a3f5f"
            },
            "baxis": {
             "endlinecolor": "#2a3f5f",
             "gridcolor": "white",
             "linecolor": "white",
             "minorgridcolor": "white",
             "startlinecolor": "#2a3f5f"
            },
            "type": "carpet"
           }
          ],
          "choropleth": [
           {
            "colorbar": {
             "outlinewidth": 0,
             "ticks": ""
            },
            "type": "choropleth"
           }
          ],
          "contour": [
           {
            "colorbar": {
             "outlinewidth": 0,
             "ticks": ""
            },
            "colorscale": [
             [
              0,
              "#0d0887"
             ],
             [
              0.1111111111111111,
              "#46039f"
             ],
             [
              0.2222222222222222,
              "#7201a8"
             ],
             [
              0.3333333333333333,
              "#9c179e"
             ],
             [
              0.4444444444444444,
              "#bd3786"
             ],
             [
              0.5555555555555556,
              "#d8576b"
             ],
             [
              0.6666666666666666,
              "#ed7953"
             ],
             [
              0.7777777777777778,
              "#fb9f3a"
             ],
             [
              0.8888888888888888,
              "#fdca26"
             ],
             [
              1,
              "#f0f921"
             ]
            ],
            "type": "contour"
           }
          ],
          "contourcarpet": [
           {
            "colorbar": {
             "outlinewidth": 0,
             "ticks": ""
            },
            "type": "contourcarpet"
           }
          ],
          "heatmap": [
           {
            "colorbar": {
             "outlinewidth": 0,
             "ticks": ""
            },
            "colorscale": [
             [
              0,
              "#0d0887"
             ],
             [
              0.1111111111111111,
              "#46039f"
             ],
             [
              0.2222222222222222,
              "#7201a8"
             ],
             [
              0.3333333333333333,
              "#9c179e"
             ],
             [
              0.4444444444444444,
              "#bd3786"
             ],
             [
              0.5555555555555556,
              "#d8576b"
             ],
             [
              0.6666666666666666,
              "#ed7953"
             ],
             [
              0.7777777777777778,
              "#fb9f3a"
             ],
             [
              0.8888888888888888,
              "#fdca26"
             ],
             [
              1,
              "#f0f921"
             ]
            ],
            "type": "heatmap"
           }
          ],
          "heatmapgl": [
           {
            "colorbar": {
             "outlinewidth": 0,
             "ticks": ""
            },
            "colorscale": [
             [
              0,
              "#0d0887"
             ],
             [
              0.1111111111111111,
              "#46039f"
             ],
             [
              0.2222222222222222,
              "#7201a8"
             ],
             [
              0.3333333333333333,
              "#9c179e"
             ],
             [
              0.4444444444444444,
              "#bd3786"
             ],
             [
              0.5555555555555556,
              "#d8576b"
             ],
             [
              0.6666666666666666,
              "#ed7953"
             ],
             [
              0.7777777777777778,
              "#fb9f3a"
             ],
             [
              0.8888888888888888,
              "#fdca26"
             ],
             [
              1,
              "#f0f921"
             ]
            ],
            "type": "heatmapgl"
           }
          ],
          "histogram": [
           {
            "marker": {
             "pattern": {
              "fillmode": "overlay",
              "size": 10,
              "solidity": 0.2
             }
            },
            "type": "histogram"
           }
          ],
          "histogram2d": [
           {
            "colorbar": {
             "outlinewidth": 0,
             "ticks": ""
            },
            "colorscale": [
             [
              0,
              "#0d0887"
             ],
             [
              0.1111111111111111,
              "#46039f"
             ],
             [
              0.2222222222222222,
              "#7201a8"
             ],
             [
              0.3333333333333333,
              "#9c179e"
             ],
             [
              0.4444444444444444,
              "#bd3786"
             ],
             [
              0.5555555555555556,
              "#d8576b"
             ],
             [
              0.6666666666666666,
              "#ed7953"
             ],
             [
              0.7777777777777778,
              "#fb9f3a"
             ],
             [
              0.8888888888888888,
              "#fdca26"
             ],
             [
              1,
              "#f0f921"
             ]
            ],
            "type": "histogram2d"
           }
          ],
          "histogram2dcontour": [
           {
            "colorbar": {
             "outlinewidth": 0,
             "ticks": ""
            },
            "colorscale": [
             [
              0,
              "#0d0887"
             ],
             [
              0.1111111111111111,
              "#46039f"
             ],
             [
              0.2222222222222222,
              "#7201a8"
             ],
             [
              0.3333333333333333,
              "#9c179e"
             ],
             [
              0.4444444444444444,
              "#bd3786"
             ],
             [
              0.5555555555555556,
              "#d8576b"
             ],
             [
              0.6666666666666666,
              "#ed7953"
             ],
             [
              0.7777777777777778,
              "#fb9f3a"
             ],
             [
              0.8888888888888888,
              "#fdca26"
             ],
             [
              1,
              "#f0f921"
             ]
            ],
            "type": "histogram2dcontour"
           }
          ],
          "mesh3d": [
           {
            "colorbar": {
             "outlinewidth": 0,
             "ticks": ""
            },
            "type": "mesh3d"
           }
          ],
          "parcoords": [
           {
            "line": {
             "colorbar": {
              "outlinewidth": 0,
              "ticks": ""
             }
            },
            "type": "parcoords"
           }
          ],
          "pie": [
           {
            "automargin": true,
            "type": "pie"
           }
          ],
          "scatter": [
           {
            "fillpattern": {
             "fillmode": "overlay",
             "size": 10,
             "solidity": 0.2
            },
            "type": "scatter"
           }
          ],
          "scatter3d": [
           {
            "line": {
             "colorbar": {
              "outlinewidth": 0,
              "ticks": ""
             }
            },
            "marker": {
             "colorbar": {
              "outlinewidth": 0,
              "ticks": ""
             }
            },
            "type": "scatter3d"
           }
          ],
          "scattercarpet": [
           {
            "marker": {
             "colorbar": {
              "outlinewidth": 0,
              "ticks": ""
             }
            },
            "type": "scattercarpet"
           }
          ],
          "scattergeo": [
           {
            "marker": {
             "colorbar": {
              "outlinewidth": 0,
              "ticks": ""
             }
            },
            "type": "scattergeo"
           }
          ],
          "scattergl": [
           {
            "marker": {
             "colorbar": {
              "outlinewidth": 0,
              "ticks": ""
             }
            },
            "type": "scattergl"
           }
          ],
          "scattermapbox": [
           {
            "marker": {
             "colorbar": {
              "outlinewidth": 0,
              "ticks": ""
             }
            },
            "type": "scattermapbox"
           }
          ],
          "scatterpolar": [
           {
            "marker": {
             "colorbar": {
              "outlinewidth": 0,
              "ticks": ""
             }
            },
            "type": "scatterpolar"
           }
          ],
          "scatterpolargl": [
           {
            "marker": {
             "colorbar": {
              "outlinewidth": 0,
              "ticks": ""
             }
            },
            "type": "scatterpolargl"
           }
          ],
          "scatterternary": [
           {
            "marker": {
             "colorbar": {
              "outlinewidth": 0,
              "ticks": ""
             }
            },
            "type": "scatterternary"
           }
          ],
          "surface": [
           {
            "colorbar": {
             "outlinewidth": 0,
             "ticks": ""
            },
            "colorscale": [
             [
              0,
              "#0d0887"
             ],
             [
              0.1111111111111111,
              "#46039f"
             ],
             [
              0.2222222222222222,
              "#7201a8"
             ],
             [
              0.3333333333333333,
              "#9c179e"
             ],
             [
              0.4444444444444444,
              "#bd3786"
             ],
             [
              0.5555555555555556,
              "#d8576b"
             ],
             [
              0.6666666666666666,
              "#ed7953"
             ],
             [
              0.7777777777777778,
              "#fb9f3a"
             ],
             [
              0.8888888888888888,
              "#fdca26"
             ],
             [
              1,
              "#f0f921"
             ]
            ],
            "type": "surface"
           }
          ],
          "table": [
           {
            "cells": {
             "fill": {
              "color": "#EBF0F8"
             },
             "line": {
              "color": "white"
             }
            },
            "header": {
             "fill": {
              "color": "#C8D4E3"
             },
             "line": {
              "color": "white"
             }
            },
            "type": "table"
           }
          ]
         },
         "layout": {
          "annotationdefaults": {
           "arrowcolor": "#2a3f5f",
           "arrowhead": 0,
           "arrowwidth": 1
          },
          "autotypenumbers": "strict",
          "coloraxis": {
           "colorbar": {
            "outlinewidth": 0,
            "ticks": ""
           }
          },
          "colorscale": {
           "diverging": [
            [
             0,
             "#8e0152"
            ],
            [
             0.1,
             "#c51b7d"
            ],
            [
             0.2,
             "#de77ae"
            ],
            [
             0.3,
             "#f1b6da"
            ],
            [
             0.4,
             "#fde0ef"
            ],
            [
             0.5,
             "#f7f7f7"
            ],
            [
             0.6,
             "#e6f5d0"
            ],
            [
             0.7,
             "#b8e186"
            ],
            [
             0.8,
             "#7fbc41"
            ],
            [
             0.9,
             "#4d9221"
            ],
            [
             1,
             "#276419"
            ]
           ],
           "sequential": [
            [
             0,
             "#0d0887"
            ],
            [
             0.1111111111111111,
             "#46039f"
            ],
            [
             0.2222222222222222,
             "#7201a8"
            ],
            [
             0.3333333333333333,
             "#9c179e"
            ],
            [
             0.4444444444444444,
             "#bd3786"
            ],
            [
             0.5555555555555556,
             "#d8576b"
            ],
            [
             0.6666666666666666,
             "#ed7953"
            ],
            [
             0.7777777777777778,
             "#fb9f3a"
            ],
            [
             0.8888888888888888,
             "#fdca26"
            ],
            [
             1,
             "#f0f921"
            ]
           ],
           "sequentialminus": [
            [
             0,
             "#0d0887"
            ],
            [
             0.1111111111111111,
             "#46039f"
            ],
            [
             0.2222222222222222,
             "#7201a8"
            ],
            [
             0.3333333333333333,
             "#9c179e"
            ],
            [
             0.4444444444444444,
             "#bd3786"
            ],
            [
             0.5555555555555556,
             "#d8576b"
            ],
            [
             0.6666666666666666,
             "#ed7953"
            ],
            [
             0.7777777777777778,
             "#fb9f3a"
            ],
            [
             0.8888888888888888,
             "#fdca26"
            ],
            [
             1,
             "#f0f921"
            ]
           ]
          },
          "colorway": [
           "#636efa",
           "#EF553B",
           "#00cc96",
           "#ab63fa",
           "#FFA15A",
           "#19d3f3",
           "#FF6692",
           "#B6E880",
           "#FF97FF",
           "#FECB52"
          ],
          "font": {
           "color": "#2a3f5f"
          },
          "geo": {
           "bgcolor": "white",
           "lakecolor": "white",
           "landcolor": "#E5ECF6",
           "showlakes": true,
           "showland": true,
           "subunitcolor": "white"
          },
          "hoverlabel": {
           "align": "left"
          },
          "hovermode": "closest",
          "mapbox": {
           "style": "light"
          },
          "paper_bgcolor": "white",
          "plot_bgcolor": "#E5ECF6",
          "polar": {
           "angularaxis": {
            "gridcolor": "white",
            "linecolor": "white",
            "ticks": ""
           },
           "bgcolor": "#E5ECF6",
           "radialaxis": {
            "gridcolor": "white",
            "linecolor": "white",
            "ticks": ""
           }
          },
          "scene": {
           "xaxis": {
            "backgroundcolor": "#E5ECF6",
            "gridcolor": "white",
            "gridwidth": 2,
            "linecolor": "white",
            "showbackground": true,
            "ticks": "",
            "zerolinecolor": "white"
           },
           "yaxis": {
            "backgroundcolor": "#E5ECF6",
            "gridcolor": "white",
            "gridwidth": 2,
            "linecolor": "white",
            "showbackground": true,
            "ticks": "",
            "zerolinecolor": "white"
           },
           "zaxis": {
            "backgroundcolor": "#E5ECF6",
            "gridcolor": "white",
            "gridwidth": 2,
            "linecolor": "white",
            "showbackground": true,
            "ticks": "",
            "zerolinecolor": "white"
           }
          },
          "shapedefaults": {
           "line": {
            "color": "#2a3f5f"
           }
          },
          "ternary": {
           "aaxis": {
            "gridcolor": "white",
            "linecolor": "white",
            "ticks": ""
           },
           "baxis": {
            "gridcolor": "white",
            "linecolor": "white",
            "ticks": ""
           },
           "bgcolor": "#E5ECF6",
           "caxis": {
            "gridcolor": "white",
            "linecolor": "white",
            "ticks": ""
           }
          },
          "title": {
           "x": 0.05
          },
          "xaxis": {
           "automargin": true,
           "gridcolor": "white",
           "linecolor": "white",
           "ticks": "",
           "title": {
            "standoff": 15
           },
           "zerolinecolor": "white",
           "zerolinewidth": 2
          },
          "yaxis": {
           "automargin": true,
           "gridcolor": "white",
           "linecolor": "white",
           "ticks": "",
           "title": {
            "standoff": 15
           },
           "zerolinecolor": "white",
           "zerolinewidth": 2
          }
         }
        },
        "title": {
         "text": "Points Over Time"
        },
        "updatemenus": [
         {
          "buttons": [
           {
            "args": [
             null,
             {
              "frame": {
               "duration": 500,
               "redraw": true
              },
              "fromcurrent": true,
              "mode": "immediate"
             }
            ],
            "label": "Play",
            "method": "animate"
           },
           {
            "args": [
             [
              null
             ],
             {
              "frame": {
               "duration": 0,
               "redraw": false
              },
              "mode": "immediate"
             }
            ],
            "label": "Pause",
            "method": "animate"
           },
           {
            "args": [
             null,
             {
              "frame": {
               "duration": 2000,
               "redraw": true
              },
              "fromcurrent": true,
              "mode": "immediate"
             }
            ],
            "label": "Slow",
            "method": "animate"
           },
           {
            "args": [
             null,
             {
              "frame": {
               "duration": 1000,
               "redraw": true
              },
              "fromcurrent": true,
              "mode": "immediate"
             }
            ],
            "label": "Medium",
            "method": "animate"
           },
           {
            "args": [
             null,
             {
              "frame": {
               "duration": 500,
               "redraw": true
              },
              "fromcurrent": true,
              "mode": "immediate"
             }
            ],
            "label": "Fast",
            "method": "animate"
           }
          ],
          "showactive": false,
          "type": "buttons"
         }
        ]
       }
      },
      "text/html": [
       "<div>                            <div id=\"4d5e5f0a-c6ec-4865-95dd-f17ed05bd290\" class=\"plotly-graph-div\" style=\"height:525px; width:100%;\"></div>            <script type=\"text/javascript\">                require([\"plotly\"], function(Plotly) {                    window.PLOTLYENV=window.PLOTLYENV || {};                                    if (document.getElementById(\"4d5e5f0a-c6ec-4865-95dd-f17ed05bd290\")) {                    Plotly.newPlot(                        \"4d5e5f0a-c6ec-4865-95dd-f17ed05bd290\",                        [{\"lat\":[33.8815],\"lon\":[35.4886],\"marker\":{\"color\":\"rgba(0,0,0,0)\",\"size\":0},\"mode\":\"markers\",\"type\":\"scattermapbox\"},{\"lat\":[33.8815],\"lon\":[35.4886],\"marker\":{\"color\":\"rgba(0,0,0,0)\",\"size\":0},\"mode\":\"markers\",\"type\":\"scattermapbox\"},{\"lat\":[33.8815],\"lon\":[35.4886],\"marker\":{\"color\":\"blue\",\"opacity\":1,\"size\":10},\"mode\":\"markers\",\"name\":\"Current: potential_newly_active_loc\",\"text\":\"Latitude: 33.8815, Longitude: 35.4886\\u003cbr\\u003ecgi_id: 10615558\\u003cbr\\u003epotential_session_end: None\\u003cbr\\u003epotential_newly_active_location: False\\u003cbr\\u003eSTART_DATE: 2024-01-17 21:52:38.419\\u003cbr\\u003e\",\"type\":\"scattermapbox\"},{\"lat\":[33.8815],\"lon\":[35.4886],\"marker\":{\"color\":\"rgba(0,0,0,0)\",\"size\":0},\"mode\":\"markers\",\"type\":\"scattermapbox\"},{\"lat\":[33.8815],\"lon\":[35.4886],\"marker\":{\"color\":\"yellow\",\"opacity\":1,\"size\":20},\"mode\":\"markers\",\"name\":\"Current: No conditions met\",\"text\":\"Latitude: 33.8815, Longitude: 35.4886\\u003cbr\\u003ecgi_id: 10615558\\u003cbr\\u003epotential_session_end: None\\u003cbr\\u003epotential_newly_active_location: False\\u003cbr\\u003eSTART_DATE: 2024-01-17 21:52:38.419\\u003cbr\\u003e\",\"type\":\"scattermapbox\"},{\"lat\":[33.8815],\"lon\":[35.4886],\"marker\":{\"color\":\"rgba(0,0,0,0)\",\"size\":0},\"mode\":\"markers\",\"type\":\"scattermapbox\"},{\"lat\":[33.8815],\"lon\":[35.4886],\"marker\":{\"color\":\"rgba(0,0,0,0)\",\"size\":0},\"mode\":\"markers\",\"type\":\"scattermapbox\"},{\"lat\":[33.8815],\"lon\":[35.4886],\"marker\":{\"color\":\"blue\",\"opacity\":0.6,\"size\":9},\"mode\":\"markers\",\"name\":\"Previous: potential_newly_active_loc\",\"type\":\"scattermapbox\"},{\"lat\":[33.8815],\"lon\":[35.4886],\"marker\":{\"color\":\"rgba(0,0,0,0)\",\"size\":0},\"mode\":\"markers\",\"type\":\"scattermapbox\"},{\"lat\":[33.8815],\"lon\":[35.4886],\"marker\":{\"color\":\"yellow\",\"opacity\":0.6,\"size\":18},\"mode\":\"markers\",\"name\":\"Previous: No conditions met\",\"type\":\"scattermapbox\"}],                        {\"template\":{\"data\":{\"histogram2dcontour\":[{\"type\":\"histogram2dcontour\",\"colorbar\":{\"outlinewidth\":0,\"ticks\":\"\"},\"colorscale\":[[0.0,\"#0d0887\"],[0.1111111111111111,\"#46039f\"],[0.2222222222222222,\"#7201a8\"],[0.3333333333333333,\"#9c179e\"],[0.4444444444444444,\"#bd3786\"],[0.5555555555555556,\"#d8576b\"],[0.6666666666666666,\"#ed7953\"],[0.7777777777777778,\"#fb9f3a\"],[0.8888888888888888,\"#fdca26\"],[1.0,\"#f0f921\"]]}],\"choropleth\":[{\"type\":\"choropleth\",\"colorbar\":{\"outlinewidth\":0,\"ticks\":\"\"}}],\"histogram2d\":[{\"type\":\"histogram2d\",\"colorbar\":{\"outlinewidth\":0,\"ticks\":\"\"},\"colorscale\":[[0.0,\"#0d0887\"],[0.1111111111111111,\"#46039f\"],[0.2222222222222222,\"#7201a8\"],[0.3333333333333333,\"#9c179e\"],[0.4444444444444444,\"#bd3786\"],[0.5555555555555556,\"#d8576b\"],[0.6666666666666666,\"#ed7953\"],[0.7777777777777778,\"#fb9f3a\"],[0.8888888888888888,\"#fdca26\"],[1.0,\"#f0f921\"]]}],\"heatmap\":[{\"type\":\"heatmap\",\"colorbar\":{\"outlinewidth\":0,\"ticks\":\"\"},\"colorscale\":[[0.0,\"#0d0887\"],[0.1111111111111111,\"#46039f\"],[0.2222222222222222,\"#7201a8\"],[0.3333333333333333,\"#9c179e\"],[0.4444444444444444,\"#bd3786\"],[0.5555555555555556,\"#d8576b\"],[0.6666666666666666,\"#ed7953\"],[0.7777777777777778,\"#fb9f3a\"],[0.8888888888888888,\"#fdca26\"],[1.0,\"#f0f921\"]]}],\"heatmapgl\":[{\"type\":\"heatmapgl\",\"colorbar\":{\"outlinewidth\":0,\"ticks\":\"\"},\"colorscale\":[[0.0,\"#0d0887\"],[0.1111111111111111,\"#46039f\"],[0.2222222222222222,\"#7201a8\"],[0.3333333333333333,\"#9c179e\"],[0.4444444444444444,\"#bd3786\"],[0.5555555555555556,\"#d8576b\"],[0.6666666666666666,\"#ed7953\"],[0.7777777777777778,\"#fb9f3a\"],[0.8888888888888888,\"#fdca26\"],[1.0,\"#f0f921\"]]}],\"contourcarpet\":[{\"type\":\"contourcarpet\",\"colorbar\":{\"outlinewidth\":0,\"ticks\":\"\"}}],\"contour\":[{\"type\":\"contour\",\"colorbar\":{\"outlinewidth\":0,\"ticks\":\"\"},\"colorscale\":[[0.0,\"#0d0887\"],[0.1111111111111111,\"#46039f\"],[0.2222222222222222,\"#7201a8\"],[0.3333333333333333,\"#9c179e\"],[0.4444444444444444,\"#bd3786\"],[0.5555555555555556,\"#d8576b\"],[0.6666666666666666,\"#ed7953\"],[0.7777777777777778,\"#fb9f3a\"],[0.8888888888888888,\"#fdca26\"],[1.0,\"#f0f921\"]]}],\"surface\":[{\"type\":\"surface\",\"colorbar\":{\"outlinewidth\":0,\"ticks\":\"\"},\"colorscale\":[[0.0,\"#0d0887\"],[0.1111111111111111,\"#46039f\"],[0.2222222222222222,\"#7201a8\"],[0.3333333333333333,\"#9c179e\"],[0.4444444444444444,\"#bd3786\"],[0.5555555555555556,\"#d8576b\"],[0.6666666666666666,\"#ed7953\"],[0.7777777777777778,\"#fb9f3a\"],[0.8888888888888888,\"#fdca26\"],[1.0,\"#f0f921\"]]}],\"mesh3d\":[{\"type\":\"mesh3d\",\"colorbar\":{\"outlinewidth\":0,\"ticks\":\"\"}}],\"scatter\":[{\"fillpattern\":{\"fillmode\":\"overlay\",\"size\":10,\"solidity\":0.2},\"type\":\"scatter\"}],\"parcoords\":[{\"type\":\"parcoords\",\"line\":{\"colorbar\":{\"outlinewidth\":0,\"ticks\":\"\"}}}],\"scatterpolargl\":[{\"type\":\"scatterpolargl\",\"marker\":{\"colorbar\":{\"outlinewidth\":0,\"ticks\":\"\"}}}],\"bar\":[{\"error_x\":{\"color\":\"#2a3f5f\"},\"error_y\":{\"color\":\"#2a3f5f\"},\"marker\":{\"line\":{\"color\":\"#E5ECF6\",\"width\":0.5},\"pattern\":{\"fillmode\":\"overlay\",\"size\":10,\"solidity\":0.2}},\"type\":\"bar\"}],\"scattergeo\":[{\"type\":\"scattergeo\",\"marker\":{\"colorbar\":{\"outlinewidth\":0,\"ticks\":\"\"}}}],\"scatterpolar\":[{\"type\":\"scatterpolar\",\"marker\":{\"colorbar\":{\"outlinewidth\":0,\"ticks\":\"\"}}}],\"histogram\":[{\"marker\":{\"pattern\":{\"fillmode\":\"overlay\",\"size\":10,\"solidity\":0.2}},\"type\":\"histogram\"}],\"scattergl\":[{\"type\":\"scattergl\",\"marker\":{\"colorbar\":{\"outlinewidth\":0,\"ticks\":\"\"}}}],\"scatter3d\":[{\"type\":\"scatter3d\",\"line\":{\"colorbar\":{\"outlinewidth\":0,\"ticks\":\"\"}},\"marker\":{\"colorbar\":{\"outlinewidth\":0,\"ticks\":\"\"}}}],\"scattermapbox\":[{\"type\":\"scattermapbox\",\"marker\":{\"colorbar\":{\"outlinewidth\":0,\"ticks\":\"\"}}}],\"scatterternary\":[{\"type\":\"scatterternary\",\"marker\":{\"colorbar\":{\"outlinewidth\":0,\"ticks\":\"\"}}}],\"scattercarpet\":[{\"type\":\"scattercarpet\",\"marker\":{\"colorbar\":{\"outlinewidth\":0,\"ticks\":\"\"}}}],\"carpet\":[{\"aaxis\":{\"endlinecolor\":\"#2a3f5f\",\"gridcolor\":\"white\",\"linecolor\":\"white\",\"minorgridcolor\":\"white\",\"startlinecolor\":\"#2a3f5f\"},\"baxis\":{\"endlinecolor\":\"#2a3f5f\",\"gridcolor\":\"white\",\"linecolor\":\"white\",\"minorgridcolor\":\"white\",\"startlinecolor\":\"#2a3f5f\"},\"type\":\"carpet\"}],\"table\":[{\"cells\":{\"fill\":{\"color\":\"#EBF0F8\"},\"line\":{\"color\":\"white\"}},\"header\":{\"fill\":{\"color\":\"#C8D4E3\"},\"line\":{\"color\":\"white\"}},\"type\":\"table\"}],\"barpolar\":[{\"marker\":{\"line\":{\"color\":\"#E5ECF6\",\"width\":0.5},\"pattern\":{\"fillmode\":\"overlay\",\"size\":10,\"solidity\":0.2}},\"type\":\"barpolar\"}],\"pie\":[{\"automargin\":true,\"type\":\"pie\"}]},\"layout\":{\"autotypenumbers\":\"strict\",\"colorway\":[\"#636efa\",\"#EF553B\",\"#00cc96\",\"#ab63fa\",\"#FFA15A\",\"#19d3f3\",\"#FF6692\",\"#B6E880\",\"#FF97FF\",\"#FECB52\"],\"font\":{\"color\":\"#2a3f5f\"},\"hovermode\":\"closest\",\"hoverlabel\":{\"align\":\"left\"},\"paper_bgcolor\":\"white\",\"plot_bgcolor\":\"#E5ECF6\",\"polar\":{\"bgcolor\":\"#E5ECF6\",\"angularaxis\":{\"gridcolor\":\"white\",\"linecolor\":\"white\",\"ticks\":\"\"},\"radialaxis\":{\"gridcolor\":\"white\",\"linecolor\":\"white\",\"ticks\":\"\"}},\"ternary\":{\"bgcolor\":\"#E5ECF6\",\"aaxis\":{\"gridcolor\":\"white\",\"linecolor\":\"white\",\"ticks\":\"\"},\"baxis\":{\"gridcolor\":\"white\",\"linecolor\":\"white\",\"ticks\":\"\"},\"caxis\":{\"gridcolor\":\"white\",\"linecolor\":\"white\",\"ticks\":\"\"}},\"coloraxis\":{\"colorbar\":{\"outlinewidth\":0,\"ticks\":\"\"}},\"colorscale\":{\"sequential\":[[0.0,\"#0d0887\"],[0.1111111111111111,\"#46039f\"],[0.2222222222222222,\"#7201a8\"],[0.3333333333333333,\"#9c179e\"],[0.4444444444444444,\"#bd3786\"],[0.5555555555555556,\"#d8576b\"],[0.6666666666666666,\"#ed7953\"],[0.7777777777777778,\"#fb9f3a\"],[0.8888888888888888,\"#fdca26\"],[1.0,\"#f0f921\"]],\"sequentialminus\":[[0.0,\"#0d0887\"],[0.1111111111111111,\"#46039f\"],[0.2222222222222222,\"#7201a8\"],[0.3333333333333333,\"#9c179e\"],[0.4444444444444444,\"#bd3786\"],[0.5555555555555556,\"#d8576b\"],[0.6666666666666666,\"#ed7953\"],[0.7777777777777778,\"#fb9f3a\"],[0.8888888888888888,\"#fdca26\"],[1.0,\"#f0f921\"]],\"diverging\":[[0,\"#8e0152\"],[0.1,\"#c51b7d\"],[0.2,\"#de77ae\"],[0.3,\"#f1b6da\"],[0.4,\"#fde0ef\"],[0.5,\"#f7f7f7\"],[0.6,\"#e6f5d0\"],[0.7,\"#b8e186\"],[0.8,\"#7fbc41\"],[0.9,\"#4d9221\"],[1,\"#276419\"]]},\"xaxis\":{\"gridcolor\":\"white\",\"linecolor\":\"white\",\"ticks\":\"\",\"title\":{\"standoff\":15},\"zerolinecolor\":\"white\",\"automargin\":true,\"zerolinewidth\":2},\"yaxis\":{\"gridcolor\":\"white\",\"linecolor\":\"white\",\"ticks\":\"\",\"title\":{\"standoff\":15},\"zerolinecolor\":\"white\",\"automargin\":true,\"zerolinewidth\":2},\"scene\":{\"xaxis\":{\"backgroundcolor\":\"#E5ECF6\",\"gridcolor\":\"white\",\"linecolor\":\"white\",\"showbackground\":true,\"ticks\":\"\",\"zerolinecolor\":\"white\",\"gridwidth\":2},\"yaxis\":{\"backgroundcolor\":\"#E5ECF6\",\"gridcolor\":\"white\",\"linecolor\":\"white\",\"showbackground\":true,\"ticks\":\"\",\"zerolinecolor\":\"white\",\"gridwidth\":2},\"zaxis\":{\"backgroundcolor\":\"#E5ECF6\",\"gridcolor\":\"white\",\"linecolor\":\"white\",\"showbackground\":true,\"ticks\":\"\",\"zerolinecolor\":\"white\",\"gridwidth\":2}},\"shapedefaults\":{\"line\":{\"color\":\"#2a3f5f\"}},\"annotationdefaults\":{\"arrowcolor\":\"#2a3f5f\",\"arrowhead\":0,\"arrowwidth\":1},\"geo\":{\"bgcolor\":\"white\",\"landcolor\":\"#E5ECF6\",\"subunitcolor\":\"white\",\"showland\":true,\"showlakes\":true,\"lakecolor\":\"white\"},\"title\":{\"x\":0.05},\"mapbox\":{\"style\":\"light\"}}},\"mapbox\":{\"center\":{\"lat\":33.885495000000006,\"lon\":35.495505},\"style\":\"carto-positron\",\"zoom\":12},\"title\":{\"text\":\"Points Over Time\"},\"sliders\":[{\"active\":19,\"currentvalue\":{\"prefix\":\"Time: \"},\"steps\":[{\"args\":[[\"2024-01-17 21:52:38.419\"],{\"frame\":{\"duration\":0,\"redraw\":true},\"mode\":\"immediate\"}],\"label\":\"2024-01-17 21:52:38.419\",\"method\":\"animate\"},{\"args\":[[\"2024-01-17 21:53:16.806\"],{\"frame\":{\"duration\":0,\"redraw\":true},\"mode\":\"immediate\"}],\"label\":\"2024-01-17 21:53:16.806\",\"method\":\"animate\"},{\"args\":[[\"2024-01-17 21:53:53.977\"],{\"frame\":{\"duration\":0,\"redraw\":true},\"mode\":\"immediate\"}],\"label\":\"2024-01-17 21:53:53.977\",\"method\":\"animate\"},{\"args\":[[\"2024-01-17 21:54:00.607\"],{\"frame\":{\"duration\":0,\"redraw\":true},\"mode\":\"immediate\"}],\"label\":\"2024-01-17 21:54:00.607\",\"method\":\"animate\"},{\"args\":[[\"2024-01-17 21:54:07.254\"],{\"frame\":{\"duration\":0,\"redraw\":true},\"mode\":\"immediate\"}],\"label\":\"2024-01-17 21:54:07.254\",\"method\":\"animate\"},{\"args\":[[\"2024-01-17 21:54:34.157\"],{\"frame\":{\"duration\":0,\"redraw\":true},\"mode\":\"immediate\"}],\"label\":\"2024-01-17 21:54:34.157\",\"method\":\"animate\"},{\"args\":[[\"2024-01-17 21:59:35.507\"],{\"frame\":{\"duration\":0,\"redraw\":true},\"mode\":\"immediate\"}],\"label\":\"2024-01-17 21:59:35.507\",\"method\":\"animate\"},{\"args\":[[\"2024-01-17 22:01:11.776\"],{\"frame\":{\"duration\":0,\"redraw\":true},\"mode\":\"immediate\"}],\"label\":\"2024-01-17 22:01:11.776\",\"method\":\"animate\"},{\"args\":[[\"2024-01-17 22:01:11.814\"],{\"frame\":{\"duration\":0,\"redraw\":true},\"mode\":\"immediate\"}],\"label\":\"2024-01-17 22:01:11.814\",\"method\":\"animate\"},{\"args\":[[\"2024-01-17 22:01:18.192\"],{\"frame\":{\"duration\":0,\"redraw\":true},\"mode\":\"immediate\"}],\"label\":\"2024-01-17 22:01:18.192\",\"method\":\"animate\"},{\"args\":[[\"2024-01-17 22:02:40.124\"],{\"frame\":{\"duration\":0,\"redraw\":true},\"mode\":\"immediate\"}],\"label\":\"2024-01-17 22:02:40.124\",\"method\":\"animate\"},{\"args\":[[\"2024-01-17 22:04:56.525\"],{\"frame\":{\"duration\":0,\"redraw\":true},\"mode\":\"immediate\"}],\"label\":\"2024-01-17 22:04:56.525\",\"method\":\"animate\"},{\"args\":[[\"2024-01-17 22:07:03.420\"],{\"frame\":{\"duration\":0,\"redraw\":true},\"mode\":\"immediate\"}],\"label\":\"2024-01-17 22:07:03.420\",\"method\":\"animate\"},{\"args\":[[\"2024-01-17 22:07:55.905\"],{\"frame\":{\"duration\":0,\"redraw\":true},\"mode\":\"immediate\"}],\"label\":\"2024-01-17 22:07:55.905\",\"method\":\"animate\"},{\"args\":[[\"2024-01-17 22:07:58.150\"],{\"frame\":{\"duration\":0,\"redraw\":true},\"mode\":\"immediate\"}],\"label\":\"2024-01-17 22:07:58.150\",\"method\":\"animate\"},{\"args\":[[\"2024-01-17 22:08:57.688\"],{\"frame\":{\"duration\":0,\"redraw\":true},\"mode\":\"immediate\"}],\"label\":\"2024-01-17 22:08:57.688\",\"method\":\"animate\"},{\"args\":[[\"2024-01-17 22:09:14.989\"],{\"frame\":{\"duration\":0,\"redraw\":true},\"mode\":\"immediate\"}],\"label\":\"2024-01-17 22:09:14.989\",\"method\":\"animate\"},{\"args\":[[\"2024-01-17 22:13:48.251\"],{\"frame\":{\"duration\":0,\"redraw\":true},\"mode\":\"immediate\"}],\"label\":\"2024-01-17 22:13:48.251\",\"method\":\"animate\"},{\"args\":[[\"2024-01-17 22:14:06.150\"],{\"frame\":{\"duration\":0,\"redraw\":true},\"mode\":\"immediate\"}],\"label\":\"2024-01-17 22:14:06.150\",\"method\":\"animate\"},{\"args\":[[\"2024-01-17 22:16:12.972\"],{\"frame\":{\"duration\":0,\"redraw\":true},\"mode\":\"immediate\"}],\"label\":\"2024-01-17 22:16:12.972\",\"method\":\"animate\"}]}],\"updatemenus\":[{\"buttons\":[{\"args\":[null,{\"frame\":{\"duration\":500,\"redraw\":true},\"fromcurrent\":true,\"mode\":\"immediate\"}],\"label\":\"Play\",\"method\":\"animate\"},{\"args\":[[null],{\"frame\":{\"duration\":0,\"redraw\":false},\"mode\":\"immediate\"}],\"label\":\"Pause\",\"method\":\"animate\"},{\"args\":[null,{\"frame\":{\"duration\":2000,\"redraw\":true},\"fromcurrent\":true,\"mode\":\"immediate\"}],\"label\":\"Slow\",\"method\":\"animate\"},{\"args\":[null,{\"frame\":{\"duration\":1000,\"redraw\":true},\"fromcurrent\":true,\"mode\":\"immediate\"}],\"label\":\"Medium\",\"method\":\"animate\"},{\"args\":[null,{\"frame\":{\"duration\":500,\"redraw\":true},\"fromcurrent\":true,\"mode\":\"immediate\"}],\"label\":\"Fast\",\"method\":\"animate\"}],\"showactive\":false,\"type\":\"buttons\"}]},                        {\"responsive\": true}                    ).then(function(){\n",
       "                            Plotly.addFrames('4d5e5f0a-c6ec-4865-95dd-f17ed05bd290', [{\"data\":[{\"lat\":[33.8815],\"lon\":[35.4886],\"marker\":{\"color\":\"rgba(0,0,0,0)\",\"size\":0},\"mode\":\"markers\",\"type\":\"scattermapbox\"},{\"lat\":[33.8815],\"lon\":[35.4886],\"marker\":{\"color\":\"rgba(0,0,0,0)\",\"size\":0},\"mode\":\"markers\",\"type\":\"scattermapbox\"},{\"lat\":[33.8815],\"lon\":[35.4886],\"marker\":{\"color\":\"blue\",\"opacity\":1,\"size\":10},\"mode\":\"markers\",\"name\":\"Current: potential_newly_active_loc\",\"text\":\"Latitude: 33.8815, Longitude: 35.4886\\u003cbr\\u003ecgi_id: 10615558\\u003cbr\\u003epotential_session_end: None\\u003cbr\\u003epotential_newly_active_location: False\\u003cbr\\u003eSTART_DATE: 2024-01-17 21:52:38.419\\u003cbr\\u003e\",\"type\":\"scattermapbox\"},{\"lat\":[33.8815],\"lon\":[35.4886],\"marker\":{\"color\":\"rgba(0,0,0,0)\",\"size\":0},\"mode\":\"markers\",\"type\":\"scattermapbox\"},{\"lat\":[33.8815],\"lon\":[35.4886],\"marker\":{\"color\":\"yellow\",\"opacity\":1,\"size\":20},\"mode\":\"markers\",\"name\":\"Current: No conditions met\",\"text\":\"Latitude: 33.8815, Longitude: 35.4886\\u003cbr\\u003ecgi_id: 10615558\\u003cbr\\u003epotential_session_end: None\\u003cbr\\u003epotential_newly_active_location: False\\u003cbr\\u003eSTART_DATE: 2024-01-17 21:52:38.419\\u003cbr\\u003e\",\"type\":\"scattermapbox\"},{\"lat\":[33.8815],\"lon\":[35.4886],\"marker\":{\"color\":\"rgba(0,0,0,0)\",\"size\":0},\"mode\":\"markers\",\"type\":\"scattermapbox\"},{\"lat\":[33.8815],\"lon\":[35.4886],\"marker\":{\"color\":\"rgba(0,0,0,0)\",\"size\":0},\"mode\":\"markers\",\"type\":\"scattermapbox\"},{\"lat\":[33.8815],\"lon\":[35.4886],\"marker\":{\"color\":\"blue\",\"opacity\":0.6,\"size\":9},\"mode\":\"markers\",\"name\":\"Previous: potential_newly_active_loc\",\"type\":\"scattermapbox\"},{\"lat\":[33.8815],\"lon\":[35.4886],\"marker\":{\"color\":\"rgba(0,0,0,0)\",\"size\":0},\"mode\":\"markers\",\"type\":\"scattermapbox\"},{\"lat\":[33.8815],\"lon\":[35.4886],\"marker\":{\"color\":\"yellow\",\"opacity\":0.6,\"size\":18},\"mode\":\"markers\",\"name\":\"Previous: No conditions met\",\"type\":\"scattermapbox\"}],\"name\":\"2024-01-17 21:52:38.419\"},{\"data\":[{\"lat\":[33.8815],\"lon\":[35.4886],\"marker\":{\"color\":\"rgba(0,0,0,0)\",\"size\":0},\"mode\":\"markers\",\"type\":\"scattermapbox\"},{\"lat\":[33.8815],\"lon\":[35.4886],\"marker\":{\"color\":\"rgba(0,0,0,0)\",\"size\":0},\"mode\":\"markers\",\"type\":\"scattermapbox\"},{\"lat\":[33.8815],\"lon\":[35.4886],\"marker\":{\"color\":\"blue\",\"opacity\":1,\"size\":10},\"mode\":\"markers\",\"name\":\"Current: potential_newly_active_loc\",\"text\":\"Latitude: 33.8815, Longitude: 35.4886\\u003cbr\\u003ecgi_id: 10615555\\u003cbr\\u003epotential_session_end: None\\u003cbr\\u003epotential_newly_active_location: False\\u003cbr\\u003eSTART_DATE: 2024-01-17 21:53:16.806\\u003cbr\\u003e\",\"type\":\"scattermapbox\"},{\"lat\":[33.8815],\"lon\":[35.4886],\"marker\":{\"color\":\"rgba(0,0,0,0)\",\"size\":0},\"mode\":\"markers\",\"type\":\"scattermapbox\"},{\"lat\":[33.8815],\"lon\":[35.4886],\"marker\":{\"color\":\"yellow\",\"opacity\":1,\"size\":20},\"mode\":\"markers\",\"name\":\"Current: No conditions met\",\"text\":\"Latitude: 33.8815, Longitude: 35.4886\\u003cbr\\u003ecgi_id: 10615555\\u003cbr\\u003epotential_session_end: None\\u003cbr\\u003epotential_newly_active_location: False\\u003cbr\\u003eSTART_DATE: 2024-01-17 21:53:16.806\\u003cbr\\u003e\",\"type\":\"scattermapbox\"},{\"lat\":[33.8815],\"lon\":[35.4886],\"marker\":{\"color\":\"rgba(0,0,0,0)\",\"size\":0},\"mode\":\"markers\",\"type\":\"scattermapbox\"},{\"lat\":[33.8815],\"lon\":[35.4886],\"marker\":{\"color\":\"rgba(0,0,0,0)\",\"size\":0},\"mode\":\"markers\",\"type\":\"scattermapbox\"},{\"lat\":[33.8815],\"lon\":[35.4886],\"marker\":{\"color\":\"blue\",\"opacity\":0.6,\"size\":9},\"mode\":\"markers\",\"name\":\"Previous: potential_newly_active_loc\",\"text\":\"Latitude: 33.8815, Longitude: 35.4886\\u003cbr\\u003ecgi_id: 10615558\\u003cbr\\u003epotential_session_end: None\\u003cbr\\u003epotential_newly_active_location: False\\u003cbr\\u003eSTART_DATE: 2024-01-17 21:52:38.419\\u003cbr\\u003e\",\"type\":\"scattermapbox\"},{\"lat\":[33.8815],\"lon\":[35.4886],\"marker\":{\"color\":\"rgba(0,0,0,0)\",\"size\":0},\"mode\":\"markers\",\"type\":\"scattermapbox\"},{\"lat\":[33.8815],\"lon\":[35.4886],\"marker\":{\"color\":\"yellow\",\"opacity\":0.6,\"size\":18},\"mode\":\"markers\",\"name\":\"Previous: No conditions met\",\"text\":\"Latitude: 33.8815, Longitude: 35.4886\\u003cbr\\u003ecgi_id: 10615558\\u003cbr\\u003epotential_session_end: None\\u003cbr\\u003epotential_newly_active_location: False\\u003cbr\\u003eSTART_DATE: 2024-01-17 21:52:38.419\\u003cbr\\u003e\",\"type\":\"scattermapbox\"}],\"name\":\"2024-01-17 21:53:16.806\"},{\"data\":[{\"lat\":[33.8825],\"lon\":[35.4836],\"marker\":{\"color\":\"rgba(0,0,0,0)\",\"size\":0},\"mode\":\"markers\",\"type\":\"scattermapbox\"},{\"lat\":[33.8825],\"lon\":[35.4836],\"marker\":{\"color\":\"rgba(0,0,0,0)\",\"size\":0},\"mode\":\"markers\",\"type\":\"scattermapbox\"},{\"lat\":[33.8825],\"lon\":[35.4836],\"marker\":{\"color\":\"blue\",\"opacity\":1,\"size\":10},\"mode\":\"markers\",\"name\":\"Current: potential_newly_active_loc\",\"text\":\"Latitude: 33.8825, Longitude: 35.4836\\u003cbr\\u003ecgi_id: 10539265\\u003cbr\\u003epotential_session_end: None\\u003cbr\\u003epotential_newly_active_location: False\\u003cbr\\u003eSTART_DATE: 2024-01-17 21:53:53.977\\u003cbr\\u003e\",\"type\":\"scattermapbox\"},{\"lat\":[33.8825],\"lon\":[35.4836],\"marker\":{\"color\":\"rgba(0,0,0,0)\",\"size\":0},\"mode\":\"markers\",\"type\":\"scattermapbox\"},{\"lat\":[33.8825],\"lon\":[35.4836],\"marker\":{\"color\":\"yellow\",\"opacity\":1,\"size\":20},\"mode\":\"markers\",\"name\":\"Current: No conditions met\",\"text\":\"Latitude: 33.8825, Longitude: 35.4836\\u003cbr\\u003ecgi_id: 10539265\\u003cbr\\u003epotential_session_end: None\\u003cbr\\u003epotential_newly_active_location: False\\u003cbr\\u003eSTART_DATE: 2024-01-17 21:53:53.977\\u003cbr\\u003e\",\"type\":\"scattermapbox\"},{\"lat\":[33.8815],\"lon\":[35.4886],\"marker\":{\"color\":\"rgba(0,0,0,0)\",\"size\":0},\"mode\":\"markers\",\"type\":\"scattermapbox\"},{\"lat\":[33.8815],\"lon\":[35.4886],\"marker\":{\"color\":\"rgba(0,0,0,0)\",\"size\":0},\"mode\":\"markers\",\"type\":\"scattermapbox\"},{\"lat\":[33.8815],\"lon\":[35.4886],\"marker\":{\"color\":\"blue\",\"opacity\":0.6,\"size\":9},\"mode\":\"markers\",\"name\":\"Previous: potential_newly_active_loc\",\"text\":\"Latitude: 33.8815, Longitude: 35.4886\\u003cbr\\u003ecgi_id: 10615555\\u003cbr\\u003epotential_session_end: None\\u003cbr\\u003epotential_newly_active_location: False\\u003cbr\\u003eSTART_DATE: 2024-01-17 21:53:16.806\\u003cbr\\u003e\",\"type\":\"scattermapbox\"},{\"lat\":[33.8815],\"lon\":[35.4886],\"marker\":{\"color\":\"rgba(0,0,0,0)\",\"size\":0},\"mode\":\"markers\",\"type\":\"scattermapbox\"},{\"lat\":[33.8815],\"lon\":[35.4886],\"marker\":{\"color\":\"yellow\",\"opacity\":0.6,\"size\":18},\"mode\":\"markers\",\"name\":\"Previous: No conditions met\",\"text\":\"Latitude: 33.8815, Longitude: 35.4886\\u003cbr\\u003ecgi_id: 10615555\\u003cbr\\u003epotential_session_end: None\\u003cbr\\u003epotential_newly_active_location: False\\u003cbr\\u003eSTART_DATE: 2024-01-17 21:53:16.806\\u003cbr\\u003e\",\"type\":\"scattermapbox\"}],\"name\":\"2024-01-17 21:53:53.977\"},{\"data\":[{\"lat\":[33.8815],\"lon\":[35.4886],\"marker\":{\"color\":\"rgba(0,0,0,0)\",\"size\":0},\"mode\":\"markers\",\"type\":\"scattermapbox\"},{\"lat\":[33.8815],\"lon\":[35.4886],\"marker\":{\"color\":\"rgba(0,0,0,0)\",\"size\":0},\"mode\":\"markers\",\"type\":\"scattermapbox\"},{\"lat\":[33.8815],\"lon\":[35.4886],\"marker\":{\"color\":\"blue\",\"opacity\":1,\"size\":10},\"mode\":\"markers\",\"name\":\"Current: potential_newly_active_loc\",\"text\":\"Latitude: 33.8815, Longitude: 35.4886\\u003cbr\\u003ecgi_id: 10615555\\u003cbr\\u003epotential_session_end: None\\u003cbr\\u003epotential_newly_active_location: False\\u003cbr\\u003eSTART_DATE: 2024-01-17 21:54:00.607\\u003cbr\\u003e\",\"type\":\"scattermapbox\"},{\"lat\":[33.8815],\"lon\":[35.4886],\"marker\":{\"color\":\"rgba(0,0,0,0)\",\"size\":0},\"mode\":\"markers\",\"type\":\"scattermapbox\"},{\"lat\":[33.8815],\"lon\":[35.4886],\"marker\":{\"color\":\"yellow\",\"opacity\":1,\"size\":20},\"mode\":\"markers\",\"name\":\"Current: No conditions met\",\"text\":\"Latitude: 33.8815, Longitude: 35.4886\\u003cbr\\u003ecgi_id: 10615555\\u003cbr\\u003epotential_session_end: None\\u003cbr\\u003epotential_newly_active_location: False\\u003cbr\\u003eSTART_DATE: 2024-01-17 21:54:00.607\\u003cbr\\u003e\",\"type\":\"scattermapbox\"},{\"lat\":[33.8825],\"lon\":[35.4836],\"marker\":{\"color\":\"rgba(0,0,0,0)\",\"size\":0},\"mode\":\"markers\",\"type\":\"scattermapbox\"},{\"lat\":[33.8825],\"lon\":[35.4836],\"marker\":{\"color\":\"rgba(0,0,0,0)\",\"size\":0},\"mode\":\"markers\",\"type\":\"scattermapbox\"},{\"lat\":[33.8825],\"lon\":[35.4836],\"marker\":{\"color\":\"blue\",\"opacity\":0.6,\"size\":9},\"mode\":\"markers\",\"name\":\"Previous: potential_newly_active_loc\",\"text\":\"Latitude: 33.8825, Longitude: 35.4836\\u003cbr\\u003ecgi_id: 10539265\\u003cbr\\u003epotential_session_end: None\\u003cbr\\u003epotential_newly_active_location: False\\u003cbr\\u003eSTART_DATE: 2024-01-17 21:53:53.977\\u003cbr\\u003e\",\"type\":\"scattermapbox\"},{\"lat\":[33.8825],\"lon\":[35.4836],\"marker\":{\"color\":\"rgba(0,0,0,0)\",\"size\":0},\"mode\":\"markers\",\"type\":\"scattermapbox\"},{\"lat\":[33.8825],\"lon\":[35.4836],\"marker\":{\"color\":\"yellow\",\"opacity\":0.6,\"size\":18},\"mode\":\"markers\",\"name\":\"Previous: No conditions met\",\"text\":\"Latitude: 33.8825, Longitude: 35.4836\\u003cbr\\u003ecgi_id: 10539265\\u003cbr\\u003epotential_session_end: None\\u003cbr\\u003epotential_newly_active_location: False\\u003cbr\\u003eSTART_DATE: 2024-01-17 21:53:53.977\\u003cbr\\u003e\",\"type\":\"scattermapbox\"}],\"name\":\"2024-01-17 21:54:00.607\"},{\"data\":[{\"lat\":[33.8825],\"lon\":[35.4836],\"marker\":{\"color\":\"rgba(0,0,0,0)\",\"size\":0},\"mode\":\"markers\",\"type\":\"scattermapbox\"},{\"lat\":[33.8825],\"lon\":[35.4836],\"marker\":{\"color\":\"rgba(0,0,0,0)\",\"size\":0},\"mode\":\"markers\",\"type\":\"scattermapbox\"},{\"lat\":[33.8825],\"lon\":[35.4836],\"marker\":{\"color\":\"blue\",\"opacity\":1,\"size\":10},\"mode\":\"markers\",\"name\":\"Current: potential_newly_active_loc\",\"text\":\"Latitude: 33.8825, Longitude: 35.4836\\u003cbr\\u003ecgi_id: 10539265\\u003cbr\\u003epotential_session_end: None\\u003cbr\\u003epotential_newly_active_location: False\\u003cbr\\u003eSTART_DATE: 2024-01-17 21:54:07.254\\u003cbr\\u003e\",\"type\":\"scattermapbox\"},{\"lat\":[33.8825],\"lon\":[35.4836],\"marker\":{\"color\":\"rgba(0,0,0,0)\",\"size\":0},\"mode\":\"markers\",\"type\":\"scattermapbox\"},{\"lat\":[33.8825],\"lon\":[35.4836],\"marker\":{\"color\":\"yellow\",\"opacity\":1,\"size\":20},\"mode\":\"markers\",\"name\":\"Current: No conditions met\",\"text\":\"Latitude: 33.8825, Longitude: 35.4836\\u003cbr\\u003ecgi_id: 10539265\\u003cbr\\u003epotential_session_end: None\\u003cbr\\u003epotential_newly_active_location: False\\u003cbr\\u003eSTART_DATE: 2024-01-17 21:54:07.254\\u003cbr\\u003e\",\"type\":\"scattermapbox\"},{\"lat\":[33.8815],\"lon\":[35.4886],\"marker\":{\"color\":\"rgba(0,0,0,0)\",\"size\":0},\"mode\":\"markers\",\"type\":\"scattermapbox\"},{\"lat\":[33.8815],\"lon\":[35.4886],\"marker\":{\"color\":\"rgba(0,0,0,0)\",\"size\":0},\"mode\":\"markers\",\"type\":\"scattermapbox\"},{\"lat\":[33.8815],\"lon\":[35.4886],\"marker\":{\"color\":\"blue\",\"opacity\":0.6,\"size\":9},\"mode\":\"markers\",\"name\":\"Previous: potential_newly_active_loc\",\"text\":\"Latitude: 33.8815, Longitude: 35.4886\\u003cbr\\u003ecgi_id: 10615555\\u003cbr\\u003epotential_session_end: None\\u003cbr\\u003epotential_newly_active_location: False\\u003cbr\\u003eSTART_DATE: 2024-01-17 21:54:00.607\\u003cbr\\u003e\",\"type\":\"scattermapbox\"},{\"lat\":[33.8815],\"lon\":[35.4886],\"marker\":{\"color\":\"rgba(0,0,0,0)\",\"size\":0},\"mode\":\"markers\",\"type\":\"scattermapbox\"},{\"lat\":[33.8815],\"lon\":[35.4886],\"marker\":{\"color\":\"yellow\",\"opacity\":0.6,\"size\":18},\"mode\":\"markers\",\"name\":\"Previous: No conditions met\",\"text\":\"Latitude: 33.8815, Longitude: 35.4886\\u003cbr\\u003ecgi_id: 10615555\\u003cbr\\u003epotential_session_end: None\\u003cbr\\u003epotential_newly_active_location: False\\u003cbr\\u003eSTART_DATE: 2024-01-17 21:54:00.607\\u003cbr\\u003e\",\"type\":\"scattermapbox\"}],\"name\":\"2024-01-17 21:54:07.254\"},{\"data\":[{\"lat\":[33.8815],\"lon\":[35.4886],\"marker\":{\"color\":\"rgba(0,0,0,0)\",\"size\":0},\"mode\":\"markers\",\"type\":\"scattermapbox\"},{\"lat\":[33.8815],\"lon\":[35.4886],\"marker\":{\"color\":\"rgba(0,0,0,0)\",\"size\":0},\"mode\":\"markers\",\"type\":\"scattermapbox\"},{\"lat\":[33.8815],\"lon\":[35.4886],\"marker\":{\"color\":\"blue\",\"opacity\":1,\"size\":10},\"mode\":\"markers\",\"name\":\"Current: potential_newly_active_loc\",\"text\":\"Latitude: 33.8815, Longitude: 35.4886\\u003cbr\\u003ecgi_id: 10615555\\u003cbr\\u003epotential_session_end: None\\u003cbr\\u003epotential_newly_active_location: False\\u003cbr\\u003eSTART_DATE: 2024-01-17 21:54:34.157\\u003cbr\\u003e\",\"type\":\"scattermapbox\"},{\"lat\":[33.8815],\"lon\":[35.4886],\"marker\":{\"color\":\"rgba(0,0,0,0)\",\"size\":0},\"mode\":\"markers\",\"type\":\"scattermapbox\"},{\"lat\":[33.8815],\"lon\":[35.4886],\"marker\":{\"color\":\"yellow\",\"opacity\":1,\"size\":20},\"mode\":\"markers\",\"name\":\"Current: No conditions met\",\"text\":\"Latitude: 33.8815, Longitude: 35.4886\\u003cbr\\u003ecgi_id: 10615555\\u003cbr\\u003epotential_session_end: None\\u003cbr\\u003epotential_newly_active_location: False\\u003cbr\\u003eSTART_DATE: 2024-01-17 21:54:34.157\\u003cbr\\u003e\",\"type\":\"scattermapbox\"},{\"lat\":[33.8825],\"lon\":[35.4836],\"marker\":{\"color\":\"rgba(0,0,0,0)\",\"size\":0},\"mode\":\"markers\",\"type\":\"scattermapbox\"},{\"lat\":[33.8825],\"lon\":[35.4836],\"marker\":{\"color\":\"rgba(0,0,0,0)\",\"size\":0},\"mode\":\"markers\",\"type\":\"scattermapbox\"},{\"lat\":[33.8825],\"lon\":[35.4836],\"marker\":{\"color\":\"blue\",\"opacity\":0.6,\"size\":9},\"mode\":\"markers\",\"name\":\"Previous: potential_newly_active_loc\",\"text\":\"Latitude: 33.8825, Longitude: 35.4836\\u003cbr\\u003ecgi_id: 10539265\\u003cbr\\u003epotential_session_end: None\\u003cbr\\u003epotential_newly_active_location: False\\u003cbr\\u003eSTART_DATE: 2024-01-17 21:54:07.254\\u003cbr\\u003e\",\"type\":\"scattermapbox\"},{\"lat\":[33.8825],\"lon\":[35.4836],\"marker\":{\"color\":\"rgba(0,0,0,0)\",\"size\":0},\"mode\":\"markers\",\"type\":\"scattermapbox\"},{\"lat\":[33.8825],\"lon\":[35.4836],\"marker\":{\"color\":\"yellow\",\"opacity\":0.6,\"size\":18},\"mode\":\"markers\",\"name\":\"Previous: No conditions met\",\"text\":\"Latitude: 33.8825, Longitude: 35.4836\\u003cbr\\u003ecgi_id: 10539265\\u003cbr\\u003epotential_session_end: None\\u003cbr\\u003epotential_newly_active_location: False\\u003cbr\\u003eSTART_DATE: 2024-01-17 21:54:07.254\\u003cbr\\u003e\",\"type\":\"scattermapbox\"}],\"name\":\"2024-01-17 21:54:34.157\"},{\"data\":[{\"lat\":[33.8825],\"lon\":[35.4836],\"marker\":{\"color\":\"rgba(0,0,0,0)\",\"size\":0},\"mode\":\"markers\",\"type\":\"scattermapbox\"},{\"lat\":[33.8825],\"lon\":[35.4836],\"marker\":{\"color\":\"rgba(0,0,0,0)\",\"size\":0},\"mode\":\"markers\",\"type\":\"scattermapbox\"},{\"lat\":[33.8825],\"lon\":[35.4836],\"marker\":{\"color\":\"blue\",\"opacity\":1,\"size\":10},\"mode\":\"markers\",\"name\":\"Current: potential_newly_active_loc\",\"text\":\"Latitude: 33.8825, Longitude: 35.4836\\u003cbr\\u003ecgi_id: 10539266\\u003cbr\\u003epotential_session_end: None\\u003cbr\\u003epotential_newly_active_location: False\\u003cbr\\u003eSTART_DATE: 2024-01-17 21:59:35.507\\u003cbr\\u003e\",\"type\":\"scattermapbox\"},{\"lat\":[33.8825],\"lon\":[35.4836],\"marker\":{\"color\":\"rgba(0,0,0,0)\",\"size\":0},\"mode\":\"markers\",\"type\":\"scattermapbox\"},{\"lat\":[33.8825],\"lon\":[35.4836],\"marker\":{\"color\":\"yellow\",\"opacity\":1,\"size\":20},\"mode\":\"markers\",\"name\":\"Current: No conditions met\",\"text\":\"Latitude: 33.8825, Longitude: 35.4836\\u003cbr\\u003ecgi_id: 10539266\\u003cbr\\u003epotential_session_end: None\\u003cbr\\u003epotential_newly_active_location: False\\u003cbr\\u003eSTART_DATE: 2024-01-17 21:59:35.507\\u003cbr\\u003e\",\"type\":\"scattermapbox\"},{\"lat\":[33.8815],\"lon\":[35.4886],\"marker\":{\"color\":\"rgba(0,0,0,0)\",\"size\":0},\"mode\":\"markers\",\"type\":\"scattermapbox\"},{\"lat\":[33.8815],\"lon\":[35.4886],\"marker\":{\"color\":\"rgba(0,0,0,0)\",\"size\":0},\"mode\":\"markers\",\"type\":\"scattermapbox\"},{\"lat\":[33.8815],\"lon\":[35.4886],\"marker\":{\"color\":\"blue\",\"opacity\":0.6,\"size\":9},\"mode\":\"markers\",\"name\":\"Previous: potential_newly_active_loc\",\"text\":\"Latitude: 33.8815, Longitude: 35.4886\\u003cbr\\u003ecgi_id: 10615555\\u003cbr\\u003epotential_session_end: None\\u003cbr\\u003epotential_newly_active_location: False\\u003cbr\\u003eSTART_DATE: 2024-01-17 21:54:34.157\\u003cbr\\u003e\",\"type\":\"scattermapbox\"},{\"lat\":[33.8815],\"lon\":[35.4886],\"marker\":{\"color\":\"rgba(0,0,0,0)\",\"size\":0},\"mode\":\"markers\",\"type\":\"scattermapbox\"},{\"lat\":[33.8815],\"lon\":[35.4886],\"marker\":{\"color\":\"yellow\",\"opacity\":0.6,\"size\":18},\"mode\":\"markers\",\"name\":\"Previous: No conditions met\",\"text\":\"Latitude: 33.8815, Longitude: 35.4886\\u003cbr\\u003ecgi_id: 10615555\\u003cbr\\u003epotential_session_end: None\\u003cbr\\u003epotential_newly_active_location: False\\u003cbr\\u003eSTART_DATE: 2024-01-17 21:54:34.157\\u003cbr\\u003e\",\"type\":\"scattermapbox\"}],\"name\":\"2024-01-17 21:59:35.507\"},{\"data\":[{\"lat\":[33.8825],\"lon\":[35.4836],\"marker\":{\"color\":\"rgba(0,0,0,0)\",\"size\":0},\"mode\":\"markers\",\"type\":\"scattermapbox\"},{\"lat\":[33.8825],\"lon\":[35.4836],\"marker\":{\"color\":\"rgba(0,0,0,0)\",\"size\":0},\"mode\":\"markers\",\"type\":\"scattermapbox\"},{\"lat\":[33.8825],\"lon\":[35.4836],\"marker\":{\"color\":\"blue\",\"opacity\":1,\"size\":10},\"mode\":\"markers\",\"name\":\"Current: potential_newly_active_loc\",\"text\":\"Latitude: 33.8825, Longitude: 35.4836\\u003cbr\\u003ecgi_id: 10539265\\u003cbr\\u003epotential_session_end: None\\u003cbr\\u003epotential_newly_active_location: False\\u003cbr\\u003eSTART_DATE: 2024-01-17 22:01:11.776\\u003cbr\\u003e\",\"type\":\"scattermapbox\"},{\"lat\":[33.8825],\"lon\":[35.4836],\"marker\":{\"color\":\"rgba(0,0,0,0)\",\"size\":0},\"mode\":\"markers\",\"type\":\"scattermapbox\"},{\"lat\":[33.8825],\"lon\":[35.4836],\"marker\":{\"color\":\"yellow\",\"opacity\":1,\"size\":20},\"mode\":\"markers\",\"name\":\"Current: No conditions met\",\"text\":\"Latitude: 33.8825, Longitude: 35.4836\\u003cbr\\u003ecgi_id: 10539265\\u003cbr\\u003epotential_session_end: None\\u003cbr\\u003epotential_newly_active_location: False\\u003cbr\\u003eSTART_DATE: 2024-01-17 22:01:11.776\\u003cbr\\u003e\",\"type\":\"scattermapbox\"},{\"lat\":[33.8825],\"lon\":[35.4836],\"marker\":{\"color\":\"rgba(0,0,0,0)\",\"size\":0},\"mode\":\"markers\",\"type\":\"scattermapbox\"},{\"lat\":[33.8825],\"lon\":[35.4836],\"marker\":{\"color\":\"rgba(0,0,0,0)\",\"size\":0},\"mode\":\"markers\",\"type\":\"scattermapbox\"},{\"lat\":[33.8825],\"lon\":[35.4836],\"marker\":{\"color\":\"blue\",\"opacity\":0.6,\"size\":9},\"mode\":\"markers\",\"name\":\"Previous: potential_newly_active_loc\",\"text\":\"Latitude: 33.8825, Longitude: 35.4836\\u003cbr\\u003ecgi_id: 10539266\\u003cbr\\u003epotential_session_end: None\\u003cbr\\u003epotential_newly_active_location: False\\u003cbr\\u003eSTART_DATE: 2024-01-17 21:59:35.507\\u003cbr\\u003e\",\"type\":\"scattermapbox\"},{\"lat\":[33.8825],\"lon\":[35.4836],\"marker\":{\"color\":\"rgba(0,0,0,0)\",\"size\":0},\"mode\":\"markers\",\"type\":\"scattermapbox\"},{\"lat\":[33.8825],\"lon\":[35.4836],\"marker\":{\"color\":\"yellow\",\"opacity\":0.6,\"size\":18},\"mode\":\"markers\",\"name\":\"Previous: No conditions met\",\"text\":\"Latitude: 33.8825, Longitude: 35.4836\\u003cbr\\u003ecgi_id: 10539266\\u003cbr\\u003epotential_session_end: None\\u003cbr\\u003epotential_newly_active_location: False\\u003cbr\\u003eSTART_DATE: 2024-01-17 21:59:35.507\\u003cbr\\u003e\",\"type\":\"scattermapbox\"}],\"name\":\"2024-01-17 22:01:11.776\"},{\"data\":[{\"lat\":[33.8825],\"lon\":[35.4836],\"marker\":{\"color\":\"rgba(0,0,0,0)\",\"size\":0},\"mode\":\"markers\",\"type\":\"scattermapbox\"},{\"lat\":[33.8825],\"lon\":[35.4836],\"marker\":{\"color\":\"rgba(0,0,0,0)\",\"size\":0},\"mode\":\"markers\",\"type\":\"scattermapbox\"},{\"lat\":[33.8825],\"lon\":[35.4836],\"marker\":{\"color\":\"blue\",\"opacity\":1,\"size\":10},\"mode\":\"markers\",\"name\":\"Current: potential_newly_active_loc\",\"text\":\"Latitude: 33.8825, Longitude: 35.4836\\u003cbr\\u003ecgi_id: 10539266\\u003cbr\\u003epotential_session_end: None\\u003cbr\\u003epotential_newly_active_location: False\\u003cbr\\u003eSTART_DATE: 2024-01-17 22:01:11.814\\u003cbr\\u003e\",\"type\":\"scattermapbox\"},{\"lat\":[33.8825],\"lon\":[35.4836],\"marker\":{\"color\":\"rgba(0,0,0,0)\",\"size\":0},\"mode\":\"markers\",\"type\":\"scattermapbox\"},{\"lat\":[33.8825],\"lon\":[35.4836],\"marker\":{\"color\":\"yellow\",\"opacity\":1,\"size\":20},\"mode\":\"markers\",\"name\":\"Current: No conditions met\",\"text\":\"Latitude: 33.8825, Longitude: 35.4836\\u003cbr\\u003ecgi_id: 10539266\\u003cbr\\u003epotential_session_end: None\\u003cbr\\u003epotential_newly_active_location: False\\u003cbr\\u003eSTART_DATE: 2024-01-17 22:01:11.814\\u003cbr\\u003e\",\"type\":\"scattermapbox\"},{\"lat\":[33.8825],\"lon\":[35.4836],\"marker\":{\"color\":\"rgba(0,0,0,0)\",\"size\":0},\"mode\":\"markers\",\"type\":\"scattermapbox\"},{\"lat\":[33.8825],\"lon\":[35.4836],\"marker\":{\"color\":\"rgba(0,0,0,0)\",\"size\":0},\"mode\":\"markers\",\"type\":\"scattermapbox\"},{\"lat\":[33.8825],\"lon\":[35.4836],\"marker\":{\"color\":\"blue\",\"opacity\":0.6,\"size\":9},\"mode\":\"markers\",\"name\":\"Previous: potential_newly_active_loc\",\"text\":\"Latitude: 33.8825, Longitude: 35.4836\\u003cbr\\u003ecgi_id: 10539265\\u003cbr\\u003epotential_session_end: None\\u003cbr\\u003epotential_newly_active_location: False\\u003cbr\\u003eSTART_DATE: 2024-01-17 22:01:11.776\\u003cbr\\u003e\",\"type\":\"scattermapbox\"},{\"lat\":[33.8825],\"lon\":[35.4836],\"marker\":{\"color\":\"rgba(0,0,0,0)\",\"size\":0},\"mode\":\"markers\",\"type\":\"scattermapbox\"},{\"lat\":[33.8825],\"lon\":[35.4836],\"marker\":{\"color\":\"yellow\",\"opacity\":0.6,\"size\":18},\"mode\":\"markers\",\"name\":\"Previous: No conditions met\",\"text\":\"Latitude: 33.8825, Longitude: 35.4836\\u003cbr\\u003ecgi_id: 10539265\\u003cbr\\u003epotential_session_end: None\\u003cbr\\u003epotential_newly_active_location: False\\u003cbr\\u003eSTART_DATE: 2024-01-17 22:01:11.776\\u003cbr\\u003e\",\"type\":\"scattermapbox\"}],\"name\":\"2024-01-17 22:01:11.814\"},{\"data\":[{\"lat\":[33.8825],\"lon\":[35.4836],\"marker\":{\"color\":\"rgba(0,0,0,0)\",\"size\":0},\"mode\":\"markers\",\"type\":\"scattermapbox\"},{\"lat\":[33.8825],\"lon\":[35.4836],\"marker\":{\"color\":\"rgba(0,0,0,0)\",\"size\":0},\"mode\":\"markers\",\"type\":\"scattermapbox\"},{\"lat\":[33.8825],\"lon\":[35.4836],\"marker\":{\"color\":\"blue\",\"opacity\":1,\"size\":10},\"mode\":\"markers\",\"name\":\"Current: potential_newly_active_loc\",\"text\":\"Latitude: 33.8825, Longitude: 35.4836\\u003cbr\\u003ecgi_id: 10539265\\u003cbr\\u003epotential_session_end: None\\u003cbr\\u003epotential_newly_active_location: False\\u003cbr\\u003eSTART_DATE: 2024-01-17 22:01:18.192\\u003cbr\\u003e\",\"type\":\"scattermapbox\"},{\"lat\":[33.8825],\"lon\":[35.4836],\"marker\":{\"color\":\"rgba(0,0,0,0)\",\"size\":0},\"mode\":\"markers\",\"type\":\"scattermapbox\"},{\"lat\":[33.8825],\"lon\":[35.4836],\"marker\":{\"color\":\"yellow\",\"opacity\":1,\"size\":20},\"mode\":\"markers\",\"name\":\"Current: No conditions met\",\"text\":\"Latitude: 33.8825, Longitude: 35.4836\\u003cbr\\u003ecgi_id: 10539265\\u003cbr\\u003epotential_session_end: None\\u003cbr\\u003epotential_newly_active_location: False\\u003cbr\\u003eSTART_DATE: 2024-01-17 22:01:18.192\\u003cbr\\u003e\",\"type\":\"scattermapbox\"},{\"lat\":[33.8825],\"lon\":[35.4836],\"marker\":{\"color\":\"rgba(0,0,0,0)\",\"size\":0},\"mode\":\"markers\",\"type\":\"scattermapbox\"},{\"lat\":[33.8825],\"lon\":[35.4836],\"marker\":{\"color\":\"rgba(0,0,0,0)\",\"size\":0},\"mode\":\"markers\",\"type\":\"scattermapbox\"},{\"lat\":[33.8825],\"lon\":[35.4836],\"marker\":{\"color\":\"blue\",\"opacity\":0.6,\"size\":9},\"mode\":\"markers\",\"name\":\"Previous: potential_newly_active_loc\",\"text\":\"Latitude: 33.8825, Longitude: 35.4836\\u003cbr\\u003ecgi_id: 10539266\\u003cbr\\u003epotential_session_end: None\\u003cbr\\u003epotential_newly_active_location: False\\u003cbr\\u003eSTART_DATE: 2024-01-17 22:01:11.814\\u003cbr\\u003e\",\"type\":\"scattermapbox\"},{\"lat\":[33.8825],\"lon\":[35.4836],\"marker\":{\"color\":\"rgba(0,0,0,0)\",\"size\":0},\"mode\":\"markers\",\"type\":\"scattermapbox\"},{\"lat\":[33.8825],\"lon\":[35.4836],\"marker\":{\"color\":\"yellow\",\"opacity\":0.6,\"size\":18},\"mode\":\"markers\",\"name\":\"Previous: No conditions met\",\"text\":\"Latitude: 33.8825, Longitude: 35.4836\\u003cbr\\u003ecgi_id: 10539266\\u003cbr\\u003epotential_session_end: None\\u003cbr\\u003epotential_newly_active_location: False\\u003cbr\\u003eSTART_DATE: 2024-01-17 22:01:11.814\\u003cbr\\u003e\",\"type\":\"scattermapbox\"}],\"name\":\"2024-01-17 22:01:18.192\"},{\"data\":[{\"lat\":[33.8838],\"lon\":[35.4825],\"marker\":{\"color\":\"rgba(0,0,0,0)\",\"size\":0},\"mode\":\"markers\",\"type\":\"scattermapbox\"},{\"lat\":[33.8838],\"lon\":[35.4825],\"marker\":{\"color\":\"rgba(0,0,0,0)\",\"size\":0},\"mode\":\"markers\",\"type\":\"scattermapbox\"},{\"lat\":[33.8838],\"lon\":[35.4825],\"marker\":{\"color\":\"blue\",\"opacity\":1,\"size\":10},\"mode\":\"markers\",\"name\":\"Current: potential_newly_active_loc\",\"text\":\"Latitude: 33.8838, Longitude: 35.4825\\u003cbr\\u003ecgi_id: 10588929\\u003cbr\\u003epotential_session_end: None\\u003cbr\\u003epotential_newly_active_location: False\\u003cbr\\u003eSTART_DATE: 2024-01-17 22:02:40.124\\u003cbr\\u003e\",\"type\":\"scattermapbox\"},{\"lat\":[33.8838],\"lon\":[35.4825],\"marker\":{\"color\":\"rgba(0,0,0,0)\",\"size\":0},\"mode\":\"markers\",\"type\":\"scattermapbox\"},{\"lat\":[33.8838],\"lon\":[35.4825],\"marker\":{\"color\":\"yellow\",\"opacity\":1,\"size\":20},\"mode\":\"markers\",\"name\":\"Current: No conditions met\",\"text\":\"Latitude: 33.8838, Longitude: 35.4825\\u003cbr\\u003ecgi_id: 10588929\\u003cbr\\u003epotential_session_end: None\\u003cbr\\u003epotential_newly_active_location: False\\u003cbr\\u003eSTART_DATE: 2024-01-17 22:02:40.124\\u003cbr\\u003e\",\"type\":\"scattermapbox\"},{\"lat\":[33.8825],\"lon\":[35.4836],\"marker\":{\"color\":\"rgba(0,0,0,0)\",\"size\":0},\"mode\":\"markers\",\"type\":\"scattermapbox\"},{\"lat\":[33.8825],\"lon\":[35.4836],\"marker\":{\"color\":\"rgba(0,0,0,0)\",\"size\":0},\"mode\":\"markers\",\"type\":\"scattermapbox\"},{\"lat\":[33.8825],\"lon\":[35.4836],\"marker\":{\"color\":\"blue\",\"opacity\":0.6,\"size\":9},\"mode\":\"markers\",\"name\":\"Previous: potential_newly_active_loc\",\"text\":\"Latitude: 33.8825, Longitude: 35.4836\\u003cbr\\u003ecgi_id: 10539265\\u003cbr\\u003epotential_session_end: None\\u003cbr\\u003epotential_newly_active_location: False\\u003cbr\\u003eSTART_DATE: 2024-01-17 22:01:18.192\\u003cbr\\u003e\",\"type\":\"scattermapbox\"},{\"lat\":[33.8825],\"lon\":[35.4836],\"marker\":{\"color\":\"rgba(0,0,0,0)\",\"size\":0},\"mode\":\"markers\",\"type\":\"scattermapbox\"},{\"lat\":[33.8825],\"lon\":[35.4836],\"marker\":{\"color\":\"yellow\",\"opacity\":0.6,\"size\":18},\"mode\":\"markers\",\"name\":\"Previous: No conditions met\",\"text\":\"Latitude: 33.8825, Longitude: 35.4836\\u003cbr\\u003ecgi_id: 10539265\\u003cbr\\u003epotential_session_end: None\\u003cbr\\u003epotential_newly_active_location: False\\u003cbr\\u003eSTART_DATE: 2024-01-17 22:01:18.192\\u003cbr\\u003e\",\"type\":\"scattermapbox\"}],\"name\":\"2024-01-17 22:02:40.124\"},{\"data\":[{\"lat\":[33.8864],\"lon\":[35.5859],\"marker\":{\"color\":\"red\",\"opacity\":1,\"size\":25},\"mode\":\"markers\",\"name\":\"Current: potential_overshoot\",\"text\":\"Latitude: 33.8864, Longitude: 35.5859\\u003cbr\\u003ecgi_id: 10567683\\u003cbr\\u003epotential_session_end: True\\u003cbr\\u003epotential_newly_active_location: False\\u003cbr\\u003eSTART_DATE: 2024-01-17 22:04:56.525\\u003cbr\\u003e\",\"type\":\"scattermapbox\"},{\"lat\":[33.8864],\"lon\":[35.5859],\"marker\":{\"color\":\"green\",\"opacity\":1,\"size\":15},\"mode\":\"markers\",\"name\":\"Current: potential_session_end\",\"text\":\"Latitude: 33.8864, Longitude: 35.5859\\u003cbr\\u003ecgi_id: 10567683\\u003cbr\\u003epotential_session_end: True\\u003cbr\\u003epotential_newly_active_location: False\\u003cbr\\u003eSTART_DATE: 2024-01-17 22:04:56.525\\u003cbr\\u003e\",\"type\":\"scattermapbox\"},{\"lat\":[33.8864],\"lon\":[35.5859],\"marker\":{\"color\":\"blue\",\"opacity\":1,\"size\":10},\"mode\":\"markers\",\"name\":\"Current: potential_newly_active_loc\",\"text\":\"Latitude: 33.8864, Longitude: 35.5859\\u003cbr\\u003ecgi_id: 10567683\\u003cbr\\u003epotential_session_end: True\\u003cbr\\u003epotential_newly_active_location: False\\u003cbr\\u003eSTART_DATE: 2024-01-17 22:04:56.525\\u003cbr\\u003e\",\"type\":\"scattermapbox\"},{\"lat\":[33.8864],\"lon\":[35.5859],\"marker\":{\"color\":\"rgba(0,0,0,0)\",\"size\":0},\"mode\":\"markers\",\"type\":\"scattermapbox\"},{\"lat\":[33.8864],\"lon\":[35.5859],\"marker\":{\"color\":\"rgba(0,0,0,0)\",\"size\":0},\"mode\":\"markers\",\"type\":\"scattermapbox\"},{\"lat\":[33.8838],\"lon\":[35.4825],\"marker\":{\"color\":\"rgba(0,0,0,0)\",\"size\":0},\"mode\":\"markers\",\"type\":\"scattermapbox\"},{\"lat\":[33.8838],\"lon\":[35.4825],\"marker\":{\"color\":\"rgba(0,0,0,0)\",\"size\":0},\"mode\":\"markers\",\"type\":\"scattermapbox\"},{\"lat\":[33.8838],\"lon\":[35.4825],\"marker\":{\"color\":\"blue\",\"opacity\":0.6,\"size\":9},\"mode\":\"markers\",\"name\":\"Previous: potential_newly_active_loc\",\"text\":\"Latitude: 33.8838, Longitude: 35.4825\\u003cbr\\u003ecgi_id: 10588929\\u003cbr\\u003epotential_session_end: None\\u003cbr\\u003epotential_newly_active_location: False\\u003cbr\\u003eSTART_DATE: 2024-01-17 22:02:40.124\\u003cbr\\u003e\",\"type\":\"scattermapbox\"},{\"lat\":[33.8838],\"lon\":[35.4825],\"marker\":{\"color\":\"rgba(0,0,0,0)\",\"size\":0},\"mode\":\"markers\",\"type\":\"scattermapbox\"},{\"lat\":[33.8838],\"lon\":[35.4825],\"marker\":{\"color\":\"yellow\",\"opacity\":0.6,\"size\":18},\"mode\":\"markers\",\"name\":\"Previous: No conditions met\",\"text\":\"Latitude: 33.8838, Longitude: 35.4825\\u003cbr\\u003ecgi_id: 10588929\\u003cbr\\u003epotential_session_end: None\\u003cbr\\u003epotential_newly_active_location: False\\u003cbr\\u003eSTART_DATE: 2024-01-17 22:02:40.124\\u003cbr\\u003e\",\"type\":\"scattermapbox\"}],\"name\":\"2024-01-17 22:04:56.525\"},{\"data\":[{\"lat\":[33.8891],\"lon\":[35.486],\"marker\":{\"color\":\"rgba(0,0,0,0)\",\"size\":0},\"mode\":\"markers\",\"type\":\"scattermapbox\"},{\"lat\":[33.8891],\"lon\":[35.486],\"marker\":{\"color\":\"rgba(0,0,0,0)\",\"size\":0},\"mode\":\"markers\",\"type\":\"scattermapbox\"},{\"lat\":[33.8891],\"lon\":[35.486],\"marker\":{\"color\":\"blue\",\"opacity\":1,\"size\":10},\"mode\":\"markers\",\"name\":\"Current: potential_newly_active_loc\",\"text\":\"Latitude: 33.8891, Longitude: 35.486\\u003cbr\\u003ecgi_id: 10610948\\u003cbr\\u003epotential_session_end: None\\u003cbr\\u003epotential_newly_active_location: False\\u003cbr\\u003eSTART_DATE: 2024-01-17 22:07:03.420\\u003cbr\\u003e\",\"type\":\"scattermapbox\"},{\"lat\":[33.8891],\"lon\":[35.486],\"marker\":{\"color\":\"rgba(0,0,0,0)\",\"size\":0},\"mode\":\"markers\",\"type\":\"scattermapbox\"},{\"lat\":[33.8891],\"lon\":[35.486],\"marker\":{\"color\":\"yellow\",\"opacity\":1,\"size\":20},\"mode\":\"markers\",\"name\":\"Current: No conditions met\",\"text\":\"Latitude: 33.8891, Longitude: 35.486\\u003cbr\\u003ecgi_id: 10610948\\u003cbr\\u003epotential_session_end: None\\u003cbr\\u003epotential_newly_active_location: False\\u003cbr\\u003eSTART_DATE: 2024-01-17 22:07:03.420\\u003cbr\\u003e\",\"type\":\"scattermapbox\"},{\"lat\":[33.8864],\"lon\":[35.5859],\"marker\":{\"color\":\"red\",\"opacity\":0.6,\"size\":22},\"mode\":\"markers\",\"name\":\"Previous: potential_overshoot\",\"text\":\"Latitude: 33.8864, Longitude: 35.5859\\u003cbr\\u003ecgi_id: 10567683\\u003cbr\\u003epotential_session_end: True\\u003cbr\\u003epotential_newly_active_location: False\\u003cbr\\u003eSTART_DATE: 2024-01-17 22:04:56.525\\u003cbr\\u003e\",\"type\":\"scattermapbox\"},{\"lat\":[33.8864],\"lon\":[35.5859],\"marker\":{\"color\":\"green\",\"opacity\":0.6,\"size\":13},\"mode\":\"markers\",\"name\":\"Previous: potential_session_end\",\"text\":\"Latitude: 33.8864, Longitude: 35.5859\\u003cbr\\u003ecgi_id: 10567683\\u003cbr\\u003epotential_session_end: True\\u003cbr\\u003epotential_newly_active_location: False\\u003cbr\\u003eSTART_DATE: 2024-01-17 22:04:56.525\\u003cbr\\u003e\",\"type\":\"scattermapbox\"},{\"lat\":[33.8864],\"lon\":[35.5859],\"marker\":{\"color\":\"blue\",\"opacity\":0.6,\"size\":9},\"mode\":\"markers\",\"name\":\"Previous: potential_newly_active_loc\",\"text\":\"Latitude: 33.8864, Longitude: 35.5859\\u003cbr\\u003ecgi_id: 10567683\\u003cbr\\u003epotential_session_end: True\\u003cbr\\u003epotential_newly_active_location: False\\u003cbr\\u003eSTART_DATE: 2024-01-17 22:04:56.525\\u003cbr\\u003e\",\"type\":\"scattermapbox\"},{\"lat\":[33.8864],\"lon\":[35.5859],\"marker\":{\"color\":\"rgba(0,0,0,0)\",\"size\":0},\"mode\":\"markers\",\"type\":\"scattermapbox\"},{\"lat\":[33.8864],\"lon\":[35.5859],\"marker\":{\"color\":\"rgba(0,0,0,0)\",\"size\":0},\"mode\":\"markers\",\"type\":\"scattermapbox\"}],\"name\":\"2024-01-17 22:07:03.420\"},{\"data\":[{\"lat\":[33.8864],\"lon\":[35.5859],\"marker\":{\"color\":\"red\",\"opacity\":1,\"size\":25},\"mode\":\"markers\",\"name\":\"Current: potential_overshoot\",\"text\":\"Latitude: 33.8864, Longitude: 35.5859\\u003cbr\\u003ecgi_id: 10567681\\u003cbr\\u003epotential_session_end: True\\u003cbr\\u003epotential_newly_active_location: False\\u003cbr\\u003eSTART_DATE: 2024-01-17 22:07:55.905\\u003cbr\\u003e\",\"type\":\"scattermapbox\"},{\"lat\":[33.8864],\"lon\":[35.5859],\"marker\":{\"color\":\"green\",\"opacity\":1,\"size\":15},\"mode\":\"markers\",\"name\":\"Current: potential_session_end\",\"text\":\"Latitude: 33.8864, Longitude: 35.5859\\u003cbr\\u003ecgi_id: 10567681\\u003cbr\\u003epotential_session_end: True\\u003cbr\\u003epotential_newly_active_location: False\\u003cbr\\u003eSTART_DATE: 2024-01-17 22:07:55.905\\u003cbr\\u003e\",\"type\":\"scattermapbox\"},{\"lat\":[33.8864],\"lon\":[35.5859],\"marker\":{\"color\":\"blue\",\"opacity\":1,\"size\":10},\"mode\":\"markers\",\"name\":\"Current: potential_newly_active_loc\",\"text\":\"Latitude: 33.8864, Longitude: 35.5859\\u003cbr\\u003ecgi_id: 10567681\\u003cbr\\u003epotential_session_end: True\\u003cbr\\u003epotential_newly_active_location: False\\u003cbr\\u003eSTART_DATE: 2024-01-17 22:07:55.905\\u003cbr\\u003e\",\"type\":\"scattermapbox\"},{\"lat\":[33.8864],\"lon\":[35.5859],\"marker\":{\"color\":\"rgba(0,0,0,0)\",\"size\":0},\"mode\":\"markers\",\"type\":\"scattermapbox\"},{\"lat\":[33.8864],\"lon\":[35.5859],\"marker\":{\"color\":\"rgba(0,0,0,0)\",\"size\":0},\"mode\":\"markers\",\"type\":\"scattermapbox\"},{\"lat\":[33.8891],\"lon\":[35.486],\"marker\":{\"color\":\"rgba(0,0,0,0)\",\"size\":0},\"mode\":\"markers\",\"type\":\"scattermapbox\"},{\"lat\":[33.8891],\"lon\":[35.486],\"marker\":{\"color\":\"rgba(0,0,0,0)\",\"size\":0},\"mode\":\"markers\",\"type\":\"scattermapbox\"},{\"lat\":[33.8891],\"lon\":[35.486],\"marker\":{\"color\":\"blue\",\"opacity\":0.6,\"size\":9},\"mode\":\"markers\",\"name\":\"Previous: potential_newly_active_loc\",\"text\":\"Latitude: 33.8891, Longitude: 35.486\\u003cbr\\u003ecgi_id: 10610948\\u003cbr\\u003epotential_session_end: None\\u003cbr\\u003epotential_newly_active_location: False\\u003cbr\\u003eSTART_DATE: 2024-01-17 22:07:03.420\\u003cbr\\u003e\",\"type\":\"scattermapbox\"},{\"lat\":[33.8891],\"lon\":[35.486],\"marker\":{\"color\":\"rgba(0,0,0,0)\",\"size\":0},\"mode\":\"markers\",\"type\":\"scattermapbox\"},{\"lat\":[33.8891],\"lon\":[35.486],\"marker\":{\"color\":\"yellow\",\"opacity\":0.6,\"size\":18},\"mode\":\"markers\",\"name\":\"Previous: No conditions met\",\"text\":\"Latitude: 33.8891, Longitude: 35.486\\u003cbr\\u003ecgi_id: 10610948\\u003cbr\\u003epotential_session_end: None\\u003cbr\\u003epotential_newly_active_location: False\\u003cbr\\u003eSTART_DATE: 2024-01-17 22:07:03.420\\u003cbr\\u003e\",\"type\":\"scattermapbox\"}],\"name\":\"2024-01-17 22:07:55.905\"},{\"data\":[{\"lat\":[33.8891],\"lon\":[35.486],\"marker\":{\"color\":\"rgba(0,0,0,0)\",\"size\":0},\"mode\":\"markers\",\"type\":\"scattermapbox\"},{\"lat\":[33.8891],\"lon\":[35.486],\"marker\":{\"color\":\"rgba(0,0,0,0)\",\"size\":0},\"mode\":\"markers\",\"type\":\"scattermapbox\"},{\"lat\":[33.8891],\"lon\":[35.486],\"marker\":{\"color\":\"blue\",\"opacity\":1,\"size\":10},\"mode\":\"markers\",\"name\":\"Current: potential_newly_active_loc\",\"text\":\"Latitude: 33.8891, Longitude: 35.486\\u003cbr\\u003ecgi_id: 10610948\\u003cbr\\u003epotential_session_end: None\\u003cbr\\u003epotential_newly_active_location: False\\u003cbr\\u003eSTART_DATE: 2024-01-17 22:07:58.150\\u003cbr\\u003e\",\"type\":\"scattermapbox\"},{\"lat\":[33.8891],\"lon\":[35.486],\"marker\":{\"color\":\"rgba(0,0,0,0)\",\"size\":0},\"mode\":\"markers\",\"type\":\"scattermapbox\"},{\"lat\":[33.8891],\"lon\":[35.486],\"marker\":{\"color\":\"yellow\",\"opacity\":1,\"size\":20},\"mode\":\"markers\",\"name\":\"Current: No conditions met\",\"text\":\"Latitude: 33.8891, Longitude: 35.486\\u003cbr\\u003ecgi_id: 10610948\\u003cbr\\u003epotential_session_end: None\\u003cbr\\u003epotential_newly_active_location: False\\u003cbr\\u003eSTART_DATE: 2024-01-17 22:07:58.150\\u003cbr\\u003e\",\"type\":\"scattermapbox\"},{\"lat\":[33.8864],\"lon\":[35.5859],\"marker\":{\"color\":\"red\",\"opacity\":0.6,\"size\":22},\"mode\":\"markers\",\"name\":\"Previous: potential_overshoot\",\"text\":\"Latitude: 33.8864, Longitude: 35.5859\\u003cbr\\u003ecgi_id: 10567681\\u003cbr\\u003epotential_session_end: True\\u003cbr\\u003epotential_newly_active_location: False\\u003cbr\\u003eSTART_DATE: 2024-01-17 22:07:55.905\\u003cbr\\u003e\",\"type\":\"scattermapbox\"},{\"lat\":[33.8864],\"lon\":[35.5859],\"marker\":{\"color\":\"green\",\"opacity\":0.6,\"size\":13},\"mode\":\"markers\",\"name\":\"Previous: potential_session_end\",\"text\":\"Latitude: 33.8864, Longitude: 35.5859\\u003cbr\\u003ecgi_id: 10567681\\u003cbr\\u003epotential_session_end: True\\u003cbr\\u003epotential_newly_active_location: False\\u003cbr\\u003eSTART_DATE: 2024-01-17 22:07:55.905\\u003cbr\\u003e\",\"type\":\"scattermapbox\"},{\"lat\":[33.8864],\"lon\":[35.5859],\"marker\":{\"color\":\"blue\",\"opacity\":0.6,\"size\":9},\"mode\":\"markers\",\"name\":\"Previous: potential_newly_active_loc\",\"text\":\"Latitude: 33.8864, Longitude: 35.5859\\u003cbr\\u003ecgi_id: 10567681\\u003cbr\\u003epotential_session_end: True\\u003cbr\\u003epotential_newly_active_location: False\\u003cbr\\u003eSTART_DATE: 2024-01-17 22:07:55.905\\u003cbr\\u003e\",\"type\":\"scattermapbox\"},{\"lat\":[33.8864],\"lon\":[35.5859],\"marker\":{\"color\":\"rgba(0,0,0,0)\",\"size\":0},\"mode\":\"markers\",\"type\":\"scattermapbox\"},{\"lat\":[33.8864],\"lon\":[35.5859],\"marker\":{\"color\":\"rgba(0,0,0,0)\",\"size\":0},\"mode\":\"markers\",\"type\":\"scattermapbox\"}],\"name\":\"2024-01-17 22:07:58.150\"},{\"data\":[{\"lat\":[33.8891],\"lon\":[35.486],\"marker\":{\"color\":\"rgba(0,0,0,0)\",\"size\":0},\"mode\":\"markers\",\"type\":\"scattermapbox\"},{\"lat\":[33.8891],\"lon\":[35.486],\"marker\":{\"color\":\"rgba(0,0,0,0)\",\"size\":0},\"mode\":\"markers\",\"type\":\"scattermapbox\"},{\"lat\":[33.8891],\"lon\":[35.486],\"marker\":{\"color\":\"blue\",\"opacity\":1,\"size\":10},\"mode\":\"markers\",\"name\":\"Current: potential_newly_active_loc\",\"text\":\"Latitude: 33.8891, Longitude: 35.486\\u003cbr\\u003ecgi_id: 10610953\\u003cbr\\u003epotential_session_end: None\\u003cbr\\u003epotential_newly_active_location: False\\u003cbr\\u003eSTART_DATE: 2024-01-17 22:08:57.688\\u003cbr\\u003e\",\"type\":\"scattermapbox\"},{\"lat\":[33.8891],\"lon\":[35.486],\"marker\":{\"color\":\"rgba(0,0,0,0)\",\"size\":0},\"mode\":\"markers\",\"type\":\"scattermapbox\"},{\"lat\":[33.8891],\"lon\":[35.486],\"marker\":{\"color\":\"yellow\",\"opacity\":1,\"size\":20},\"mode\":\"markers\",\"name\":\"Current: No conditions met\",\"text\":\"Latitude: 33.8891, Longitude: 35.486\\u003cbr\\u003ecgi_id: 10610953\\u003cbr\\u003epotential_session_end: None\\u003cbr\\u003epotential_newly_active_location: False\\u003cbr\\u003eSTART_DATE: 2024-01-17 22:08:57.688\\u003cbr\\u003e\",\"type\":\"scattermapbox\"},{\"lat\":[33.8891],\"lon\":[35.486],\"marker\":{\"color\":\"rgba(0,0,0,0)\",\"size\":0},\"mode\":\"markers\",\"type\":\"scattermapbox\"},{\"lat\":[33.8891],\"lon\":[35.486],\"marker\":{\"color\":\"rgba(0,0,0,0)\",\"size\":0},\"mode\":\"markers\",\"type\":\"scattermapbox\"},{\"lat\":[33.8891],\"lon\":[35.486],\"marker\":{\"color\":\"blue\",\"opacity\":0.6,\"size\":9},\"mode\":\"markers\",\"name\":\"Previous: potential_newly_active_loc\",\"text\":\"Latitude: 33.8891, Longitude: 35.486\\u003cbr\\u003ecgi_id: 10610948\\u003cbr\\u003epotential_session_end: None\\u003cbr\\u003epotential_newly_active_location: False\\u003cbr\\u003eSTART_DATE: 2024-01-17 22:07:58.150\\u003cbr\\u003e\",\"type\":\"scattermapbox\"},{\"lat\":[33.8891],\"lon\":[35.486],\"marker\":{\"color\":\"rgba(0,0,0,0)\",\"size\":0},\"mode\":\"markers\",\"type\":\"scattermapbox\"},{\"lat\":[33.8891],\"lon\":[35.486],\"marker\":{\"color\":\"yellow\",\"opacity\":0.6,\"size\":18},\"mode\":\"markers\",\"name\":\"Previous: No conditions met\",\"text\":\"Latitude: 33.8891, Longitude: 35.486\\u003cbr\\u003ecgi_id: 10610948\\u003cbr\\u003epotential_session_end: None\\u003cbr\\u003epotential_newly_active_location: False\\u003cbr\\u003eSTART_DATE: 2024-01-17 22:07:58.150\\u003cbr\\u003e\",\"type\":\"scattermapbox\"}],\"name\":\"2024-01-17 22:08:57.688\"},{\"data\":[{\"lat\":[33.8891],\"lon\":[35.486],\"marker\":{\"color\":\"rgba(0,0,0,0)\",\"size\":0},\"mode\":\"markers\",\"type\":\"scattermapbox\"},{\"lat\":[33.8891],\"lon\":[35.486],\"marker\":{\"color\":\"rgba(0,0,0,0)\",\"size\":0},\"mode\":\"markers\",\"type\":\"scattermapbox\"},{\"lat\":[33.8891],\"lon\":[35.486],\"marker\":{\"color\":\"blue\",\"opacity\":1,\"size\":10},\"mode\":\"markers\",\"name\":\"Current: potential_newly_active_loc\",\"text\":\"Latitude: 33.8891, Longitude: 35.486\\u003cbr\\u003ecgi_id: 10610948\\u003cbr\\u003epotential_session_end: None\\u003cbr\\u003epotential_newly_active_location: False\\u003cbr\\u003eSTART_DATE: 2024-01-17 22:09:14.989\\u003cbr\\u003e\",\"type\":\"scattermapbox\"},{\"lat\":[33.8891],\"lon\":[35.486],\"marker\":{\"color\":\"rgba(0,0,0,0)\",\"size\":0},\"mode\":\"markers\",\"type\":\"scattermapbox\"},{\"lat\":[33.8891],\"lon\":[35.486],\"marker\":{\"color\":\"yellow\",\"opacity\":1,\"size\":20},\"mode\":\"markers\",\"name\":\"Current: No conditions met\",\"text\":\"Latitude: 33.8891, Longitude: 35.486\\u003cbr\\u003ecgi_id: 10610948\\u003cbr\\u003epotential_session_end: None\\u003cbr\\u003epotential_newly_active_location: False\\u003cbr\\u003eSTART_DATE: 2024-01-17 22:09:14.989\\u003cbr\\u003e\",\"type\":\"scattermapbox\"},{\"lat\":[33.8891],\"lon\":[35.486],\"marker\":{\"color\":\"rgba(0,0,0,0)\",\"size\":0},\"mode\":\"markers\",\"type\":\"scattermapbox\"},{\"lat\":[33.8891],\"lon\":[35.486],\"marker\":{\"color\":\"rgba(0,0,0,0)\",\"size\":0},\"mode\":\"markers\",\"type\":\"scattermapbox\"},{\"lat\":[33.8891],\"lon\":[35.486],\"marker\":{\"color\":\"blue\",\"opacity\":0.6,\"size\":9},\"mode\":\"markers\",\"name\":\"Previous: potential_newly_active_loc\",\"text\":\"Latitude: 33.8891, Longitude: 35.486\\u003cbr\\u003ecgi_id: 10610953\\u003cbr\\u003epotential_session_end: None\\u003cbr\\u003epotential_newly_active_location: False\\u003cbr\\u003eSTART_DATE: 2024-01-17 22:08:57.688\\u003cbr\\u003e\",\"type\":\"scattermapbox\"},{\"lat\":[33.8891],\"lon\":[35.486],\"marker\":{\"color\":\"rgba(0,0,0,0)\",\"size\":0},\"mode\":\"markers\",\"type\":\"scattermapbox\"},{\"lat\":[33.8891],\"lon\":[35.486],\"marker\":{\"color\":\"yellow\",\"opacity\":0.6,\"size\":18},\"mode\":\"markers\",\"name\":\"Previous: No conditions met\",\"text\":\"Latitude: 33.8891, Longitude: 35.486\\u003cbr\\u003ecgi_id: 10610953\\u003cbr\\u003epotential_session_end: None\\u003cbr\\u003epotential_newly_active_location: False\\u003cbr\\u003eSTART_DATE: 2024-01-17 22:08:57.688\\u003cbr\\u003e\",\"type\":\"scattermapbox\"}],\"name\":\"2024-01-17 22:09:14.989\"},{\"data\":[{\"lat\":[33.8934],\"lon\":[35.4849],\"marker\":{\"color\":\"rgba(0,0,0,0)\",\"size\":0},\"mode\":\"markers\",\"type\":\"scattermapbox\"},{\"lat\":[33.8934],\"lon\":[35.4849],\"marker\":{\"color\":\"rgba(0,0,0,0)\",\"size\":0},\"mode\":\"markers\",\"type\":\"scattermapbox\"},{\"lat\":[33.8934],\"lon\":[35.4849],\"marker\":{\"color\":\"blue\",\"opacity\":1,\"size\":10},\"mode\":\"markers\",\"name\":\"Current: potential_newly_active_loc\",\"text\":\"Latitude: 33.8934, Longitude: 35.4849\\u003cbr\\u003ecgi_id: 10529282\\u003cbr\\u003epotential_session_end: None\\u003cbr\\u003epotential_newly_active_location: False\\u003cbr\\u003eSTART_DATE: 2024-01-17 22:13:48.251\\u003cbr\\u003e\",\"type\":\"scattermapbox\"},{\"lat\":[33.8934],\"lon\":[35.4849],\"marker\":{\"color\":\"rgba(0,0,0,0)\",\"size\":0},\"mode\":\"markers\",\"type\":\"scattermapbox\"},{\"lat\":[33.8934],\"lon\":[35.4849],\"marker\":{\"color\":\"yellow\",\"opacity\":1,\"size\":20},\"mode\":\"markers\",\"name\":\"Current: No conditions met\",\"text\":\"Latitude: 33.8934, Longitude: 35.4849\\u003cbr\\u003ecgi_id: 10529282\\u003cbr\\u003epotential_session_end: None\\u003cbr\\u003epotential_newly_active_location: False\\u003cbr\\u003eSTART_DATE: 2024-01-17 22:13:48.251\\u003cbr\\u003e\",\"type\":\"scattermapbox\"},{\"lat\":[33.8891],\"lon\":[35.486],\"marker\":{\"color\":\"rgba(0,0,0,0)\",\"size\":0},\"mode\":\"markers\",\"type\":\"scattermapbox\"},{\"lat\":[33.8891],\"lon\":[35.486],\"marker\":{\"color\":\"rgba(0,0,0,0)\",\"size\":0},\"mode\":\"markers\",\"type\":\"scattermapbox\"},{\"lat\":[33.8891],\"lon\":[35.486],\"marker\":{\"color\":\"blue\",\"opacity\":0.6,\"size\":9},\"mode\":\"markers\",\"name\":\"Previous: potential_newly_active_loc\",\"text\":\"Latitude: 33.8891, Longitude: 35.486\\u003cbr\\u003ecgi_id: 10610948\\u003cbr\\u003epotential_session_end: None\\u003cbr\\u003epotential_newly_active_location: False\\u003cbr\\u003eSTART_DATE: 2024-01-17 22:09:14.989\\u003cbr\\u003e\",\"type\":\"scattermapbox\"},{\"lat\":[33.8891],\"lon\":[35.486],\"marker\":{\"color\":\"rgba(0,0,0,0)\",\"size\":0},\"mode\":\"markers\",\"type\":\"scattermapbox\"},{\"lat\":[33.8891],\"lon\":[35.486],\"marker\":{\"color\":\"yellow\",\"opacity\":0.6,\"size\":18},\"mode\":\"markers\",\"name\":\"Previous: No conditions met\",\"text\":\"Latitude: 33.8891, Longitude: 35.486\\u003cbr\\u003ecgi_id: 10610948\\u003cbr\\u003epotential_session_end: None\\u003cbr\\u003epotential_newly_active_location: False\\u003cbr\\u003eSTART_DATE: 2024-01-17 22:09:14.989\\u003cbr\\u003e\",\"type\":\"scattermapbox\"}],\"name\":\"2024-01-17 22:13:48.251\"},{\"data\":[{\"lat\":[33.8891],\"lon\":[35.486],\"marker\":{\"color\":\"rgba(0,0,0,0)\",\"size\":0},\"mode\":\"markers\",\"type\":\"scattermapbox\"},{\"lat\":[33.8891],\"lon\":[35.486],\"marker\":{\"color\":\"rgba(0,0,0,0)\",\"size\":0},\"mode\":\"markers\",\"type\":\"scattermapbox\"},{\"lat\":[33.8891],\"lon\":[35.486],\"marker\":{\"color\":\"blue\",\"opacity\":1,\"size\":10},\"mode\":\"markers\",\"name\":\"Current: potential_newly_active_loc\",\"text\":\"Latitude: 33.8891, Longitude: 35.486\\u003cbr\\u003ecgi_id: 10610945\\u003cbr\\u003epotential_session_end: None\\u003cbr\\u003epotential_newly_active_location: False\\u003cbr\\u003eSTART_DATE: 2024-01-17 22:14:06.150\\u003cbr\\u003e\",\"type\":\"scattermapbox\"},{\"lat\":[33.8891],\"lon\":[35.486],\"marker\":{\"color\":\"rgba(0,0,0,0)\",\"size\":0},\"mode\":\"markers\",\"type\":\"scattermapbox\"},{\"lat\":[33.8891],\"lon\":[35.486],\"marker\":{\"color\":\"yellow\",\"opacity\":1,\"size\":20},\"mode\":\"markers\",\"name\":\"Current: No conditions met\",\"text\":\"Latitude: 33.8891, Longitude: 35.486\\u003cbr\\u003ecgi_id: 10610945\\u003cbr\\u003epotential_session_end: None\\u003cbr\\u003epotential_newly_active_location: False\\u003cbr\\u003eSTART_DATE: 2024-01-17 22:14:06.150\\u003cbr\\u003e\",\"type\":\"scattermapbox\"},{\"lat\":[33.8934],\"lon\":[35.4849],\"marker\":{\"color\":\"rgba(0,0,0,0)\",\"size\":0},\"mode\":\"markers\",\"type\":\"scattermapbox\"},{\"lat\":[33.8934],\"lon\":[35.4849],\"marker\":{\"color\":\"rgba(0,0,0,0)\",\"size\":0},\"mode\":\"markers\",\"type\":\"scattermapbox\"},{\"lat\":[33.8934],\"lon\":[35.4849],\"marker\":{\"color\":\"blue\",\"opacity\":0.6,\"size\":9},\"mode\":\"markers\",\"name\":\"Previous: potential_newly_active_loc\",\"text\":\"Latitude: 33.8934, Longitude: 35.4849\\u003cbr\\u003ecgi_id: 10529282\\u003cbr\\u003epotential_session_end: None\\u003cbr\\u003epotential_newly_active_location: False\\u003cbr\\u003eSTART_DATE: 2024-01-17 22:13:48.251\\u003cbr\\u003e\",\"type\":\"scattermapbox\"},{\"lat\":[33.8934],\"lon\":[35.4849],\"marker\":{\"color\":\"rgba(0,0,0,0)\",\"size\":0},\"mode\":\"markers\",\"type\":\"scattermapbox\"},{\"lat\":[33.8934],\"lon\":[35.4849],\"marker\":{\"color\":\"yellow\",\"opacity\":0.6,\"size\":18},\"mode\":\"markers\",\"name\":\"Previous: No conditions met\",\"text\":\"Latitude: 33.8934, Longitude: 35.4849\\u003cbr\\u003ecgi_id: 10529282\\u003cbr\\u003epotential_session_end: None\\u003cbr\\u003epotential_newly_active_location: False\\u003cbr\\u003eSTART_DATE: 2024-01-17 22:13:48.251\\u003cbr\\u003e\",\"type\":\"scattermapbox\"}],\"name\":\"2024-01-17 22:14:06.150\"},{\"data\":[{\"lat\":[33.8934],\"lon\":[35.4849],\"marker\":{\"color\":\"rgba(0,0,0,0)\",\"size\":0},\"mode\":\"markers\",\"type\":\"scattermapbox\"},{\"lat\":[33.8934],\"lon\":[35.4849],\"marker\":{\"color\":\"rgba(0,0,0,0)\",\"size\":0},\"mode\":\"markers\",\"type\":\"scattermapbox\"},{\"lat\":[33.8934],\"lon\":[35.4849],\"marker\":{\"color\":\"blue\",\"opacity\":1,\"size\":10},\"mode\":\"markers\",\"name\":\"Current: potential_newly_active_loc\",\"text\":\"Latitude: 33.8934, Longitude: 35.4849\\u003cbr\\u003ecgi_id: 10529281\\u003cbr\\u003epotential_session_end: None\\u003cbr\\u003epotential_newly_active_location: False\\u003cbr\\u003eSTART_DATE: 2024-01-17 22:16:12.972\\u003cbr\\u003e\",\"type\":\"scattermapbox\"},{\"lat\":[33.8934],\"lon\":[35.4849],\"marker\":{\"color\":\"rgba(0,0,0,0)\",\"size\":0},\"mode\":\"markers\",\"type\":\"scattermapbox\"},{\"lat\":[33.8934],\"lon\":[35.4849],\"marker\":{\"color\":\"yellow\",\"opacity\":1,\"size\":20},\"mode\":\"markers\",\"name\":\"Current: No conditions met\",\"text\":\"Latitude: 33.8934, Longitude: 35.4849\\u003cbr\\u003ecgi_id: 10529281\\u003cbr\\u003epotential_session_end: None\\u003cbr\\u003epotential_newly_active_location: False\\u003cbr\\u003eSTART_DATE: 2024-01-17 22:16:12.972\\u003cbr\\u003e\",\"type\":\"scattermapbox\"},{\"lat\":[33.8891],\"lon\":[35.486],\"marker\":{\"color\":\"rgba(0,0,0,0)\",\"size\":0},\"mode\":\"markers\",\"type\":\"scattermapbox\"},{\"lat\":[33.8891],\"lon\":[35.486],\"marker\":{\"color\":\"rgba(0,0,0,0)\",\"size\":0},\"mode\":\"markers\",\"type\":\"scattermapbox\"},{\"lat\":[33.8891],\"lon\":[35.486],\"marker\":{\"color\":\"blue\",\"opacity\":0.6,\"size\":9},\"mode\":\"markers\",\"name\":\"Previous: potential_newly_active_loc\",\"text\":\"Latitude: 33.8891, Longitude: 35.486\\u003cbr\\u003ecgi_id: 10610945\\u003cbr\\u003epotential_session_end: None\\u003cbr\\u003epotential_newly_active_location: False\\u003cbr\\u003eSTART_DATE: 2024-01-17 22:14:06.150\\u003cbr\\u003e\",\"type\":\"scattermapbox\"},{\"lat\":[33.8891],\"lon\":[35.486],\"marker\":{\"color\":\"rgba(0,0,0,0)\",\"size\":0},\"mode\":\"markers\",\"type\":\"scattermapbox\"},{\"lat\":[33.8891],\"lon\":[35.486],\"marker\":{\"color\":\"yellow\",\"opacity\":0.6,\"size\":18},\"mode\":\"markers\",\"name\":\"Previous: No conditions met\",\"text\":\"Latitude: 33.8891, Longitude: 35.486\\u003cbr\\u003ecgi_id: 10610945\\u003cbr\\u003epotential_session_end: None\\u003cbr\\u003epotential_newly_active_location: False\\u003cbr\\u003eSTART_DATE: 2024-01-17 22:14:06.150\\u003cbr\\u003e\",\"type\":\"scattermapbox\"}],\"name\":\"2024-01-17 22:16:12.972\"}]);\n",
       "                        }).then(function(){\n",
       "                            \n",
       "var gd = document.getElementById('4d5e5f0a-c6ec-4865-95dd-f17ed05bd290');\n",
       "var x = new MutationObserver(function (mutations, observer) {{\n",
       "        var display = window.getComputedStyle(gd).display;\n",
       "        if (!display || display === 'none') {{\n",
       "            console.log([gd, 'removed!']);\n",
       "            Plotly.purge(gd);\n",
       "            observer.disconnect();\n",
       "        }}\n",
       "}});\n",
       "\n",
       "// Listen for the removal of the full notebook cells\n",
       "var notebookContainer = gd.closest('#notebook-container');\n",
       "if (notebookContainer) {{\n",
       "    x.observe(notebookContainer, {childList: true});\n",
       "}}\n",
       "\n",
       "// Listen for the clearing of the current output cell\n",
       "var outputEl = gd.closest('.output');\n",
       "if (outputEl) {{\n",
       "    x.observe(outputEl, {childList: true});\n",
       "}}\n",
       "\n",
       "                        })                };                });            </script>        </div>"
      ]
     },
     "metadata": {},
     "output_type": "display_data"
    }
   ],
   "source": [
    "hover_cols = ['cgi_id','potential_session_end','potential_newly_active_location',\"START_DATE\"]\n",
    "\n",
    "plot_trace(df[4050:4070].reset_index(drop=True),hover_cols=hover_cols)\n"
   ]
  },
  {
   "cell_type": "code",
   "execution_count": 62,
   "metadata": {},
   "outputs": [
    {
     "data": {
      "text/html": [
       "<div>\n",
       "<style scoped>\n",
       "    .dataframe tbody tr th:only-of-type {\n",
       "        vertical-align: middle;\n",
       "    }\n",
       "\n",
       "    .dataframe tbody tr th {\n",
       "        vertical-align: top;\n",
       "    }\n",
       "\n",
       "    .dataframe thead th {\n",
       "        text-align: right;\n",
       "    }\n",
       "</style>\n",
       "<table border=\"1\" class=\"dataframe\">\n",
       "  <thead>\n",
       "    <tr style=\"text-align: right;\">\n",
       "      <th></th>\n",
       "      <th>imsi_id</th>\n",
       "      <th>cgi_id</th>\n",
       "      <th>imei_id</th>\n",
       "      <th>location_azimuth</th>\n",
       "      <th>location_latitude</th>\n",
       "      <th>location_longitude</th>\n",
       "      <th>START_DATE</th>\n",
       "      <th>END_DATE</th>\n",
       "      <th>Duration(s)</th>\n",
       "      <th>number_of_sectors</th>\n",
       "      <th>potential_overshoot</th>\n",
       "      <th>switching_overshoot</th>\n",
       "      <th>potential_session_end</th>\n",
       "      <th>potential_newly_active_location</th>\n",
       "      <th>Overshoot</th>\n",
       "    </tr>\n",
       "  </thead>\n",
       "  <tbody>\n",
       "    <tr>\n",
       "      <th>3726</th>\n",
       "      <td>151967466595180</td>\n",
       "      <td>10532614</td>\n",
       "      <td>509593926863172</td>\n",
       "      <td>50</td>\n",
       "      <td>33.8838</td>\n",
       "      <td>35.4920</td>\n",
       "      <td>2024-01-17 13:18:44.611</td>\n",
       "      <td>2024-01-17 13:18:44.611</td>\n",
       "      <td>0.000</td>\n",
       "      <td>175</td>\n",
       "      <td>True</td>\n",
       "      <td>True</td>\n",
       "      <td>False</td>\n",
       "      <td>False</td>\n",
       "      <td>True</td>\n",
       "    </tr>\n",
       "    <tr>\n",
       "      <th>3773</th>\n",
       "      <td>151967466595180</td>\n",
       "      <td>10584071</td>\n",
       "      <td>509593926863172</td>\n",
       "      <td>155</td>\n",
       "      <td>33.8948</td>\n",
       "      <td>35.5050</td>\n",
       "      <td>2024-01-17 14:32:37.860</td>\n",
       "      <td>2024-01-17 14:32:37.860</td>\n",
       "      <td>0.000</td>\n",
       "      <td>170</td>\n",
       "      <td>True</td>\n",
       "      <td>False</td>\n",
       "      <td>False</td>\n",
       "      <td>False</td>\n",
       "      <td>True</td>\n",
       "    </tr>\n",
       "    <tr>\n",
       "      <th>3866</th>\n",
       "      <td>151967466595180</td>\n",
       "      <td>10532614</td>\n",
       "      <td>509593926863172</td>\n",
       "      <td>50</td>\n",
       "      <td>33.8838</td>\n",
       "      <td>35.4920</td>\n",
       "      <td>2024-01-17 15:15:16.721</td>\n",
       "      <td>2024-01-17 15:15:16.721</td>\n",
       "      <td>0.000</td>\n",
       "      <td>175</td>\n",
       "      <td>True</td>\n",
       "      <td>True</td>\n",
       "      <td>False</td>\n",
       "      <td>False</td>\n",
       "      <td>True</td>\n",
       "    </tr>\n",
       "    <tr>\n",
       "      <th>3868</th>\n",
       "      <td>151967466595180</td>\n",
       "      <td>10532614</td>\n",
       "      <td>509593926863172</td>\n",
       "      <td>50</td>\n",
       "      <td>33.8838</td>\n",
       "      <td>35.4920</td>\n",
       "      <td>2024-01-17 15:17:19.581</td>\n",
       "      <td>2024-01-17 15:17:19.581</td>\n",
       "      <td>0.000</td>\n",
       "      <td>175</td>\n",
       "      <td>True</td>\n",
       "      <td>True</td>\n",
       "      <td>False</td>\n",
       "      <td>False</td>\n",
       "      <td>True</td>\n",
       "    </tr>\n",
       "    <tr>\n",
       "      <th>3870</th>\n",
       "      <td>151967466595180</td>\n",
       "      <td>10532614</td>\n",
       "      <td>509593926863172</td>\n",
       "      <td>50</td>\n",
       "      <td>33.8838</td>\n",
       "      <td>35.4920</td>\n",
       "      <td>2024-01-17 15:21:42.631</td>\n",
       "      <td>2024-01-17 15:21:42.631</td>\n",
       "      <td>0.000</td>\n",
       "      <td>175</td>\n",
       "      <td>True</td>\n",
       "      <td>True</td>\n",
       "      <td>False</td>\n",
       "      <td>False</td>\n",
       "      <td>True</td>\n",
       "    </tr>\n",
       "    <tr>\n",
       "      <th>3872</th>\n",
       "      <td>151967466595180</td>\n",
       "      <td>10532614</td>\n",
       "      <td>509593926863172</td>\n",
       "      <td>50</td>\n",
       "      <td>33.8838</td>\n",
       "      <td>35.4920</td>\n",
       "      <td>2024-01-17 15:22:08.874</td>\n",
       "      <td>2024-01-17 15:22:08.874</td>\n",
       "      <td>0.000</td>\n",
       "      <td>175</td>\n",
       "      <td>True</td>\n",
       "      <td>True</td>\n",
       "      <td>False</td>\n",
       "      <td>False</td>\n",
       "      <td>True</td>\n",
       "    </tr>\n",
       "    <tr>\n",
       "      <th>3907</th>\n",
       "      <td>151967466595180</td>\n",
       "      <td>10532614</td>\n",
       "      <td>509593926863172</td>\n",
       "      <td>50</td>\n",
       "      <td>33.8838</td>\n",
       "      <td>35.4920</td>\n",
       "      <td>2024-01-17 15:47:18.159</td>\n",
       "      <td>2024-01-17 15:47:18.159</td>\n",
       "      <td>0.000</td>\n",
       "      <td>175</td>\n",
       "      <td>True</td>\n",
       "      <td>False</td>\n",
       "      <td>False</td>\n",
       "      <td>False</td>\n",
       "      <td>True</td>\n",
       "    </tr>\n",
       "    <tr>\n",
       "      <th>3931</th>\n",
       "      <td>151967466595180</td>\n",
       "      <td>10532614</td>\n",
       "      <td>509593926863172</td>\n",
       "      <td>50</td>\n",
       "      <td>33.8838</td>\n",
       "      <td>35.4920</td>\n",
       "      <td>2024-01-17 16:02:43.769</td>\n",
       "      <td>2024-01-17 16:02:43.769</td>\n",
       "      <td>0.000</td>\n",
       "      <td>175</td>\n",
       "      <td>True</td>\n",
       "      <td>False</td>\n",
       "      <td>False</td>\n",
       "      <td>False</td>\n",
       "      <td>True</td>\n",
       "    </tr>\n",
       "    <tr>\n",
       "      <th>3936</th>\n",
       "      <td>151967466595180</td>\n",
       "      <td>10532614</td>\n",
       "      <td>509593926863172</td>\n",
       "      <td>50</td>\n",
       "      <td>33.8838</td>\n",
       "      <td>35.4920</td>\n",
       "      <td>2024-01-17 16:11:52.533</td>\n",
       "      <td>2024-01-17 16:11:52.533</td>\n",
       "      <td>0.000</td>\n",
       "      <td>175</td>\n",
       "      <td>True</td>\n",
       "      <td>True</td>\n",
       "      <td>False</td>\n",
       "      <td>False</td>\n",
       "      <td>True</td>\n",
       "    </tr>\n",
       "    <tr>\n",
       "      <th>3938</th>\n",
       "      <td>151967466595180</td>\n",
       "      <td>10532614</td>\n",
       "      <td>509593926863172</td>\n",
       "      <td>50</td>\n",
       "      <td>33.8838</td>\n",
       "      <td>35.4920</td>\n",
       "      <td>2024-01-17 16:26:39.582</td>\n",
       "      <td>2024-01-17 16:26:39.582</td>\n",
       "      <td>0.000</td>\n",
       "      <td>175</td>\n",
       "      <td>True</td>\n",
       "      <td>True</td>\n",
       "      <td>False</td>\n",
       "      <td>False</td>\n",
       "      <td>True</td>\n",
       "    </tr>\n",
       "    <tr>\n",
       "      <th>3940</th>\n",
       "      <td>151967466595180</td>\n",
       "      <td>10532614</td>\n",
       "      <td>509593926863172</td>\n",
       "      <td>50</td>\n",
       "      <td>33.8838</td>\n",
       "      <td>35.4920</td>\n",
       "      <td>2024-01-17 16:27:25.020</td>\n",
       "      <td>2024-01-17 16:27:25.020</td>\n",
       "      <td>0.000</td>\n",
       "      <td>175</td>\n",
       "      <td>True</td>\n",
       "      <td>True</td>\n",
       "      <td>False</td>\n",
       "      <td>False</td>\n",
       "      <td>True</td>\n",
       "    </tr>\n",
       "    <tr>\n",
       "      <th>3945</th>\n",
       "      <td>151967466595180</td>\n",
       "      <td>10505480</td>\n",
       "      <td>509593926863172</td>\n",
       "      <td>285</td>\n",
       "      <td>33.8507</td>\n",
       "      <td>35.5646</td>\n",
       "      <td>2024-01-17 16:29:30.745</td>\n",
       "      <td>2024-01-17 16:29:31.443</td>\n",
       "      <td>0.698</td>\n",
       "      <td>1</td>\n",
       "      <td>True</td>\n",
       "      <td>False</td>\n",
       "      <td>True</td>\n",
       "      <td>False</td>\n",
       "      <td>True</td>\n",
       "    </tr>\n",
       "    <tr>\n",
       "      <th>3947</th>\n",
       "      <td>151967466595180</td>\n",
       "      <td>11091208</td>\n",
       "      <td>509593926863172</td>\n",
       "      <td>270</td>\n",
       "      <td>33.7792</td>\n",
       "      <td>35.6390</td>\n",
       "      <td>2024-01-17 16:29:44.543</td>\n",
       "      <td>2024-01-17 16:29:44.801</td>\n",
       "      <td>0.258</td>\n",
       "      <td>0</td>\n",
       "      <td>True</td>\n",
       "      <td>True</td>\n",
       "      <td>True</td>\n",
       "      <td>False</td>\n",
       "      <td>True</td>\n",
       "    </tr>\n",
       "    <tr>\n",
       "      <th>3949</th>\n",
       "      <td>151967466595180</td>\n",
       "      <td>11091208</td>\n",
       "      <td>509593926863172</td>\n",
       "      <td>270</td>\n",
       "      <td>33.7792</td>\n",
       "      <td>35.6390</td>\n",
       "      <td>2024-01-17 16:29:50.763</td>\n",
       "      <td>2024-01-17 16:29:50.763</td>\n",
       "      <td>0.000</td>\n",
       "      <td>0</td>\n",
       "      <td>True</td>\n",
       "      <td>True</td>\n",
       "      <td>False</td>\n",
       "      <td>False</td>\n",
       "      <td>True</td>\n",
       "    </tr>\n",
       "    <tr>\n",
       "      <th>3964</th>\n",
       "      <td>151967466595180</td>\n",
       "      <td>10567681</td>\n",
       "      <td>509593926863172</td>\n",
       "      <td>65</td>\n",
       "      <td>33.8864</td>\n",
       "      <td>35.5859</td>\n",
       "      <td>2024-01-17 16:40:02.158</td>\n",
       "      <td>2024-01-17 16:40:03.465</td>\n",
       "      <td>1.307</td>\n",
       "      <td>0</td>\n",
       "      <td>True</td>\n",
       "      <td>False</td>\n",
       "      <td>True</td>\n",
       "      <td>False</td>\n",
       "      <td>True</td>\n",
       "    </tr>\n",
       "    <tr>\n",
       "      <th>4061</th>\n",
       "      <td>151967466595180</td>\n",
       "      <td>10567683</td>\n",
       "      <td>509593926863172</td>\n",
       "      <td>260</td>\n",
       "      <td>33.8864</td>\n",
       "      <td>35.5859</td>\n",
       "      <td>2024-01-17 22:04:56.525</td>\n",
       "      <td>2024-01-17 22:06:06.003</td>\n",
       "      <td>69.478</td>\n",
       "      <td>0</td>\n",
       "      <td>True</td>\n",
       "      <td>False</td>\n",
       "      <td>True</td>\n",
       "      <td>False</td>\n",
       "      <td>True</td>\n",
       "    </tr>\n",
       "    <tr>\n",
       "      <th>4063</th>\n",
       "      <td>151967466595180</td>\n",
       "      <td>10567681</td>\n",
       "      <td>509593926863172</td>\n",
       "      <td>65</td>\n",
       "      <td>33.8864</td>\n",
       "      <td>35.5859</td>\n",
       "      <td>2024-01-17 22:07:55.905</td>\n",
       "      <td>2024-01-17 22:07:55.907</td>\n",
       "      <td>0.002</td>\n",
       "      <td>0</td>\n",
       "      <td>True</td>\n",
       "      <td>False</td>\n",
       "      <td>True</td>\n",
       "      <td>False</td>\n",
       "      <td>True</td>\n",
       "    </tr>\n",
       "    <tr>\n",
       "      <th>4194</th>\n",
       "      <td>151967466595180</td>\n",
       "      <td>10532614</td>\n",
       "      <td>509593926863172</td>\n",
       "      <td>50</td>\n",
       "      <td>33.8838</td>\n",
       "      <td>35.4920</td>\n",
       "      <td>2024-01-18 07:38:37.882</td>\n",
       "      <td>2024-01-18 07:38:37.882</td>\n",
       "      <td>0.000</td>\n",
       "      <td>175</td>\n",
       "      <td>True</td>\n",
       "      <td>False</td>\n",
       "      <td>True</td>\n",
       "      <td>False</td>\n",
       "      <td>True</td>\n",
       "    </tr>\n",
       "  </tbody>\n",
       "</table>\n",
       "</div>"
      ],
      "text/plain": [
       "              imsi_id    cgi_id          imei_id location_azimuth  \\\n",
       "3726  151967466595180  10532614  509593926863172               50   \n",
       "3773  151967466595180  10584071  509593926863172              155   \n",
       "3866  151967466595180  10532614  509593926863172               50   \n",
       "3868  151967466595180  10532614  509593926863172               50   \n",
       "3870  151967466595180  10532614  509593926863172               50   \n",
       "3872  151967466595180  10532614  509593926863172               50   \n",
       "3907  151967466595180  10532614  509593926863172               50   \n",
       "3931  151967466595180  10532614  509593926863172               50   \n",
       "3936  151967466595180  10532614  509593926863172               50   \n",
       "3938  151967466595180  10532614  509593926863172               50   \n",
       "3940  151967466595180  10532614  509593926863172               50   \n",
       "3945  151967466595180  10505480  509593926863172              285   \n",
       "3947  151967466595180  11091208  509593926863172              270   \n",
       "3949  151967466595180  11091208  509593926863172              270   \n",
       "3964  151967466595180  10567681  509593926863172               65   \n",
       "4061  151967466595180  10567683  509593926863172              260   \n",
       "4063  151967466595180  10567681  509593926863172               65   \n",
       "4194  151967466595180  10532614  509593926863172               50   \n",
       "\n",
       "      location_latitude  location_longitude              START_DATE  \\\n",
       "3726            33.8838             35.4920 2024-01-17 13:18:44.611   \n",
       "3773            33.8948             35.5050 2024-01-17 14:32:37.860   \n",
       "3866            33.8838             35.4920 2024-01-17 15:15:16.721   \n",
       "3868            33.8838             35.4920 2024-01-17 15:17:19.581   \n",
       "3870            33.8838             35.4920 2024-01-17 15:21:42.631   \n",
       "3872            33.8838             35.4920 2024-01-17 15:22:08.874   \n",
       "3907            33.8838             35.4920 2024-01-17 15:47:18.159   \n",
       "3931            33.8838             35.4920 2024-01-17 16:02:43.769   \n",
       "3936            33.8838             35.4920 2024-01-17 16:11:52.533   \n",
       "3938            33.8838             35.4920 2024-01-17 16:26:39.582   \n",
       "3940            33.8838             35.4920 2024-01-17 16:27:25.020   \n",
       "3945            33.8507             35.5646 2024-01-17 16:29:30.745   \n",
       "3947            33.7792             35.6390 2024-01-17 16:29:44.543   \n",
       "3949            33.7792             35.6390 2024-01-17 16:29:50.763   \n",
       "3964            33.8864             35.5859 2024-01-17 16:40:02.158   \n",
       "4061            33.8864             35.5859 2024-01-17 22:04:56.525   \n",
       "4063            33.8864             35.5859 2024-01-17 22:07:55.905   \n",
       "4194            33.8838             35.4920 2024-01-18 07:38:37.882   \n",
       "\n",
       "                    END_DATE  Duration(s)  number_of_sectors  \\\n",
       "3726 2024-01-17 13:18:44.611        0.000                175   \n",
       "3773 2024-01-17 14:32:37.860        0.000                170   \n",
       "3866 2024-01-17 15:15:16.721        0.000                175   \n",
       "3868 2024-01-17 15:17:19.581        0.000                175   \n",
       "3870 2024-01-17 15:21:42.631        0.000                175   \n",
       "3872 2024-01-17 15:22:08.874        0.000                175   \n",
       "3907 2024-01-17 15:47:18.159        0.000                175   \n",
       "3931 2024-01-17 16:02:43.769        0.000                175   \n",
       "3936 2024-01-17 16:11:52.533        0.000                175   \n",
       "3938 2024-01-17 16:26:39.582        0.000                175   \n",
       "3940 2024-01-17 16:27:25.020        0.000                175   \n",
       "3945 2024-01-17 16:29:31.443        0.698                  1   \n",
       "3947 2024-01-17 16:29:44.801        0.258                  0   \n",
       "3949 2024-01-17 16:29:50.763        0.000                  0   \n",
       "3964 2024-01-17 16:40:03.465        1.307                  0   \n",
       "4061 2024-01-17 22:06:06.003       69.478                  0   \n",
       "4063 2024-01-17 22:07:55.907        0.002                  0   \n",
       "4194 2024-01-18 07:38:37.882        0.000                175   \n",
       "\n",
       "     potential_overshoot switching_overshoot potential_session_end  \\\n",
       "3726                True                True                 False   \n",
       "3773                True               False                 False   \n",
       "3866                True                True                 False   \n",
       "3868                True                True                 False   \n",
       "3870                True                True                 False   \n",
       "3872                True                True                 False   \n",
       "3907                True               False                 False   \n",
       "3931                True               False                 False   \n",
       "3936                True                True                 False   \n",
       "3938                True                True                 False   \n",
       "3940                True                True                 False   \n",
       "3945                True               False                  True   \n",
       "3947                True                True                  True   \n",
       "3949                True                True                 False   \n",
       "3964                True               False                  True   \n",
       "4061                True               False                  True   \n",
       "4063                True               False                  True   \n",
       "4194                True               False                  True   \n",
       "\n",
       "      potential_newly_active_location Overshoot  \n",
       "3726                            False      True  \n",
       "3773                            False      True  \n",
       "3866                            False      True  \n",
       "3868                            False      True  \n",
       "3870                            False      True  \n",
       "3872                            False      True  \n",
       "3907                            False      True  \n",
       "3931                            False      True  \n",
       "3936                            False      True  \n",
       "3938                            False      True  \n",
       "3940                            False      True  \n",
       "3945                            False      True  \n",
       "3947                            False      True  \n",
       "3949                            False      True  \n",
       "3964                            False      True  \n",
       "4061                            False      True  \n",
       "4063                            False      True  \n",
       "4194                            False      True  "
      ]
     },
     "execution_count": 62,
     "metadata": {},
     "output_type": "execute_result"
    }
   ],
   "source": [
    "df[df[\"potential_overshoot\"] | df[\"switching_overshoot\"]][120:].head(50)"
   ]
  },
  {
   "cell_type": "code",
   "execution_count": null,
   "metadata": {},
   "outputs": [],
   "source": [
    "import math\n",
    "import folium\n",
    "import haversine\n",
    "\n",
    "def get_correlation_plot_folium(df):\n",
    "        # df_geo = self.cassandra_tools.get_device_history_geo(device_id= geo_id ,start_date= start_date ,end_date= end_date,server = server)\n",
    "        # df_imsi = self.cassandra_tools.get_device_history_imsi(imsi_id= imsi_id , start_date= start_date , end_date= end_date,server= server)\n",
    "        m = folium.Map(location=[df['location_latitude'][0],df['location_longitude'][0]], zoom_start=15)\n",
    "        \n",
    "        # df_geo = self.utils.convert_ms_to_datetime(df_geo)\n",
    "        \n",
    "        df = df.dropna(subset=['location_latitude','location_longitude','location_azimuth'])\n",
    "        for index , row in df.iterrows():\n",
    "            latitude = row['location_latitude']\n",
    "            longitude = row['location_longitude']\n",
    "            if not row['location_azimuth'].isdigit():\n",
    "                continue\n",
    "            azimuth=int(row['location_azimuth'])\n",
    "            popup = row['START_DATE']\n",
    "            triangle_coordinates = calculate_sector_triangle(latitude, longitude, azimuth)\n",
    "            folium.Polygon(locations=triangle_coordinates, color= \"red\" if row[\"OvershootFlag\"] else \"green\", fill=True,  fill_opacity=0.1).add_to(m)\n",
    "            folium.CircleMarker([latitude, longitude],radius=1,color='red',popup=popup).add_to(m)\n",
    "            \n",
    "        # for index , row in df_geo.iterrows():\n",
    "        #     latitude = row['location_latitude']\n",
    "        #     longitude = row['location_longitude']\n",
    "        #     popup = row['usage_timeframe']\n",
    "        #     folium.CircleMarker([latitude, longitude],radius=1,color='blue',popup=popup).add_to(m)\n",
    "        # time = datetime.now()\n",
    "        m.save( 'Correlation_map.html')\n",
    "        return m\n",
    "        \n",
    "def calculate_coordinates( latitude, longitude, azimuth_deg , distance_km = 0.15 ,radius = 6371):\n",
    "        earth_radius = radius\n",
    "\n",
    "        azimuth_rad = math.radians(azimuth_deg)\n",
    "\n",
    "        new_lat = math.degrees(math.asin(math.sin(math.radians(latitude)) * math.cos(distance_km / earth_radius) +\n",
    "                                         math.cos(math.radians(latitude)) * math.sin(distance_km / earth_radius) *\n",
    "                                         math.cos(azimuth_rad)))\n",
    "        new_lon = longitude + math.degrees(math.atan2(math.sin(azimuth_rad) * math.sin(distance_km / earth_radius) * math.cos(math.radians(latitude)),\n",
    "                                                           math.cos(distance_km / earth_radius) - math.sin(math.radians(latitude)) * math.sin(math.radians(new_lat))))\n",
    "        return    new_lat,new_lon\n",
    "    \n",
    "def calculate_sector_triangle(latitude, longitude, azimuth, distance_km:float = 0.15):\n",
    "    azimuth1 = (azimuth - 30) % 360\n",
    "    azimuth2 = (azimuth + 30) % 360\n",
    "\n",
    "    vertex1 = calculate_coordinates(latitude, longitude, azimuth1 )\n",
    "    vertex2 = calculate_coordinates(latitude, longitude, azimuth2 )\n",
    "\n",
    "    return [\n",
    "        list([latitude,longitude]),\n",
    "        list(vertex1),\n",
    "        list(vertex2)\n",
    "    ]\n",
    "\n",
    "def find_circumcenter_radius(latitude, longitude, azimuth):\n",
    "    vertices = calculate_sector_triangle(latitude, longitude, azimuth)\n",
    "    if len(vertices) != 3:\n",
    "        raise ValueError(\"The input list must contain exactly three vertices.\")\n",
    "\n",
    "    circumcenter_x = (vertices[0][0] + vertices[1][0] + vertices[2][0]) / 3\n",
    "    circumcenter_y = (vertices[0][1] + vertices[1][1] + vertices[2][1]) / 3\n",
    "    \n",
    "    circumcenter = (circumcenter_x, circumcenter_y)\n",
    "    radius = haversine(circumcenter[0], circumcenter[1], vertices[0][0], vertices[0][1])\n",
    "\n",
    "    return circumcenter, radius\n",
    "get_correlation_plot_folium(df)\n"
   ]
  }
 ],
 "metadata": {
  "kernelspec": {
   "display_name": "tsvcis",
   "language": "python",
   "name": "python3"
  },
  "language_info": {
   "codemirror_mode": {
    "name": "ipython",
    "version": 3
   },
   "file_extension": ".py",
   "mimetype": "text/x-python",
   "name": "python",
   "nbconvert_exporter": "python",
   "pygments_lexer": "ipython3",
   "version": "3.10.0"
  }
 },
 "nbformat": 4,
 "nbformat_minor": 2
}
